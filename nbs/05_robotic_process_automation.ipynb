{
 "cells": [
  {
   "cell_type": "markdown",
   "id": "unlimited-double",
   "metadata": {},
   "source": [
    "# Robotic Process Automation"
   ]
  },
  {
   "cell_type": "markdown",
   "id": "metric-stanley",
   "metadata": {},
   "source": [
    "## Libraries"
   ]
  },
  {
   "cell_type": "markdown",
   "id": "little-template",
   "metadata": {},
   "source": [
    "* Install xeus-robot - https://github.com/jupyter-xeus/xeus-robot\n",
    "* Install selenium library and web driver - https://robotframework.org/SeleniumLibrary/"
   ]
  },
  {
   "cell_type": "markdown",
   "id": "compound-elephant",
   "metadata": {},
   "source": [
    "## Settings"
   ]
  },
  {
   "cell_type": "code",
   "execution_count": 9,
   "id": "clean-chicago",
   "metadata": {},
   "outputs": [],
   "source": [
    "*** Settings ***\n",
    "Documentation     Settings with reusable keywords and variables.\n",
    "...\n",
    "...               The system specific keywords created here form our own\n",
    "...               domain specific language. They utilize keywords provided\n",
    "...               by the imported SeleniumLibrary.\n",
    "Library           SeleniumLibrary\n",
    "\n",
    "*** Variables ***\n",
    "${SERVER}         localhost:7272\n",
    "${BROWSER}        Chrome\n",
    "${DELAY}          0\n",
    "${LOGIN URL}      http://${SERVER}/"
   ]
  },
  {
   "cell_type": "markdown",
   "id": "surface-lecture",
   "metadata": {},
   "source": [
    "## Test Cases"
   ]
  },
  {
   "cell_type": "code",
   "execution_count": null,
   "id": "unusual-guitar",
   "metadata": {},
   "outputs": [],
   "source": [
    "*** Test Cases ***\n"
   ]
  },
  {
   "cell_type": "code",
   "execution_count": null,
   "id": "through-detroit",
   "metadata": {},
   "outputs": [],
   "source": []
  },
  {
   "cell_type": "code",
   "execution_count": null,
   "id": "middle-apparatus",
   "metadata": {},
   "outputs": [],
   "source": []
  },
  {
   "cell_type": "code",
   "execution_count": null,
   "id": "marked-given",
   "metadata": {},
   "outputs": [],
   "source": []
  }
 ],
 "metadata": {
  "kernelspec": {
   "display_name": "RobotFramework (XRobot)",
   "language": "robotframework",
   "name": "xrobot"
  },
  "language_info": {
   "codemirror_mode": "robotframework",
   "file_extension": ".robot",
   "mimetype": "text/x-robotframework",
   "name": "robotframework",
   "pygments_lexer": "robotframework",
   "version": "3.2"
  }
 },
 "nbformat": 4,
 "nbformat_minor": 5
}
