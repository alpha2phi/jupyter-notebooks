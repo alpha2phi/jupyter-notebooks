{
 "cells": [
  {
   "cell_type": "markdown",
   "id": "cellular-boxing",
   "metadata": {
    "id": "cellular-boxing"
   },
   "source": [
    "# Network, Graph and Graph Database"
   ]
  },
  {
   "cell_type": "code",
   "execution_count": 9,
   "id": "featured-child",
   "metadata": {
    "id": "featured-child"
   },
   "outputs": [],
   "source": [
    "COLAB = True"
   ]
  },
  {
   "cell_type": "markdown",
   "id": "nEByr7JC6-GP",
   "metadata": {
    "id": "nEByr7JC6-GP"
   },
   "source": [
    "## Environment Setup"
   ]
  },
  {
   "cell_type": "code",
   "execution_count": 8,
   "id": "3zXQbS9y600v",
   "metadata": {
    "colab": {
     "base_uri": "https://localhost:8080/"
    },
    "id": "3zXQbS9y600v",
    "outputId": "bdb1aea4-ddd0-47a3-8b6f-5bc0ada8020b"
   },
   "outputs": [
    {
     "name": "stdout",
     "output_type": "stream",
     "text": [
      "  % Total    % Received % Xferd  Average Speed   Time    Time     Time  Current\n",
      "                                 Dload  Upload   Total   Spent    Left  Speed\n",
      "  0     0    0     0    0     0      0      0 --:--:-- --:--:-- --:--:--     0\n",
      "100  113M  100  113M    0     0  67.6M      0  0:00:01  0:00:01 --:--:-- 95.6M\n",
      "Directories in use:\n",
      "  home:         /content/neo4j\n",
      "  config:       /content/neo4j/conf\n",
      "  logs:         /content/neo4j/logs\n",
      "  plugins:      /content/neo4j/plugins\n",
      "  import:       /content/neo4j/import\n",
      "  data:         /content/neo4j/data\n",
      "  certificates: /content/neo4j/certificates\n",
      "  run:          /content/neo4j/run\n",
      "Starting Neo4j.\n",
      "Started neo4j (pid 246). It is available at http://localhost:7474/\n",
      "There may be a short delay until the server is ready.\n",
      "See /content/neo4j/logs/neo4j.log for current status.\n"
     ]
    }
   ],
   "source": [
    "# https://gist.github.com/korakot/328aaac51d78e589b4a176228e4bb06\n",
    "!curl -L https://neo4j.com/artifact.php?name=neo4j-community-4.2.5-unix.tar.gz -o neo4j.tar.gz\n",
    "!tar -xf neo4j.tar.gz\n",
    "!mv neo4j-community-4.2.5 neo4j\n",
    "!sed -i '/#dbms.security.auth_enabled/s/^#//g' neo4j/conf/neo4j.conf\n",
    "!neo4j/bin/neo4j start"
   ]
  },
  {
   "cell_type": "code",
   "execution_count": 16,
   "id": "mxBs1-nOAWW2",
   "metadata": {
    "colab": {
     "base_uri": "https://localhost:8080/"
    },
    "id": "mxBs1-nOAWW2",
    "outputId": "b5abf843-00ef-412f-cfb8-4d3ce0f45dd4"
   },
   "outputs": [
    {
     "name": "stdout",
     "output_type": "stream",
     "text": [
      "Collecting neo4j\n",
      "\u001b[?25l  Downloading https://files.pythonhosted.org/packages/36/f7/3c0b20ad7cdeac89d44e5380b0b4507995b1aec843692e3e76dd6cd1c638/neo4j-4.2.1.tar.gz (69kB)\n",
      "\u001b[K     |████████████████████████████████| 71kB 4.3MB/s  eta 0:00:01\n",
      "\u001b[?25hRequirement already satisfied: pytz in /usr/local/lib/python3.7/dist-packages (from neo4j) (2018.9)\n",
      "Building wheels for collected packages: neo4j\n",
      "  Building wheel for neo4j (setup.py) ... \u001b[?25l\u001b[?25hdone\n",
      "  Created wheel for neo4j: filename=neo4j-4.2.1-cp37-none-any.whl size=95190 sha256=bd1c723e15c380e4b37b0f97d5944486966d9eb698457896b3ae04f76f02db2e\n",
      "  Stored in directory: /root/.cache/pip/wheels/00/a8/69/083e04c2ffc0a7e026c9356cd5bb54c65128f3e08ef8371be0\n",
      "Successfully built neo4j\n",
      "Installing collected packages: neo4j\n",
      "Successfully installed neo4j-4.2.1\n",
      "Requirement already satisfied: tqdm in /usr/local/lib/python3.7/dist-packages (4.41.1)\n"
     ]
    }
   ],
   "source": [
    "!pip install neo4j\n",
    "!pip install tqdm"
   ]
  },
  {
   "cell_type": "markdown",
   "id": "surrounded-country",
   "metadata": {
    "id": "surrounded-country"
   },
   "source": [
    "## Prepare the dataset"
   ]
  },
  {
   "cell_type": "code",
   "execution_count": 14,
   "id": "configured-possible",
   "metadata": {
    "colab": {
     "base_uri": "https://localhost:8080/",
     "height": 565,
     "resources": {
      "http://localhost:8080/nbextensions/google.colab/files.js": {
       "data": "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",
       "headers": [
        [
         "content-type",
         "application/javascript"
        ]
       ],
       "ok": true,
       "status": 200,
       "status_text": ""
      }
     }
    },
    "id": "configured-possible",
    "outputId": "876f7e0c-f91b-4fd1-ed5d-e609ad80409e"
   },
   "outputs": [
    {
     "data": {
      "text/html": [
       "\n",
       "     <input type=\"file\" id=\"files-af19211d-e55f-4bdd-99ee-82ec60945b51\" name=\"files[]\" multiple disabled\n",
       "        style=\"border:none\" />\n",
       "     <output id=\"result-af19211d-e55f-4bdd-99ee-82ec60945b51\">\n",
       "      Upload widget is only available when the cell has been executed in the\n",
       "      current browser session. Please rerun this cell to enable.\n",
       "      </output>\n",
       "      <script src=\"/nbextensions/google.colab/files.js\"></script> "
      ],
      "text/plain": [
       "<IPython.core.display.HTML object>"
      ]
     },
     "metadata": {
      "tags": []
     },
     "output_type": "display_data"
    },
    {
     "name": "stdout",
     "output_type": "stream",
     "text": [
      "Saving kaggle.json to kaggle (1).json\n",
      "mkdir: cannot create directory ‘/root/.kaggle’: File exists\n",
      "Warning: Looks like you're using an outdated API Version, please consider updating (server 1.5.12 / client 1.5.4)\n",
      "ref                                                         title                                              size  lastUpdated          downloadCount  \n",
      "----------------------------------------------------------  ------------------------------------------------  -----  -------------------  -------------  \n",
      "gpreda/reddit-vaccine-myths                                 Reddit Vaccine Myths                              227KB  2021-04-30 20:52:11           4089  \n",
      "crowww/a-large-scale-fish-dataset                           A Large Scale Fish Dataset                          3GB  2021-04-28 17:03:01           2351  \n",
      "promptcloud/careerbuilder-job-listing-2020                  Careerbuilder Job Listing 2020                     42MB  2021-03-05 06:59:52            524  \n",
      "mathurinache/twitter-edge-nodes                             Twitter Edge Nodes                                342MB  2021-03-08 06:43:04            242  \n",
      "dhruvildave/wikibooks-dataset                               Wikibooks Dataset                                   1GB  2021-02-18 10:08:27           1461  \n",
      "imsparsh/musicnet-dataset                                   MusicNet Dataset                                   22GB  2021-02-18 14:12:19            829  \n",
      "alsgroup/end-als                                            End ALS Kaggle Challenge                           12GB  2021-04-08 12:16:37            564  \n",
      "nickuzmenkov/nih-chest-xrays-tfrecords                      NIH Chest X-rays TFRecords                         11GB  2021-03-09 04:49:23            351  \n",
      "simiotic/github-code-snippets                               GitHub Code Snippets                                7GB  2021-03-03 11:34:39             85  \n",
      "fatiimaezzahra/famous-iconic-women                          Famous Iconic Women                               838MB  2021-02-28 14:56:00            477  \n",
      "coloradokb/dandelionimages                                  DandelionImages                                     4GB  2021-02-19 20:03:47            210  \n",
      "mathurinache/the-lj-speech-dataset                          The LJ Speech Dataset                               3GB  2021-02-15 09:19:54            111  \n",
      "stuartjames/lights                                          LightS: Light Specularity Dataset                  18GB  2021-02-18 14:32:26             39  \n",
      "landrykezebou/lvzhdr-tone-mapping-benchmark-dataset-tmonet  LVZ-HDR Tone Mapping Benchmark Dataset (TMO-Net)   24GB  2021-03-01 05:03:40             57  \n",
      "imsparsh/accentdb-core-extended                             AccentDB - Core & Extended                          6GB  2021-02-17 14:22:54             49  \n",
      "nickuzmenkov/ranzcr-clip-kfold-tfrecords                    RANZCR CLiP KFold TFRecords                         2GB  2021-02-21 13:29:51             64  \n",
      "datasnaek/youtube-new                                       Trending YouTube Video Statistics                 201MB  2019-06-03 00:56:47         138082  \n",
      "zynicide/wine-reviews                                       Wine Reviews                                       51MB  2017-11-27 17:08:04         135160  \n",
      "datasnaek/chess                                             Chess Game Dataset (Lichess)                        3MB  2017-09-04 03:09:09          17405  \n",
      "rtatman/188-million-us-wildfires                            1.88 Million US Wildfires                         168MB  2020-05-12 21:03:49          15264  \n",
      "Downloading arxiv.zip to /content\n",
      " 99% 945M/953M [00:15<00:00, 54.3MB/s]\n",
      "100% 953M/953M [00:15<00:00, 65.4MB/s]\n",
      "Archive:  arxiv.zip\n",
      "  inflating: arxiv-metadata-oai-snapshot.json  \n"
     ]
    }
   ],
   "source": [
    "if COLAB:\n",
    "    # Download from Kaggle - https://www.kaggle.com/general/74235\n",
    "    ! pip install -q kaggle\n",
    "    \n",
    "    from google.colab import files\n",
    "    files.upload()    # Upload kaggle.json\n",
    "    \n",
    "    !mkdir ~/.kaggle\n",
    "    !cp kaggle.json ~/.kaggle/\n",
    "    !chmod 600 ~/.kaggle/kaggle.json\n",
    "    \n",
    "    !kaggle datasets list\n",
    "    !kaggle datasets download -d Cornell-University/arxiv\n",
    "    !unzip \\*.zip && rm *.zip"
   ]
  },
  {
   "cell_type": "code",
   "execution_count": 15,
   "id": "crucial-quest",
   "metadata": {
    "id": "crucial-quest"
   },
   "outputs": [],
   "source": [
    "# https://towardsdatascience.com/create-a-graph-database-in-neo4j-using-python-4172d40f89c4\n",
    "# https://colab.research.google.com/drive/1J9__HotNoINHpucoipLH-4qWc48GALAk?usp=sharing"
   ]
  },
  {
   "cell_type": "markdown",
   "id": "-eTWZTOeAcyE",
   "metadata": {
    "id": "-eTWZTOeAcyE"
   },
   "source": [
    "## EDA"
   ]
  },
  {
   "cell_type": "code",
   "execution_count": 17,
   "id": "Pbhk-nRA6xzl",
   "metadata": {
    "id": "Pbhk-nRA6xzl"
   },
   "outputs": [],
   "source": [
    "%matplotlib inline\n",
    "\n",
    "import json\n",
    "import time\n",
    "\n",
    "import pandas as pd\n",
    "import seaborn as sns\n",
    "import matplotlib.pyplot as plt\n",
    "from tqdm import tqdm\n",
    "from neo4j import GraphDatabase"
   ]
  },
  {
   "cell_type": "code",
   "execution_count": 18,
   "id": "2_FClz3kAk4U",
   "metadata": {
    "id": "2_FClz3kAk4U"
   },
   "outputs": [],
   "source": [
    "class Neo4jConnection:\n",
    "    \n",
    "    def __init__(self, uri, user, pwd):\n",
    "        self.__uri = uri\n",
    "        self.__user = user\n",
    "        self.__pwd = pwd\n",
    "        self.__driver = None\n",
    "        try:\n",
    "            self.__driver = GraphDatabase.driver(self.__uri, auth=(self.__user, self.__pwd))\n",
    "        except Exception as e:\n",
    "            print(\"Failed to create the driver:\", e)\n",
    "        \n",
    "    def close(self):\n",
    "        if self.__driver is not None:\n",
    "            self.__driver.close()\n",
    "        \n",
    "    def query(self, query, parameters=None, db=None):\n",
    "        assert self.__driver is not None, \"Driver not initialized!\"\n",
    "        session = None\n",
    "        response = None\n",
    "        try: \n",
    "            session = self.__driver.session(database=db) if db is not None else self.__driver.session() \n",
    "            response = list(session.run(query, parameters))\n",
    "        except Exception as e:\n",
    "            print(\"Query failed:\", e)\n",
    "        finally: \n",
    "            if session is not None:\n",
    "                session.close()\n",
    "        return response"
   ]
  },
  {
   "cell_type": "code",
   "execution_count": 19,
   "id": "ZB3g65mqApJ5",
   "metadata": {
    "id": "ZB3g65mqApJ5"
   },
   "outputs": [],
   "source": [
    "def get_author_list(line):\n",
    "    # Cleans author dataframe column, creating a list of authors in the row.\n",
    "    \n",
    "    return [e[1] + ' ' + e[0] for e in line]\n",
    "\n",
    "\n",
    "def get_category_list(line):\n",
    "    # Cleans category dataframe column, creating a list of categories in the\n",
    "    # row.\n",
    "    \n",
    "    return list(line.split(\" \"))\n",
    "\n",
    "\n",
    "def add_categories(categories):\n",
    "    # Adds category nodes to the Neo4j graph.\n",
    "  \n",
    "    query = '''UNWIND $rows AS row\n",
    "    MERGE (c:Category {category: row.category})\n",
    "    RETURN count(*) as total\n",
    "    '''\n",
    "    \n",
    "    return conn.query(query, parameters={'rows': categories.to_dict('records')})\n",
    "\n",
    "\n",
    "def add_authors(rows, batch_size=10000):\n",
    "    # Adds author nodes to the Neo4j graph as a batch job.\n",
    "\n",
    "    query = '''UNWIND $rows AS row\n",
    "               MERGE (:Author {name: row.author})\n",
    "               RETURN count(*) as total\n",
    "    '''\n",
    "    return insert_data(query, rows, batch_size)\n",
    "\n",
    "\n",
    "def add_papers(rows, batch_size=5000):\n",
    "    # Adds paper nodes and (:Author)--(:Paper) and (:Paper)--(:Category)\n",
    "    # relationships to the Neo4j graph as a batch job.  (Note the smaller batch\n",
    "    # size due to the fact that this function is adding much more data than the\n",
    "    # add_authors() function.)\n",
    "\n",
    "    query = '''\n",
    "    UNWIND $rows as row\n",
    "    MERGE (p:Paper {id:row.id}) ON CREATE SET p.title = row.title\n",
    "\n",
    "    // connect categories\n",
    "    WITH row, p\n",
    "    UNWIND row.category_list AS category_name\n",
    "    MATCH (c:Category {category: category_name})\n",
    "    MERGE (p)-[:IN_CATEGORY]->(c)\n",
    "\n",
    "    // connect authors\n",
    "    WITH distinct row, p // reduce cardinality\n",
    "    UNWIND row.cleaned_authors_list AS author\n",
    "    MATCH (a:Author {name: author})\n",
    "    MERGE (a)-[:AUTHORED]->(p)\n",
    "    RETURN count(distinct p) as total\n",
    "    '''\n",
    "\n",
    "    return insert_data(query, rows, batch_size)\n",
    "\n",
    "\n",
    "def insert_data(query, rows, batch_size = 10000):\n",
    "    # Function to handle the updating the Neo4j database in batch mode.\n",
    "\n",
    "    total = 0\n",
    "    batch = 0\n",
    "    start = time.time()\n",
    "    result = None\n",
    "\n",
    "    while batch * batch_size < len(rows):\n",
    "\n",
    "        res = conn.query(query, parameters={'rows': rows[batch*batch_size:(batch+1)*batch_size].to_dict('records')})\n",
    "        total += res[0]['total']\n",
    "        batch += 1\n",
    "        result = {\"total\":total, \"batches\":batch, \"time\":time.time()-start}\n",
    "        print(result)\n",
    "\n",
    "    return result\n"
   ]
  },
  {
   "cell_type": "code",
   "execution_count": 20,
   "id": "lkVlEdfiAxgT",
   "metadata": {
    "colab": {
     "base_uri": "https://localhost:8080/",
     "height": 683
    },
    "id": "lkVlEdfiAxgT",
    "outputId": "9cbe7910-1675-46c7-d594-01370c6be428"
   },
   "outputs": [
    {
     "name": "stderr",
     "output_type": "stream",
     "text": [
      "97132it [00:03, 25316.27it/s]\n"
     ]
    },
    {
     "data": {
      "text/html": [
       "<div>\n",
       "<style scoped>\n",
       "    .dataframe tbody tr th:only-of-type {\n",
       "        vertical-align: middle;\n",
       "    }\n",
       "\n",
       "    .dataframe tbody tr th {\n",
       "        vertical-align: top;\n",
       "    }\n",
       "\n",
       "    .dataframe thead th {\n",
       "        text-align: right;\n",
       "    }\n",
       "</style>\n",
       "<table border=\"1\" class=\"dataframe\">\n",
       "  <thead>\n",
       "    <tr style=\"text-align: right;\">\n",
       "      <th></th>\n",
       "      <th>id</th>\n",
       "      <th>submitter</th>\n",
       "      <th>authors</th>\n",
       "      <th>title</th>\n",
       "      <th>comments</th>\n",
       "      <th>journal-ref</th>\n",
       "      <th>doi</th>\n",
       "      <th>report-no</th>\n",
       "      <th>categories</th>\n",
       "      <th>license</th>\n",
       "      <th>abstract</th>\n",
       "      <th>versions</th>\n",
       "      <th>update_date</th>\n",
       "      <th>authors_parsed</th>\n",
       "    </tr>\n",
       "  </thead>\n",
       "  <tbody>\n",
       "    <tr>\n",
       "      <th>0</th>\n",
       "      <td>0704.0001</td>\n",
       "      <td>Pavel Nadolsky</td>\n",
       "      <td>C. Bal\\'azs, E. L. Berger, P. M. Nadolsky, C.-...</td>\n",
       "      <td>Calculation of prompt diphoton production cros...</td>\n",
       "      <td>37 pages, 15 figures; published version</td>\n",
       "      <td>Phys.Rev.D76:013009,2007</td>\n",
       "      <td>10.1103/PhysRevD.76.013009</td>\n",
       "      <td>ANL-HEP-PR-07-12</td>\n",
       "      <td>hep-ph</td>\n",
       "      <td>None</td>\n",
       "      <td>A fully differential calculation in perturba...</td>\n",
       "      <td>[{'version': 'v1', 'created': 'Mon, 2 Apr 2007...</td>\n",
       "      <td>2008-11-26</td>\n",
       "      <td>[[Balázs, C., ], [Berger, E. L., ], [Nadolsky,...</td>\n",
       "    </tr>\n",
       "    <tr>\n",
       "      <th>1</th>\n",
       "      <td>0704.0002</td>\n",
       "      <td>Louis Theran</td>\n",
       "      <td>Ileana Streinu and Louis Theran</td>\n",
       "      <td>Sparsity-certifying Graph Decompositions</td>\n",
       "      <td>To appear in Graphs and Combinatorics</td>\n",
       "      <td>None</td>\n",
       "      <td>None</td>\n",
       "      <td>None</td>\n",
       "      <td>math.CO cs.CG</td>\n",
       "      <td>http://arxiv.org/licenses/nonexclusive-distrib...</td>\n",
       "      <td>We describe a new algorithm, the $(k,\\ell)$-...</td>\n",
       "      <td>[{'version': 'v1', 'created': 'Sat, 31 Mar 200...</td>\n",
       "      <td>2008-12-13</td>\n",
       "      <td>[[Streinu, Ileana, ], [Theran, Louis, ]]</td>\n",
       "    </tr>\n",
       "    <tr>\n",
       "      <th>2</th>\n",
       "      <td>0704.0003</td>\n",
       "      <td>Hongjun Pan</td>\n",
       "      <td>Hongjun Pan</td>\n",
       "      <td>The evolution of the Earth-Moon system based o...</td>\n",
       "      <td>23 pages, 3 figures</td>\n",
       "      <td>None</td>\n",
       "      <td>None</td>\n",
       "      <td>None</td>\n",
       "      <td>physics.gen-ph</td>\n",
       "      <td>None</td>\n",
       "      <td>The evolution of Earth-Moon system is descri...</td>\n",
       "      <td>[{'version': 'v1', 'created': 'Sun, 1 Apr 2007...</td>\n",
       "      <td>2008-01-13</td>\n",
       "      <td>[[Pan, Hongjun, ]]</td>\n",
       "    </tr>\n",
       "    <tr>\n",
       "      <th>3</th>\n",
       "      <td>0704.0004</td>\n",
       "      <td>David Callan</td>\n",
       "      <td>David Callan</td>\n",
       "      <td>A determinant of Stirling cycle numbers counts...</td>\n",
       "      <td>11 pages</td>\n",
       "      <td>None</td>\n",
       "      <td>None</td>\n",
       "      <td>None</td>\n",
       "      <td>math.CO</td>\n",
       "      <td>None</td>\n",
       "      <td>We show that a determinant of Stirling cycle...</td>\n",
       "      <td>[{'version': 'v1', 'created': 'Sat, 31 Mar 200...</td>\n",
       "      <td>2007-05-23</td>\n",
       "      <td>[[Callan, David, ]]</td>\n",
       "    </tr>\n",
       "    <tr>\n",
       "      <th>4</th>\n",
       "      <td>0704.0005</td>\n",
       "      <td>Alberto Torchinsky</td>\n",
       "      <td>Wael Abu-Shammala and Alberto Torchinsky</td>\n",
       "      <td>From dyadic $\\Lambda_{\\alpha}$ to $\\Lambda_{\\a...</td>\n",
       "      <td>None</td>\n",
       "      <td>Illinois J. Math. 52 (2008) no.2, 681-689</td>\n",
       "      <td>None</td>\n",
       "      <td>None</td>\n",
       "      <td>math.CA math.FA</td>\n",
       "      <td>None</td>\n",
       "      <td>In this paper we show how to compute the $\\L...</td>\n",
       "      <td>[{'version': 'v1', 'created': 'Mon, 2 Apr 2007...</td>\n",
       "      <td>2013-10-15</td>\n",
       "      <td>[[Abu-Shammala, Wael, ], [Torchinsky, Alberto, ]]</td>\n",
       "    </tr>\n",
       "  </tbody>\n",
       "</table>\n",
       "</div>"
      ],
      "text/plain": [
       "          id  ...                                     authors_parsed\n",
       "0  0704.0001  ...  [[Balázs, C., ], [Berger, E. L., ], [Nadolsky,...\n",
       "1  0704.0002  ...           [[Streinu, Ileana, ], [Theran, Louis, ]]\n",
       "2  0704.0003  ...                                 [[Pan, Hongjun, ]]\n",
       "3  0704.0004  ...                                [[Callan, David, ]]\n",
       "4  0704.0005  ...  [[Abu-Shammala, Wael, ], [Torchinsky, Alberto, ]]\n",
       "\n",
       "[5 rows x 14 columns]"
      ]
     },
     "execution_count": 20,
     "metadata": {
      "tags": []
     },
     "output_type": "execute_result"
    }
   ],
   "source": [
    "file = \"./arxiv-metadata-oai-snapshot.json\"\n",
    "\n",
    "metadata  = []\n",
    "\n",
    "lines = 100000    # 100k for testing\n",
    "with open(file, 'r') as f:\n",
    "    for line in tqdm(f): \n",
    "        metadata.append(json.loads(line))\n",
    "        lines -= 1\n",
    "        if lines == 0: break\n",
    "\n",
    "df = pd.DataFrame(metadata)\n",
    "df.head()"
   ]
  },
  {
   "cell_type": "code",
   "execution_count": 21,
   "id": "f2Qz9OoTA1pW",
   "metadata": {
    "colab": {
     "base_uri": "https://localhost:8080/",
     "height": 204
    },
    "id": "f2Qz9OoTA1pW",
    "outputId": "9f23fe52-99da-4955-d76d-63fd94704c37"
   },
   "outputs": [
    {
     "data": {
      "text/html": [
       "<div>\n",
       "<style scoped>\n",
       "    .dataframe tbody tr th:only-of-type {\n",
       "        vertical-align: middle;\n",
       "    }\n",
       "\n",
       "    .dataframe tbody tr th {\n",
       "        vertical-align: top;\n",
       "    }\n",
       "\n",
       "    .dataframe thead th {\n",
       "        text-align: right;\n",
       "    }\n",
       "</style>\n",
       "<table border=\"1\" class=\"dataframe\">\n",
       "  <thead>\n",
       "    <tr style=\"text-align: right;\">\n",
       "      <th></th>\n",
       "      <th>id</th>\n",
       "      <th>title</th>\n",
       "      <th>cleaned_authors_list</th>\n",
       "      <th>category_list</th>\n",
       "    </tr>\n",
       "  </thead>\n",
       "  <tbody>\n",
       "    <tr>\n",
       "      <th>0</th>\n",
       "      <td>0704.0001</td>\n",
       "      <td>Calculation of prompt diphoton production cros...</td>\n",
       "      <td>[C. Balázs, E. L. Berger, P. M. Nadolsky, C. -...</td>\n",
       "      <td>[hep-ph]</td>\n",
       "    </tr>\n",
       "    <tr>\n",
       "      <th>1</th>\n",
       "      <td>0704.0002</td>\n",
       "      <td>Sparsity-certifying Graph Decompositions</td>\n",
       "      <td>[Ileana Streinu, Louis Theran]</td>\n",
       "      <td>[math.CO, cs.CG]</td>\n",
       "    </tr>\n",
       "    <tr>\n",
       "      <th>2</th>\n",
       "      <td>0704.0003</td>\n",
       "      <td>The evolution of the Earth-Moon system based o...</td>\n",
       "      <td>[Hongjun Pan]</td>\n",
       "      <td>[physics.gen-ph]</td>\n",
       "    </tr>\n",
       "    <tr>\n",
       "      <th>3</th>\n",
       "      <td>0704.0004</td>\n",
       "      <td>A determinant of Stirling cycle numbers counts...</td>\n",
       "      <td>[David Callan]</td>\n",
       "      <td>[math.CO]</td>\n",
       "    </tr>\n",
       "    <tr>\n",
       "      <th>4</th>\n",
       "      <td>0704.0005</td>\n",
       "      <td>From dyadic $\\Lambda_{\\alpha}$ to $\\Lambda_{\\a...</td>\n",
       "      <td>[Wael Abu-Shammala, Alberto Torchinsky]</td>\n",
       "      <td>[math.CA, math.FA]</td>\n",
       "    </tr>\n",
       "  </tbody>\n",
       "</table>\n",
       "</div>"
      ],
      "text/plain": [
       "          id  ...       category_list\n",
       "0  0704.0001  ...            [hep-ph]\n",
       "1  0704.0002  ...    [math.CO, cs.CG]\n",
       "2  0704.0003  ...    [physics.gen-ph]\n",
       "3  0704.0004  ...           [math.CO]\n",
       "4  0704.0005  ...  [math.CA, math.FA]\n",
       "\n",
       "[5 rows x 4 columns]"
      ]
     },
     "execution_count": 21,
     "metadata": {
      "tags": []
     },
     "output_type": "execute_result"
    }
   ],
   "source": [
    "df['cleaned_authors_list'] = df['authors_parsed'].map(get_author_list)\n",
    "df['category_list'] = df['categories'].map(get_category_list)\n",
    "df = df.drop(['submitter', 'authors', 'comments', 'journal-ref', 'doi', \n",
    "              'report-no', 'license', 'versions', 'update_date', 'abstract', \n",
    "              'authors_parsed', 'categories'], axis=1)\n",
    "df.head()"
   ]
  },
  {
   "cell_type": "code",
   "execution_count": 22,
   "id": "VQTCJ8-TA8dz",
   "metadata": {
    "colab": {
     "base_uri": "https://localhost:8080/"
    },
    "id": "VQTCJ8-TA8dz",
    "outputId": "3bad9e53-a840-473e-8480-6b0cafa3b7f7"
   },
   "outputs": [
    {
     "data": {
      "text/plain": [
       "148"
      ]
     },
     "execution_count": 22,
     "metadata": {
      "tags": []
     },
     "output_type": "execute_result"
    }
   ],
   "source": [
    "categories = pd.DataFrame(df[['category_list']])\n",
    "categories.rename(columns={'category_list':'category'}, inplace=True)\n",
    "categories = categories.explode('category').drop_duplicates(subset=['category'])\n",
    "\n",
    "categories.size"
   ]
  },
  {
   "cell_type": "code",
   "execution_count": 23,
   "id": "SeF-cxhBA_iN",
   "metadata": {
    "colab": {
     "base_uri": "https://localhost:8080/"
    },
    "id": "SeF-cxhBA_iN",
    "outputId": "3880ad09-68b6-4f9f-f9d5-d71521029ac6"
   },
   "outputs": [
    {
     "data": {
      "text/plain": [
       "135410"
      ]
     },
     "execution_count": 23,
     "metadata": {
      "tags": []
     },
     "output_type": "execute_result"
    }
   ],
   "source": [
    "authors = pd.DataFrame(df[['cleaned_authors_list']])\n",
    "\n",
    "authors.rename(columns={'cleaned_authors_list':'author'}, inplace=True)\n",
    "authors=authors.explode('author').drop_duplicates(subset=['author'])\n",
    "\n",
    "authors.size"
   ]
  },
  {
   "cell_type": "code",
   "execution_count": 27,
   "id": "_-1eZiHqBCPp",
   "metadata": {
    "id": "_-1eZiHqBCPp"
   },
   "outputs": [],
   "source": [
    "conn = Neo4jConnection(uri=\"bolt://0.0.0.0:7687\", user=\"neo4j\", pwd=\"neo4j\")"
   ]
  },
  {
   "cell_type": "code",
   "execution_count": 28,
   "id": "eZh23fX9Bar2",
   "metadata": {
    "colab": {
     "base_uri": "https://localhost:8080/"
    },
    "id": "eZh23fX9Bar2",
    "outputId": "c95e138f-5a3d-4cc4-8514-45da7193af49"
   },
   "outputs": [
    {
     "data": {
      "text/plain": [
       "[]"
      ]
     },
     "execution_count": 28,
     "metadata": {
      "tags": []
     },
     "output_type": "execute_result"
    }
   ],
   "source": [
    "conn.query('CREATE CONSTRAINT papers IF NOT EXISTS ON (p:Paper) ASSERT p.id IS UNIQUE')\n",
    "conn.query('CREATE CONSTRAINT authors IF NOT EXISTS ON (a:Author) ASSERT a.name IS UNIQUE')\n",
    "conn.query('CREATE CONSTRAINT categories IF NOT EXISTS ON (c:Category) ASSERT c.category IS UNIQUE')"
   ]
  },
  {
   "cell_type": "code",
   "execution_count": 29,
   "id": "Qaa-em-hBxq6",
   "metadata": {
    "colab": {
     "base_uri": "https://localhost:8080/"
    },
    "id": "Qaa-em-hBxq6",
    "outputId": "544ca664-a82d-453b-a279-919747327a1b"
   },
   "outputs": [
    {
     "data": {
      "text/plain": [
       "[<Record total=148>]"
      ]
     },
     "execution_count": 29,
     "metadata": {
      "tags": []
     },
     "output_type": "execute_result"
    }
   ],
   "source": [
    "add_categories(categories)"
   ]
  },
  {
   "cell_type": "code",
   "execution_count": 30,
   "id": "BCFGhteyB0xx",
   "metadata": {
    "colab": {
     "base_uri": "https://localhost:8080/"
    },
    "id": "BCFGhteyB0xx",
    "outputId": "b630156b-85ed-46e3-c609-6521777d3cc8"
   },
   "outputs": [
    {
     "name": "stdout",
     "output_type": "stream",
     "text": [
      "{'total': 10000, 'batches': 1, 'time': 2.371570348739624}\n",
      "{'total': 20000, 'batches': 2, 'time': 3.809314250946045}\n",
      "{'total': 30000, 'batches': 3, 'time': 5.068058013916016}\n",
      "{'total': 40000, 'batches': 4, 'time': 6.188276290893555}\n",
      "{'total': 50000, 'batches': 5, 'time': 7.204348087310791}\n",
      "{'total': 60000, 'batches': 6, 'time': 8.139954090118408}\n",
      "{'total': 70000, 'batches': 7, 'time': 9.073742389678955}\n",
      "{'total': 80000, 'batches': 8, 'time': 9.963227272033691}\n",
      "{'total': 90000, 'batches': 9, 'time': 10.74406909942627}\n",
      "{'total': 100000, 'batches': 10, 'time': 11.533184051513672}\n",
      "{'total': 110000, 'batches': 11, 'time': 12.16784930229187}\n",
      "{'total': 120000, 'batches': 12, 'time': 12.78803277015686}\n",
      "{'total': 130000, 'batches': 13, 'time': 13.398576736450195}\n",
      "{'total': 135410, 'batches': 14, 'time': 13.829177856445312}\n"
     ]
    },
    {
     "data": {
      "text/plain": [
       "{'batches': 14, 'time': 13.829177856445312, 'total': 135410}"
      ]
     },
     "execution_count": 30,
     "metadata": {
      "tags": []
     },
     "output_type": "execute_result"
    }
   ],
   "source": [
    "add_authors(authors)"
   ]
  },
  {
   "cell_type": "code",
   "execution_count": 31,
   "id": "zvEvbKpbB3k7",
   "metadata": {
    "colab": {
     "base_uri": "https://localhost:8080/"
    },
    "id": "zvEvbKpbB3k7",
    "outputId": "ca52a7f6-6272-409d-a4fb-811a9605bf18"
   },
   "outputs": [
    {
     "name": "stdout",
     "output_type": "stream",
     "text": [
      "{'total': 5000, 'batches': 1, 'time': 4.665409803390503}\n",
      "{'total': 10000, 'batches': 2, 'time': 7.182037830352783}\n",
      "{'total': 15000, 'batches': 3, 'time': 9.731791496276855}\n",
      "{'total': 20000, 'batches': 4, 'time': 11.747239828109741}\n",
      "{'total': 25000, 'batches': 5, 'time': 13.515150308609009}\n",
      "{'total': 30000, 'batches': 6, 'time': 15.112334728240967}\n",
      "{'total': 35000, 'batches': 7, 'time': 16.70318603515625}\n",
      "{'total': 40000, 'batches': 8, 'time': 18.445334672927856}\n",
      "{'total': 45000, 'batches': 9, 'time': 20.187700033187866}\n",
      "{'total': 50000, 'batches': 10, 'time': 21.81722593307495}\n",
      "{'total': 55000, 'batches': 11, 'time': 23.531256675720215}\n",
      "{'total': 60000, 'batches': 12, 'time': 26.575834274291992}\n",
      "{'total': 65000, 'batches': 13, 'time': 30.470590829849243}\n",
      "{'total': 70000, 'batches': 14, 'time': 32.91064953804016}\n",
      "{'total': 75000, 'batches': 15, 'time': 35.95437574386597}\n",
      "{'total': 80000, 'batches': 16, 'time': 38.15401268005371}\n",
      "{'total': 85000, 'batches': 17, 'time': 39.82299447059631}\n",
      "{'total': 90000, 'batches': 18, 'time': 42.20385503768921}\n",
      "{'total': 95000, 'batches': 19, 'time': 43.821489334106445}\n",
      "{'total': 100000, 'batches': 20, 'time': 45.64205288887024}\n"
     ]
    },
    {
     "data": {
      "text/plain": [
       "{'batches': 20, 'time': 45.64205288887024, 'total': 100000}"
      ]
     },
     "execution_count": 31,
     "metadata": {
      "tags": []
     },
     "output_type": "execute_result"
    }
   ],
   "source": [
    "add_papers(df)"
   ]
  },
  {
   "cell_type": "code",
   "execution_count": 32,
   "id": "hfL3WlAmB63e",
   "metadata": {
    "colab": {
     "base_uri": "https://localhost:8080/",
     "height": 669
    },
    "id": "hfL3WlAmB63e",
    "outputId": "332123dc-35b0-4d8b-dc17-a75df60cf1ef"
   },
   "outputs": [
    {
     "data": {
      "text/html": [
       "<div>\n",
       "<style scoped>\n",
       "    .dataframe tbody tr th:only-of-type {\n",
       "        vertical-align: middle;\n",
       "    }\n",
       "\n",
       "    .dataframe tbody tr th {\n",
       "        vertical-align: top;\n",
       "    }\n",
       "\n",
       "    .dataframe thead th {\n",
       "        text-align: right;\n",
       "    }\n",
       "</style>\n",
       "<table border=\"1\" class=\"dataframe\">\n",
       "  <thead>\n",
       "    <tr style=\"text-align: right;\">\n",
       "      <th></th>\n",
       "      <th>c.category</th>\n",
       "      <th>inDegree</th>\n",
       "    </tr>\n",
       "  </thead>\n",
       "  <tbody>\n",
       "    <tr>\n",
       "      <th>0</th>\n",
       "      <td>astro-ph</td>\n",
       "      <td>19697</td>\n",
       "    </tr>\n",
       "    <tr>\n",
       "      <th>1</th>\n",
       "      <td>hep-ph</td>\n",
       "      <td>9506</td>\n",
       "    </tr>\n",
       "    <tr>\n",
       "      <th>2</th>\n",
       "      <td>hep-th</td>\n",
       "      <td>8857</td>\n",
       "    </tr>\n",
       "    <tr>\n",
       "      <th>3</th>\n",
       "      <td>quant-ph</td>\n",
       "      <td>6279</td>\n",
       "    </tr>\n",
       "    <tr>\n",
       "      <th>4</th>\n",
       "      <td>gr-qc</td>\n",
       "      <td>5282</td>\n",
       "    </tr>\n",
       "    <tr>\n",
       "      <th>5</th>\n",
       "      <td>cond-mat.mtrl-sci</td>\n",
       "      <td>4553</td>\n",
       "    </tr>\n",
       "    <tr>\n",
       "      <th>6</th>\n",
       "      <td>cond-mat.stat-mech</td>\n",
       "      <td>4380</td>\n",
       "    </tr>\n",
       "    <tr>\n",
       "      <th>7</th>\n",
       "      <td>cond-mat.str-el</td>\n",
       "      <td>4344</td>\n",
       "    </tr>\n",
       "    <tr>\n",
       "      <th>8</th>\n",
       "      <td>math.MP</td>\n",
       "      <td>4334</td>\n",
       "    </tr>\n",
       "    <tr>\n",
       "      <th>9</th>\n",
       "      <td>math-ph</td>\n",
       "      <td>4334</td>\n",
       "    </tr>\n",
       "    <tr>\n",
       "      <th>10</th>\n",
       "      <td>cond-mat.mes-hall</td>\n",
       "      <td>3761</td>\n",
       "    </tr>\n",
       "    <tr>\n",
       "      <th>11</th>\n",
       "      <td>math.AG</td>\n",
       "      <td>2893</td>\n",
       "    </tr>\n",
       "    <tr>\n",
       "      <th>12</th>\n",
       "      <td>cond-mat.supr-con</td>\n",
       "      <td>2857</td>\n",
       "    </tr>\n",
       "    <tr>\n",
       "      <th>13</th>\n",
       "      <td>nucl-th</td>\n",
       "      <td>2769</td>\n",
       "    </tr>\n",
       "    <tr>\n",
       "      <th>14</th>\n",
       "      <td>cond-mat.other</td>\n",
       "      <td>2630</td>\n",
       "    </tr>\n",
       "    <tr>\n",
       "      <th>15</th>\n",
       "      <td>math.PR</td>\n",
       "      <td>2480</td>\n",
       "    </tr>\n",
       "    <tr>\n",
       "      <th>16</th>\n",
       "      <td>hep-ex</td>\n",
       "      <td>2461</td>\n",
       "    </tr>\n",
       "    <tr>\n",
       "      <th>17</th>\n",
       "      <td>math.CO</td>\n",
       "      <td>2397</td>\n",
       "    </tr>\n",
       "    <tr>\n",
       "      <th>18</th>\n",
       "      <td>math.DG</td>\n",
       "      <td>2237</td>\n",
       "    </tr>\n",
       "    <tr>\n",
       "      <th>19</th>\n",
       "      <td>math.AP</td>\n",
       "      <td>1996</td>\n",
       "    </tr>\n",
       "  </tbody>\n",
       "</table>\n",
       "</div>"
      ],
      "text/plain": [
       "            c.category  inDegree\n",
       "0             astro-ph     19697\n",
       "1               hep-ph      9506\n",
       "2               hep-th      8857\n",
       "3             quant-ph      6279\n",
       "4                gr-qc      5282\n",
       "5    cond-mat.mtrl-sci      4553\n",
       "6   cond-mat.stat-mech      4380\n",
       "7      cond-mat.str-el      4344\n",
       "8              math.MP      4334\n",
       "9              math-ph      4334\n",
       "10   cond-mat.mes-hall      3761\n",
       "11             math.AG      2893\n",
       "12   cond-mat.supr-con      2857\n",
       "13             nucl-th      2769\n",
       "14      cond-mat.other      2630\n",
       "15             math.PR      2480\n",
       "16              hep-ex      2461\n",
       "17             math.CO      2397\n",
       "18             math.DG      2237\n",
       "19             math.AP      1996"
      ]
     },
     "execution_count": 32,
     "metadata": {
      "tags": []
     },
     "output_type": "execute_result"
    }
   ],
   "source": [
    "query_string = '''\n",
    "MATCH (c:Category) \n",
    "RETURN c.category, SIZE(()-[:IN_CATEGORY]->(c)) AS inDegree \n",
    "ORDER BY inDegree DESC LIMIT 20\n",
    "'''\n",
    "\n",
    "top_cat_df = pd.DataFrame([dict(_) for _ in conn.query(query_string)])\n",
    "top_cat_df.head(20)"
   ]
  },
  {
   "cell_type": "code",
   "execution_count": 33,
   "id": "SsV3NB0UB-Mo",
   "metadata": {
    "colab": {
     "base_uri": "https://localhost:8080/",
     "height": 677
    },
    "id": "SsV3NB0UB-Mo",
    "outputId": "3cd30b2e-09cc-4a6e-c4e7-568aa138addb"
   },
   "outputs": [
    {
     "data": {
      "image/png": "[encoded data removed]",
      "text/plain": [
       "<Figure size 864x576 with 1 Axes>"
      ]
     },
     "metadata": {
      "needs_background": "light",
      "tags": []
     },
     "output_type": "display_data"
    }
   ],
   "source": [
    "plt.figure(figsize=(12,8))\n",
    "sns.barplot(x=top_cat_df['c.category'], y=top_cat_df['inDegree'])\n",
    "plt.xlabel('Category Name', fontsize=18)\n",
    "plt.ylabel('inDegree',fontsize=18)\n",
    "plt.xticks(rotation='vertical', fontsize=18)\n",
    "plt.show()"
   ]
  },
  {
   "cell_type": "code",
   "execution_count": 34,
   "id": "JLthgFu7CCBF",
   "metadata": {
    "colab": {
     "base_uri": "https://localhost:8080/"
    },
    "id": "JLthgFu7CCBF",
    "outputId": "a5bcae57-cc92-4289-a196-584c7afdaa2d"
   },
   "outputs": [
    {
     "name": "stdout",
     "output_type": "stream",
     "text": [
      "astro-ph 19697\n",
      "hep-ph 9506\n",
      "hep-th 8857\n",
      "quant-ph 6279\n",
      "gr-qc 5282\n",
      "cond-mat.mtrl-sci 4553\n",
      "cond-mat.stat-mech 4380\n",
      "cond-mat.str-el 4344\n",
      "math.MP 4334\n",
      "math-ph 4334\n",
      "cond-mat.mes-hall 3761\n",
      "math.AG 2893\n",
      "cond-mat.supr-con 2857\n",
      "nucl-th 2769\n",
      "cond-mat.other 2630\n",
      "math.PR 2480\n",
      "hep-ex 2461\n",
      "math.CO 2397\n",
      "math.DG 2237\n",
      "math.AP 1996\n"
     ]
    }
   ],
   "source": [
    "result = conn.query(query_string)\n",
    "\n",
    "for record in result:\n",
    "    print(record[0], record[1])"
   ]
  },
  {
   "cell_type": "code",
   "execution_count": null,
   "id": "4Y58LR5vCJSo",
   "metadata": {
    "id": "4Y58LR5vCJSo"
   },
   "outputs": [],
   "source": []
  }
 ],
 "metadata": {
  "colab": {
   "name": "10_network_and_graph.ipynb",
   "provenance": []
  },
  "kernelspec": {
   "display_name": "Python 3 (ipykernel)",
   "language": "python",
   "name": "python3"
  },
  "language_info": {
   "codemirror_mode": {
    "name": "ipython",
    "version": 3
   },
   "file_extension": ".py",
   "mimetype": "text/x-python",
   "name": "python",
   "nbconvert_exporter": "python",
   "pygments_lexer": "ipython3",
   "version": "3.9.5"
  }
 },
 "nbformat": 4,
 "nbformat_minor": 5
}
