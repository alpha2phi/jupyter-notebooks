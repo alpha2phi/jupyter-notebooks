{
 "cells": [
  {
   "cell_type": "markdown",
   "id": "cellular-boxing",
   "metadata": {
    "id": "impaired-abortion"
   },
   "source": [
    "# Network, Graph and Graph Database"
   ]
  },
  {
   "cell_type": "code",
   "execution_count": null,
   "id": "featured-child",
   "metadata": {},
   "outputs": [],
   "source": [
    "COLAB = False"
   ]
  },
  {
   "cell_type": "markdown",
   "id": "surrounded-country",
   "metadata": {},
   "source": [
    "## Prepare the dataset"
   ]
  },
  {
   "cell_type": "code",
   "execution_count": 3,
   "id": "configured-possible",
   "metadata": {},
   "outputs": [],
   "source": [
    "# https://gist.github.com/korakot/328aaac51d78e589b4a176228e4bb06f\n",
    "    \n",
    "if COLAB:\n",
    "    # Download from Kaggle - https://www.kaggle.com/general/74235\n",
    "    \n",
    "    ! pip install -q kaggle\n",
    "    \n",
    "    from google.colab import files\n",
    "    files.upload()    # Upload kaggle.json\n",
    "    \n",
    "    !mkdir ~/.kaggle\n",
    "    !cp kaggle.json ~/.kaggle/\n",
    "    !chmod 600 ~/.kaggle/kaggle.json\n",
    "    \n",
    "    # ! kaggle datasets list\n",
    "    # ! kaggle competitions download -c 'name-of-competition'\n",
    "else:\n",
    "    # Use local copy\n",
    "    pass"
   ]
  },
  {
   "cell_type": "code",
   "execution_count": 1,
   "id": "crucial-quest",
   "metadata": {
    "id": "pacific-marks"
   },
   "outputs": [],
   "source": []
  },
  {
   "cell_type": "code",
   "execution_count": null,
   "id": "narrative-worship",
   "metadata": {},
   "outputs": [],
   "source": []
  }
 ],
 "metadata": {
  "colab": {
   "name": "10_network_and_graph.ipynb",
   "provenance": []
  },
  "kernelspec": {
   "display_name": "Python 3",
   "language": "python",
   "name": "python3"
  },
  "language_info": {
   "codemirror_mode": {
    "name": "ipython",
    "version": 3
   },
   "file_extension": ".py",
   "mimetype": "text/x-python",
   "name": "python",
   "nbconvert_exporter": "python",
   "pygments_lexer": "ipython3",
   "version": "3.8.6"
  }
 },
 "nbformat": 4,
 "nbformat_minor": 5
}
