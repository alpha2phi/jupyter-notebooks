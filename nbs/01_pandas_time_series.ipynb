{
 "cells": [
  {
   "cell_type": "markdown",
   "metadata": {},
   "source": [
    "# Python - Time Series Data with Pandas"
   ]
  },
  {
   "cell_type": "code",
   "execution_count": 1,
   "metadata": {},
   "outputs": [],
   "source": [
    "from datetime import datetime, timedelta\n",
    "import numpy as np\n",
    "import pandas as pd\n",
    "import matplotlib.pyplot as plt\n",
    "import pytz\n",
    "\n",
    "%matplotlib inline"
   ]
  },
  {
   "cell_type": "markdown",
   "metadata": {},
   "source": [
    "## Generate Time Series Data"
   ]
  },
  {
   "cell_type": "code",
   "execution_count": 2,
   "metadata": {},
   "outputs": [
    {
     "data": {
      "text/plain": [
       "2020-11-30 22:15:10.428455    0.142383\n",
       "2020-12-01 22:15:10.428455    0.641827\n",
       "2020-12-02 22:15:10.428455    0.153740\n",
       "2020-12-03 22:15:10.428455    0.403427\n",
       "2020-12-04 22:15:10.428455    0.977366\n",
       "                                ...   \n",
       "2021-03-05 22:15:10.428455    0.737676\n",
       "2021-03-06 22:15:10.428455    0.801223\n",
       "2021-03-07 22:15:10.428455    0.661733\n",
       "2021-03-08 22:15:10.428455    0.938867\n",
       "2021-03-09 22:15:10.428455    0.799979\n",
       "Freq: D, Length: 100, dtype: float64"
      ]
     },
     "execution_count": 2,
     "metadata": {},
     "output_type": "execute_result"
    }
   ],
   "source": [
    "# Generate data with time\n",
    "ts = pd.Series(np.random.rand(100), index=pd.date_range(datetime.now(), periods=100))\n",
    "ts"
   ]
  },
  {
   "cell_type": "code",
   "execution_count": 3,
   "metadata": {},
   "outputs": [
    {
     "data": {
      "text/plain": [
       "2020-11-30    0.879718\n",
       "2020-12-01    0.887244\n",
       "2020-12-02    0.125092\n",
       "2020-12-03    0.125470\n",
       "2020-12-04    0.522192\n",
       "                ...   \n",
       "2021-03-05    0.540329\n",
       "2021-03-06    0.496495\n",
       "2021-03-07    0.005026\n",
       "2021-03-08    0.689524\n",
       "2021-03-09    0.932206\n",
       "Freq: D, Length: 100, dtype: float64"
      ]
     },
     "execution_count": 3,
     "metadata": {},
     "output_type": "execute_result"
    }
   ],
   "source": [
    "# Generate data without time (normalize = True)\n",
    "ts = pd.Series(np.random.rand(100), index=pd.date_range(datetime.now(), periods=100, normalize=True))\n",
    "ts"
   ]
  },
  {
   "cell_type": "code",
   "execution_count": 4,
   "metadata": {},
   "outputs": [
    {
     "data": {
      "text/plain": [
       "DatetimeIndex(['2020-11-30 22:15:10.616997', '2020-12-31 22:15:10.616997',\n",
       "               '2021-01-29 22:15:10.616997', '2021-02-26 22:15:10.616997',\n",
       "               '2021-03-31 22:15:10.616997', '2021-04-30 22:15:10.616997',\n",
       "               '2021-05-31 22:15:10.616997', '2021-06-30 22:15:10.616997',\n",
       "               '2021-07-30 22:15:10.616997', '2021-08-31 22:15:10.616997',\n",
       "               '2021-09-30 22:15:10.616997', '2021-10-29 22:15:10.616997',\n",
       "               '2021-11-30 22:15:10.616997'],\n",
       "              dtype='datetime64[ns]', freq='BM')"
      ]
     },
     "execution_count": 4,
     "metadata": {},
     "output_type": "execute_result"
    }
   ],
   "source": [
    "# You can generate data using different frequency offset alias\n",
    "# https://pandas.pydata.org/pandas-docs/stable/user_guide/timeseries.html#offset-aliases\n",
    "\n",
    "# BM - business month end\n",
    "pd.date_range(start=datetime.now(), end=datetime.now()+timedelta(days=365), freq='BM')"
   ]
  },
  {
   "cell_type": "code",
   "execution_count": 5,
   "metadata": {},
   "outputs": [
    {
     "data": {
      "text/plain": [
       "DatetimeIndex(['2020-11-30 22:15:10.706851', '2020-11-30 23:45:10.706851',\n",
       "               '2020-12-01 01:15:10.706851', '2020-12-01 02:45:10.706851',\n",
       "               '2020-12-01 04:15:10.706851', '2020-12-01 05:45:10.706851',\n",
       "               '2020-12-01 07:15:10.706851', '2020-12-01 08:45:10.706851',\n",
       "               '2020-12-01 10:15:10.706851', '2020-12-01 11:45:10.706851',\n",
       "               '2020-12-01 13:15:10.706851', '2020-12-01 14:45:10.706851',\n",
       "               '2020-12-01 16:15:10.706851', '2020-12-01 17:45:10.706851',\n",
       "               '2020-12-01 19:15:10.706851', '2020-12-01 20:45:10.706851',\n",
       "               '2020-12-01 22:15:10.706851', '2020-12-01 23:45:10.706851',\n",
       "               '2020-12-02 01:15:10.706851', '2020-12-02 02:45:10.706851',\n",
       "               '2020-12-02 04:15:10.706851', '2020-12-02 05:45:10.706851',\n",
       "               '2020-12-02 07:15:10.706851', '2020-12-02 08:45:10.706851',\n",
       "               '2020-12-02 10:15:10.706851', '2020-12-02 11:45:10.706851',\n",
       "               '2020-12-02 13:15:10.706851', '2020-12-02 14:45:10.706851',\n",
       "               '2020-12-02 16:15:10.706851', '2020-12-02 17:45:10.706851',\n",
       "               '2020-12-02 19:15:10.706851', '2020-12-02 20:45:10.706851',\n",
       "               '2020-12-02 22:15:10.706851', '2020-12-02 23:45:10.706851',\n",
       "               '2020-12-03 01:15:10.706851', '2020-12-03 02:45:10.706851',\n",
       "               '2020-12-03 04:15:10.706851', '2020-12-03 05:45:10.706851',\n",
       "               '2020-12-03 07:15:10.706851', '2020-12-03 08:45:10.706851',\n",
       "               '2020-12-03 10:15:10.706851', '2020-12-03 11:45:10.706851',\n",
       "               '2020-12-03 13:15:10.706851', '2020-12-03 14:45:10.706851',\n",
       "               '2020-12-03 16:15:10.706851', '2020-12-03 17:45:10.706851',\n",
       "               '2020-12-03 19:15:10.706851', '2020-12-03 20:45:10.706851',\n",
       "               '2020-12-03 22:15:10.706851'],\n",
       "              dtype='datetime64[ns]', freq='90T')"
      ]
     },
     "execution_count": 5,
     "metadata": {},
     "output_type": "execute_result"
    }
   ],
   "source": [
    "# Every 90 minutes\n",
    "pd.date_range(start=datetime.now(), end=datetime.now()+timedelta(days=3), freq='1H30T')"
   ]
  },
  {
   "cell_type": "markdown",
   "metadata": {},
   "source": [
    "## Handling Time Zone"
   ]
  },
  {
   "cell_type": "code",
   "execution_count": 6,
   "metadata": {},
   "outputs": [],
   "source": [
    "# View common time zones\n",
    "# pytz.common_timezones"
   ]
  },
  {
   "cell_type": "code",
   "execution_count": 7,
   "metadata": {},
   "outputs": [
    {
     "name": "stdout",
     "output_type": "stream",
     "text": [
      "None\n"
     ]
    }
   ],
   "source": [
    "# Check time series time zone zone\n",
    "print(ts.index.tz)"
   ]
  },
  {
   "cell_type": "code",
   "execution_count": 8,
   "metadata": {},
   "outputs": [
    {
     "name": "stdout",
     "output_type": "stream",
     "text": [
      "UTC\n"
     ]
    }
   ],
   "source": [
    "ts_utc = ts.tz_localize('UTC')\n",
    "print(ts_utc.index.tz)"
   ]
  },
  {
   "cell_type": "code",
   "execution_count": 9,
   "metadata": {},
   "outputs": [
    {
     "name": "stdout",
     "output_type": "stream",
     "text": [
      "Asia/Singapore\n"
     ]
    }
   ],
   "source": [
    "ts_sgt = ts.tz_localize('Asia/Singapore')\n",
    "print(ts_sgt.index.tz)"
   ]
  },
  {
   "cell_type": "code",
   "execution_count": 10,
   "metadata": {},
   "outputs": [
    {
     "name": "stdout",
     "output_type": "stream",
     "text": [
      "Europe/London\n"
     ]
    }
   ],
   "source": [
    "ts_london = ts.tz_localize('Europe/London')\n",
    "print(ts_london.index.tz)"
   ]
  },
  {
   "cell_type": "code",
   "execution_count": 11,
   "metadata": {},
   "outputs": [
    {
     "name": "stdout",
     "output_type": "stream",
     "text": [
      "UTC time 2020-12-01 06:00:00+00:00\n",
      "Shanghai time: 2020-12-01 14:00:00+08:00\n"
     ]
    }
   ],
   "source": [
    "# Convert between timezone\n",
    "utc_time = pd.Timestamp('2020-12-01 06:00', tz='utc')\n",
    "print(f\"UTC time {utc_time}\")\n",
    "\n",
    "shanghai_time = utc_time.tz_convert('Asia/Shanghai')\n",
    "print(f\"Shanghai time: {shanghai_time}\")"
   ]
  },
  {
   "cell_type": "markdown",
   "metadata": {},
   "source": [
    "## Resampling"
   ]
  },
  {
   "cell_type": "code",
   "execution_count": 12,
   "metadata": {},
   "outputs": [
    {
     "data": {
      "text/plain": [
       "2020-11-30    1.585124\n",
       "2020-12-01   -1.414916\n",
       "2020-12-02    0.803658\n",
       "2020-12-03    1.806629\n",
       "2020-12-04   -0.322983\n",
       "                ...   \n",
       "2021-11-25   -0.448104\n",
       "2021-11-26   -1.526181\n",
       "2021-11-27   -1.016236\n",
       "2021-11-28    1.407859\n",
       "2021-11-29   -0.321341\n",
       "Freq: D, Length: 365, dtype: float64"
      ]
     },
     "execution_count": 12,
     "metadata": {},
     "output_type": "execute_result"
    }
   ],
   "source": [
    "dt_ranges = pd.date_range(datetime.now(), periods=365, freq='D', normalize=True)\n",
    "ts = pd.Series(np.random.randn(len(dt_ranges)), index=dt_ranges)\n",
    "ts"
   ]
  },
  {
   "cell_type": "code",
   "execution_count": 13,
   "metadata": {},
   "outputs": [
    {
     "data": {
      "text/plain": [
       "2020-11-30    1.585124\n",
       "2020-12-31    9.851050\n",
       "2021-01-31   -1.928722\n",
       "2021-02-28   -3.372794\n",
       "2021-03-31   -2.345714\n",
       "2021-04-30    7.103327\n",
       "2021-05-31   -7.436128\n",
       "2021-06-30    3.219236\n",
       "2021-07-31   -4.484938\n",
       "2021-08-31    4.317270\n",
       "2021-09-30    0.504276\n",
       "2021-10-31    1.869045\n",
       "2021-11-30   -9.744188\n",
       "Freq: M, dtype: float64"
      ]
     },
     "execution_count": 13,
     "metadata": {},
     "output_type": "execute_result"
    }
   ],
   "source": [
    "# Roll up to month\n",
    "ts.resample('M').sum()"
   ]
  },
  {
   "cell_type": "code",
   "execution_count": 14,
   "metadata": {},
   "outputs": [
    {
     "data": {
      "text/plain": [
       "2020-12-31    11.436174\n",
       "2021-03-31    -7.647230\n",
       "2021-06-30     2.886435\n",
       "2021-09-30     0.336608\n",
       "2021-12-31    -7.875144\n",
       "Freq: Q-DEC, dtype: float64"
      ]
     },
     "execution_count": 14,
     "metadata": {},
     "output_type": "execute_result"
    }
   ],
   "source": [
    "# Roll up to quarter\n",
    "ts.resample('Q').sum()"
   ]
  },
  {
   "cell_type": "markdown",
   "metadata": {},
   "source": [
    "## Downsampling"
   ]
  },
  {
   "cell_type": "code",
   "execution_count": 15,
   "metadata": {},
   "outputs": [
    {
     "data": {
      "text/plain": [
       "2020-11-30 00:00:00    2.121012\n",
       "2020-11-30 00:01:00   -0.853633\n",
       "2020-11-30 00:02:00    1.338878\n",
       "2020-11-30 00:03:00   -0.182970\n",
       "2020-11-30 00:04:00   -1.203463\n",
       "                         ...   \n",
       "2020-11-30 01:35:00   -2.322760\n",
       "2020-11-30 01:36:00   -0.101464\n",
       "2020-11-30 01:37:00    0.273743\n",
       "2020-11-30 01:38:00   -0.720636\n",
       "2020-11-30 01:39:00    1.126607\n",
       "Freq: T, Length: 100, dtype: float64"
      ]
     },
     "execution_count": 15,
     "metadata": {},
     "output_type": "execute_result"
    }
   ],
   "source": [
    "dt_ranges = pd.date_range(datetime.now(), periods=100, freq='T', normalize=True)\n",
    "ts = pd.Series(np.random.randn(len(dt_ranges)), index=dt_ranges)\n",
    "ts"
   ]
  },
  {
   "cell_type": "code",
   "execution_count": 16,
   "metadata": {},
   "outputs": [
    {
     "data": {
      "text/plain": [
       "2020-11-30 00:00:00    2.121012\n",
       "2020-11-30 00:05:00   -1.656988\n",
       "2020-11-30 00:10:00   -0.589775\n",
       "2020-11-30 00:15:00    0.394332\n",
       "2020-11-30 00:20:00    0.347651\n",
       "2020-11-30 00:25:00   -3.131145\n",
       "2020-11-30 00:30:00   -1.679286\n",
       "2020-11-30 00:35:00   -1.128595\n",
       "2020-11-30 00:40:00    0.930344\n",
       "2020-11-30 00:45:00   -1.268070\n",
       "2020-11-30 00:50:00   -0.439117\n",
       "2020-11-30 00:55:00    4.220593\n",
       "2020-11-30 01:00:00    0.674003\n",
       "2020-11-30 01:05:00   -1.193444\n",
       "2020-11-30 01:10:00   -1.816312\n",
       "2020-11-30 01:15:00    2.718408\n",
       "2020-11-30 01:20:00   -2.594344\n",
       "2020-11-30 01:25:00    0.641173\n",
       "2020-11-30 01:30:00   -3.910601\n",
       "2020-11-30 01:35:00   -0.084118\n",
       "2020-11-30 01:40:00    0.578250\n",
       "Freq: 5T, dtype: float64"
      ]
     },
     "execution_count": 16,
     "metadata": {},
     "output_type": "execute_result"
    }
   ],
   "source": [
    "ts.resample('5min', closed='right', label='right').sum()"
   ]
  },
  {
   "cell_type": "code",
   "execution_count": 17,
   "metadata": {},
   "outputs": [
    {
     "data": {
      "text/html": [
       "<div>\n",
       "<style scoped>\n",
       "    .dataframe tbody tr th:only-of-type {\n",
       "        vertical-align: middle;\n",
       "    }\n",
       "\n",
       "    .dataframe tbody tr th {\n",
       "        vertical-align: top;\n",
       "    }\n",
       "\n",
       "    .dataframe thead th {\n",
       "        text-align: right;\n",
       "    }\n",
       "</style>\n",
       "<table border=\"1\" class=\"dataframe\">\n",
       "  <thead>\n",
       "    <tr style=\"text-align: right;\">\n",
       "      <th></th>\n",
       "      <th>open</th>\n",
       "      <th>high</th>\n",
       "      <th>low</th>\n",
       "      <th>close</th>\n",
       "    </tr>\n",
       "  </thead>\n",
       "  <tbody>\n",
       "    <tr>\n",
       "      <th>2020-11-30 00:00:00</th>\n",
       "      <td>2.121012</td>\n",
       "      <td>2.121012</td>\n",
       "      <td>-1.203463</td>\n",
       "      <td>-1.203463</td>\n",
       "    </tr>\n",
       "    <tr>\n",
       "      <th>2020-11-30 00:05:00</th>\n",
       "      <td>-0.755800</td>\n",
       "      <td>1.032157</td>\n",
       "      <td>-2.055566</td>\n",
       "      <td>0.147018</td>\n",
       "    </tr>\n",
       "    <tr>\n",
       "      <th>2020-11-30 00:10:00</th>\n",
       "      <td>0.330134</td>\n",
       "      <td>0.606053</td>\n",
       "      <td>-0.446411</td>\n",
       "      <td>-0.239910</td>\n",
       "    </tr>\n",
       "    <tr>\n",
       "      <th>2020-11-30 00:15:00</th>\n",
       "      <td>0.771519</td>\n",
       "      <td>0.778319</td>\n",
       "      <td>-0.432109</td>\n",
       "      <td>-0.432109</td>\n",
       "    </tr>\n",
       "    <tr>\n",
       "      <th>2020-11-30 00:20:00</th>\n",
       "      <td>-0.922886</td>\n",
       "      <td>-0.522552</td>\n",
       "      <td>-1.733847</td>\n",
       "      <td>-0.522552</td>\n",
       "    </tr>\n",
       "    <tr>\n",
       "      <th>2020-11-30 00:25:00</th>\n",
       "      <td>0.656385</td>\n",
       "      <td>0.656385</td>\n",
       "      <td>-1.171955</td>\n",
       "      <td>-0.571694</td>\n",
       "    </tr>\n",
       "    <tr>\n",
       "      <th>2020-11-30 00:30:00</th>\n",
       "      <td>-0.167508</td>\n",
       "      <td>0.699186</td>\n",
       "      <td>-1.066592</td>\n",
       "      <td>0.699186</td>\n",
       "    </tr>\n",
       "    <tr>\n",
       "      <th>2020-11-30 00:35:00</th>\n",
       "      <td>-0.118782</td>\n",
       "      <td>1.396087</td>\n",
       "      <td>-0.720903</td>\n",
       "      <td>0.085870</td>\n",
       "    </tr>\n",
       "    <tr>\n",
       "      <th>2020-11-30 00:40:00</th>\n",
       "      <td>0.588805</td>\n",
       "      <td>1.106473</td>\n",
       "      <td>-1.504822</td>\n",
       "      <td>-1.504822</td>\n",
       "    </tr>\n",
       "    <tr>\n",
       "      <th>2020-11-30 00:45:00</th>\n",
       "      <td>-1.469988</td>\n",
       "      <td>0.883935</td>\n",
       "      <td>-1.469988</td>\n",
       "      <td>-0.377196</td>\n",
       "    </tr>\n",
       "    <tr>\n",
       "      <th>2020-11-30 00:50:00</th>\n",
       "      <td>0.491693</td>\n",
       "      <td>1.534174</td>\n",
       "      <td>-0.003298</td>\n",
       "      <td>1.294163</td>\n",
       "    </tr>\n",
       "    <tr>\n",
       "      <th>2020-11-30 00:55:00</th>\n",
       "      <td>0.693716</td>\n",
       "      <td>0.693716</td>\n",
       "      <td>-1.295987</td>\n",
       "      <td>0.619027</td>\n",
       "    </tr>\n",
       "    <tr>\n",
       "      <th>2020-11-30 01:00:00</th>\n",
       "      <td>0.878659</td>\n",
       "      <td>0.878659</td>\n",
       "      <td>-1.200872</td>\n",
       "      <td>-1.200872</td>\n",
       "    </tr>\n",
       "    <tr>\n",
       "      <th>2020-11-30 01:05:00</th>\n",
       "      <td>1.084968</td>\n",
       "      <td>1.084968</td>\n",
       "      <td>-0.979479</td>\n",
       "      <td>-0.979479</td>\n",
       "    </tr>\n",
       "    <tr>\n",
       "      <th>2020-11-30 01:10:00</th>\n",
       "      <td>0.501152</td>\n",
       "      <td>0.982524</td>\n",
       "      <td>-1.320611</td>\n",
       "      <td>0.383984</td>\n",
       "    </tr>\n",
       "    <tr>\n",
       "      <th>2020-11-30 01:15:00</th>\n",
       "      <td>1.774389</td>\n",
       "      <td>1.774389</td>\n",
       "      <td>-1.161801</td>\n",
       "      <td>-0.689979</td>\n",
       "    </tr>\n",
       "    <tr>\n",
       "      <th>2020-11-30 01:20:00</th>\n",
       "      <td>-0.095613</td>\n",
       "      <td>1.861040</td>\n",
       "      <td>-0.838709</td>\n",
       "      <td>1.861040</td>\n",
       "    </tr>\n",
       "    <tr>\n",
       "      <th>2020-11-30 01:25:00</th>\n",
       "      <td>-0.215013</td>\n",
       "      <td>2.084022</td>\n",
       "      <td>-1.636890</td>\n",
       "      <td>-1.153122</td>\n",
       "    </tr>\n",
       "    <tr>\n",
       "      <th>2020-11-30 01:30:00</th>\n",
       "      <td>-3.200209</td>\n",
       "      <td>2.756077</td>\n",
       "      <td>-3.200209</td>\n",
       "      <td>0.178031</td>\n",
       "    </tr>\n",
       "    <tr>\n",
       "      <th>2020-11-30 01:35:00</th>\n",
       "      <td>-2.322760</td>\n",
       "      <td>1.126607</td>\n",
       "      <td>-2.322760</td>\n",
       "      <td>1.126607</td>\n",
       "    </tr>\n",
       "  </tbody>\n",
       "</table>\n",
       "</div>"
      ],
      "text/plain": [
       "                         open      high       low     close\n",
       "2020-11-30 00:00:00  2.121012  2.121012 -1.203463 -1.203463\n",
       "2020-11-30 00:05:00 -0.755800  1.032157 -2.055566  0.147018\n",
       "2020-11-30 00:10:00  0.330134  0.606053 -0.446411 -0.239910\n",
       "2020-11-30 00:15:00  0.771519  0.778319 -0.432109 -0.432109\n",
       "2020-11-30 00:20:00 -0.922886 -0.522552 -1.733847 -0.522552\n",
       "2020-11-30 00:25:00  0.656385  0.656385 -1.171955 -0.571694\n",
       "2020-11-30 00:30:00 -0.167508  0.699186 -1.066592  0.699186\n",
       "2020-11-30 00:35:00 -0.118782  1.396087 -0.720903  0.085870\n",
       "2020-11-30 00:40:00  0.588805  1.106473 -1.504822 -1.504822\n",
       "2020-11-30 00:45:00 -1.469988  0.883935 -1.469988 -0.377196\n",
       "2020-11-30 00:50:00  0.491693  1.534174 -0.003298  1.294163\n",
       "2020-11-30 00:55:00  0.693716  0.693716 -1.295987  0.619027\n",
       "2020-11-30 01:00:00  0.878659  0.878659 -1.200872 -1.200872\n",
       "2020-11-30 01:05:00  1.084968  1.084968 -0.979479 -0.979479\n",
       "2020-11-30 01:10:00  0.501152  0.982524 -1.320611  0.383984\n",
       "2020-11-30 01:15:00  1.774389  1.774389 -1.161801 -0.689979\n",
       "2020-11-30 01:20:00 -0.095613  1.861040 -0.838709  1.861040\n",
       "2020-11-30 01:25:00 -0.215013  2.084022 -1.636890 -1.153122\n",
       "2020-11-30 01:30:00 -3.200209  2.756077 -3.200209  0.178031\n",
       "2020-11-30 01:35:00 -2.322760  1.126607 -2.322760  1.126607"
      ]
     },
     "execution_count": 17,
     "metadata": {},
     "output_type": "execute_result"
    }
   ],
   "source": [
    "# OHLC resampling\n",
    "ts.resample('5min').ohlc()"
   ]
  },
  {
   "cell_type": "markdown",
   "metadata": {},
   "source": [
    "## Upsampling"
   ]
  },
  {
   "cell_type": "code",
   "execution_count": 18,
   "metadata": {},
   "outputs": [
    {
     "data": {
      "text/plain": [
       "2020-11-30   -1.095122\n",
       "2020-12-31   -0.295964\n",
       "2021-01-31    1.312082\n",
       "2021-02-28    0.596658\n",
       "2021-03-31    1.395351\n",
       "2021-04-30    0.588673\n",
       "2021-05-31   -1.640779\n",
       "2021-06-30    1.727461\n",
       "2021-07-31    1.753506\n",
       "2021-08-31    0.261647\n",
       "2021-09-30   -0.031431\n",
       "2021-10-31    1.263081\n",
       "Freq: M, dtype: float64"
      ]
     },
     "execution_count": 18,
     "metadata": {},
     "output_type": "execute_result"
    }
   ],
   "source": [
    "dt_ranges = pd.date_range(datetime.now(), periods=12, freq='M', normalize=True)\n",
    "ts = pd.Series(np.random.randn(len(dt_ranges)), index=dt_ranges)\n",
    "ts"
   ]
  },
  {
   "cell_type": "code",
   "execution_count": 19,
   "metadata": {},
   "outputs": [
    {
     "data": {
      "text/plain": [
       "2020-11-30   -1.095122\n",
       "2020-12-01   -1.095122\n",
       "2020-12-02   -1.095122\n",
       "2020-12-03   -1.095122\n",
       "2020-12-04   -1.095122\n",
       "                ...   \n",
       "2021-10-27   -0.031431\n",
       "2021-10-28   -0.031431\n",
       "2021-10-29   -0.031431\n",
       "2021-10-30   -0.031431\n",
       "2021-10-31    1.263081\n",
       "Freq: D, Length: 336, dtype: float64"
      ]
     },
     "execution_count": 19,
     "metadata": {},
     "output_type": "execute_result"
    }
   ],
   "source": [
    "ts.resample('D').ffill()"
   ]
  },
  {
   "cell_type": "markdown",
   "metadata": {},
   "source": [
    "## Moving Average"
   ]
  },
  {
   "cell_type": "code",
   "execution_count": 20,
   "metadata": {},
   "outputs": [
    {
     "data": {
      "text/plain": [
       "2020-11-30    190\n",
       "2020-12-01    187\n",
       "2020-12-02    177\n",
       "2020-12-03    191\n",
       "2020-12-04    191\n",
       "2020-12-05    191\n",
       "2020-12-06    176\n",
       "2020-12-07    190\n",
       "2020-12-08    153\n",
       "2020-12-09    160\n",
       "2020-12-10    164\n",
       "2020-12-11    186\n",
       "2020-12-12    157\n",
       "2020-12-13    193\n",
       "2020-12-14    194\n",
       "2020-12-15    174\n",
       "2020-12-16    197\n",
       "2020-12-17    159\n",
       "2020-12-18    157\n",
       "2020-12-19    167\n",
       "2020-12-20    194\n",
       "2020-12-21    167\n",
       "2020-12-22    150\n",
       "2020-12-23    171\n",
       "2020-12-24    160\n",
       "2020-12-25    162\n",
       "2020-12-26    190\n",
       "2020-12-27    173\n",
       "2020-12-28    197\n",
       "2020-12-29    196\n",
       "Freq: D, dtype: int64"
      ]
     },
     "execution_count": 20,
     "metadata": {},
     "output_type": "execute_result"
    }
   ],
   "source": [
    "dt_ranges = pd.date_range(datetime.now(), periods=30, freq='D', normalize=True)\n",
    "ts = pd.Series(np.random.randint(150,200, len(dt_ranges)), index=dt_ranges)\n",
    "ts"
   ]
  },
  {
   "cell_type": "code",
   "execution_count": 22,
   "metadata": {},
   "outputs": [
    {
     "name": "stdout",
     "output_type": "stream",
     "text": [
      "Object `ts.wm` not found.\n"
     ]
    },
    {
     "data": {
      "image/png": "[encoded data removed]",
      "text/plain": [
       "<Figure size 432x288 with 1 Axes>"
      ]
     },
     "metadata": {
      "needs_background": "light"
     },
     "output_type": "display_data"
    }
   ],
   "source": [
    "ts.plot()\n",
    "ts.rolling(5).mean().plot()\n",
    "ts.ewm(5).mean().plot();"
   ]
  },
  {
   "cell_type": "code",
   "execution_count": null,
   "metadata": {},
   "outputs": [],
   "source": []
  }
 ],
 "metadata": {
  "kernelspec": {
   "display_name": "Python 3",
   "language": "python",
   "name": "python3"
  },
  "language_info": {
   "codemirror_mode": {
    "name": "ipython",
    "version": 3
   },
   "file_extension": ".py",
   "mimetype": "text/x-python",
   "name": "python",
   "nbconvert_exporter": "python",
   "pygments_lexer": "ipython3",
   "version": "3.8.3"
  }
 },
 "nbformat": 4,
 "nbformat_minor": 4
}
