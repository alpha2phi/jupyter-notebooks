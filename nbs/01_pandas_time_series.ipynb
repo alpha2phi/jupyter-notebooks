{
 "cells": [
  {
   "cell_type": "markdown",
   "metadata": {},
   "source": [
    "# Python - Time Series Data with Pandas"
   ]
  },
  {
   "cell_type": "code",
   "execution_count": 106,
   "metadata": {},
   "outputs": [],
   "source": [
    "from datetime import datetime, timedelta\n",
    "import numpy as np\n",
    "import pandas as pd\n",
    "import matplotlib.pyplot as plt\n",
    "import pytz\n",
    "\n",
    "%matplotlib inline"
   ]
  },
  {
   "cell_type": "markdown",
   "metadata": {},
   "source": [
    "## Generate Time Series Data"
   ]
  },
  {
   "cell_type": "code",
   "execution_count": 47,
   "metadata": {},
   "outputs": [
    {
     "data": {
      "text/plain": [
       "2020-11-30 08:53:58.271878    0.566087\n",
       "2020-12-01 08:53:58.271878    0.906584\n",
       "2020-12-02 08:53:58.271878    0.512919\n",
       "2020-12-03 08:53:58.271878    0.878789\n",
       "2020-12-04 08:53:58.271878    0.942902\n",
       "                                ...   \n",
       "2021-03-05 08:53:58.271878    0.983846\n",
       "2021-03-06 08:53:58.271878    0.289516\n",
       "2021-03-07 08:53:58.271878    0.840058\n",
       "2021-03-08 08:53:58.271878    0.519680\n",
       "2021-03-09 08:53:58.271878    0.506116\n",
       "Freq: D, Length: 100, dtype: float64"
      ]
     },
     "execution_count": 47,
     "metadata": {},
     "output_type": "execute_result"
    }
   ],
   "source": [
    "# Generate data with time\n",
    "ts = pd.Series(np.random.rand(100), index=pd.date_range(datetime.now(), periods=100))\n",
    "ts"
   ]
  },
  {
   "cell_type": "code",
   "execution_count": 48,
   "metadata": {},
   "outputs": [
    {
     "data": {
      "text/plain": [
       "2020-11-30    0.403108\n",
       "2020-12-01    0.386055\n",
       "2020-12-02    0.904074\n",
       "2020-12-03    0.705386\n",
       "2020-12-04    0.527159\n",
       "                ...   \n",
       "2021-03-05    0.271150\n",
       "2021-03-06    0.851113\n",
       "2021-03-07    0.778842\n",
       "2021-03-08    0.380553\n",
       "2021-03-09    0.552797\n",
       "Freq: D, Length: 100, dtype: float64"
      ]
     },
     "execution_count": 48,
     "metadata": {},
     "output_type": "execute_result"
    }
   ],
   "source": [
    "# Genereate data without time (normalize = True)\n",
    "ts = pd.Series(np.random.rand(100), index=pd.date_range(datetime.now(), periods=100, normalize=True))\n",
    "ts"
   ]
  },
  {
   "cell_type": "code",
   "execution_count": 50,
   "metadata": {},
   "outputs": [
    {
     "data": {
      "text/plain": [
       "DatetimeIndex(['2020-11-30', '2020-12-31', '2021-01-29', '2021-02-26',\n",
       "               '2021-03-31', '2021-04-30', '2021-05-31', '2021-06-30',\n",
       "               '2021-07-30', '2021-08-31', '2021-09-30', '2021-10-29'],\n",
       "              dtype='datetime64[ns]', freq='BM')"
      ]
     },
     "execution_count": 50,
     "metadata": {},
     "output_type": "execute_result"
    }
   ],
   "source": [
    "# You can generaete data using different frequency offset alias\n",
    "# https://pandas.pydata.org/pandas-docs/stable/user_guide/timeseries.html#offset-aliases\n",
    "\n",
    "# BM - business month end\n",
    "pd.date_range(start=dt, end=dt+timedelta(days=365), freq='BM')"
   ]
  },
  {
   "cell_type": "code",
   "execution_count": 51,
   "metadata": {},
   "outputs": [
    {
     "data": {
      "text/plain": [
       "DatetimeIndex(['2020-11-29 00:00:00', '2020-11-29 01:30:00',\n",
       "               '2020-11-29 03:00:00', '2020-11-29 04:30:00',\n",
       "               '2020-11-29 06:00:00', '2020-11-29 07:30:00',\n",
       "               '2020-11-29 09:00:00', '2020-11-29 10:30:00',\n",
       "               '2020-11-29 12:00:00', '2020-11-29 13:30:00',\n",
       "               '2020-11-29 15:00:00', '2020-11-29 16:30:00',\n",
       "               '2020-11-29 18:00:00', '2020-11-29 19:30:00',\n",
       "               '2020-11-29 21:00:00', '2020-11-29 22:30:00',\n",
       "               '2020-11-30 00:00:00', '2020-11-30 01:30:00',\n",
       "               '2020-11-30 03:00:00', '2020-11-30 04:30:00',\n",
       "               '2020-11-30 06:00:00', '2020-11-30 07:30:00',\n",
       "               '2020-11-30 09:00:00', '2020-11-30 10:30:00',\n",
       "               '2020-11-30 12:00:00', '2020-11-30 13:30:00',\n",
       "               '2020-11-30 15:00:00', '2020-11-30 16:30:00',\n",
       "               '2020-11-30 18:00:00', '2020-11-30 19:30:00',\n",
       "               '2020-11-30 21:00:00', '2020-11-30 22:30:00',\n",
       "               '2020-12-01 00:00:00', '2020-12-01 01:30:00',\n",
       "               '2020-12-01 03:00:00', '2020-12-01 04:30:00',\n",
       "               '2020-12-01 06:00:00', '2020-12-01 07:30:00',\n",
       "               '2020-12-01 09:00:00', '2020-12-01 10:30:00',\n",
       "               '2020-12-01 12:00:00', '2020-12-01 13:30:00',\n",
       "               '2020-12-01 15:00:00', '2020-12-01 16:30:00',\n",
       "               '2020-12-01 18:00:00', '2020-12-01 19:30:00',\n",
       "               '2020-12-01 21:00:00', '2020-12-01 22:30:00',\n",
       "               '2020-12-02 00:00:00'],\n",
       "              dtype='datetime64[ns]', freq='90T')"
      ]
     },
     "execution_count": 51,
     "metadata": {},
     "output_type": "execute_result"
    }
   ],
   "source": [
    "# Every 90 minutes\n",
    "pd.date_range(start=dt, end=dt+timedelta(days=3), freq='1H30T')"
   ]
  },
  {
   "cell_type": "markdown",
   "metadata": {},
   "source": [
    "## Handling Time Zone"
   ]
  },
  {
   "cell_type": "code",
   "execution_count": 55,
   "metadata": {},
   "outputs": [],
   "source": [
    "# View common time zones\n",
    "# pytz.common_timezones"
   ]
  },
  {
   "cell_type": "code",
   "execution_count": 57,
   "metadata": {},
   "outputs": [
    {
     "name": "stdout",
     "output_type": "stream",
     "text": [
      "None\n"
     ]
    }
   ],
   "source": [
    "# Check time series time zone zone\n",
    "print(ts.index.tz)"
   ]
  },
  {
   "cell_type": "code",
   "execution_count": 60,
   "metadata": {},
   "outputs": [
    {
     "name": "stdout",
     "output_type": "stream",
     "text": [
      "UTC\n"
     ]
    }
   ],
   "source": [
    "ts_utc = ts.tz_localize('UTC')\n",
    "print(ts_utc.index.tz)"
   ]
  },
  {
   "cell_type": "code",
   "execution_count": 62,
   "metadata": {},
   "outputs": [
    {
     "name": "stdout",
     "output_type": "stream",
     "text": [
      "Asia/Singapore\n"
     ]
    }
   ],
   "source": [
    "ts_sgt = ts.tz_localize('Asia/Singapore')\n",
    "print(ts_sgt.index.tz)"
   ]
  },
  {
   "cell_type": "code",
   "execution_count": 63,
   "metadata": {},
   "outputs": [
    {
     "name": "stdout",
     "output_type": "stream",
     "text": [
      "Europe/London\n"
     ]
    }
   ],
   "source": [
    "ts_london = ts.tz_localize('Europe/London')\n",
    "print(ts_london.index.tz)"
   ]
  },
  {
   "cell_type": "code",
   "execution_count": 73,
   "metadata": {},
   "outputs": [
    {
     "name": "stdout",
     "output_type": "stream",
     "text": [
      "UTC time 2020-12-01 06:00:00+00:00\n",
      "Shanghai time: 2020-12-01 14:00:00+08:00\n"
     ]
    }
   ],
   "source": [
    "# Convert between timezone\n",
    "utc_time = pd.Timestamp('2020-12-01 06:00', tz='utc')\n",
    "print(f\"UTC time {utc_time}\")\n",
    "\n",
    "shanghai_time = utc_time.tz_convert('Asia/Shanghai')\n",
    "print(f\"Shanghai time: {shanghai_time}\")"
   ]
  },
  {
   "cell_type": "markdown",
   "metadata": {},
   "source": [
    "## Resampling"
   ]
  },
  {
   "cell_type": "code",
   "execution_count": 79,
   "metadata": {},
   "outputs": [
    {
     "data": {
      "text/plain": [
       "2020-11-30   -0.324954\n",
       "2020-12-01   -1.149071\n",
       "2020-12-02   -1.766691\n",
       "2020-12-03    1.114326\n",
       "2020-12-04    0.454338\n",
       "                ...   \n",
       "2021-11-25   -0.363843\n",
       "2021-11-26    0.815752\n",
       "2021-11-27    2.276535\n",
       "2021-11-28    0.964677\n",
       "2021-11-29    1.079887\n",
       "Freq: D, Length: 365, dtype: float64"
      ]
     },
     "execution_count": 79,
     "metadata": {},
     "output_type": "execute_result"
    }
   ],
   "source": [
    "dt_ranges = pd.date_range(datetime.now(), periods=365, freq='D', normalize=True)\n",
    "ts = pd.Series(np.random.randn(len(dt_ranges)), index=dt_ranges)\n",
    "ts"
   ]
  },
  {
   "cell_type": "code",
   "execution_count": 80,
   "metadata": {},
   "outputs": [
    {
     "data": {
      "text/plain": [
       "2020-11-30   -0.324954\n",
       "2020-12-31    1.414100\n",
       "2021-01-31    4.912475\n",
       "2021-02-28   -1.587236\n",
       "2021-03-31   -7.061592\n",
       "2021-04-30    8.470704\n",
       "2021-05-31   -3.302751\n",
       "2021-06-30    9.050472\n",
       "2021-07-31    3.256410\n",
       "2021-08-31    7.495364\n",
       "2021-09-30    4.506512\n",
       "2021-10-31    6.600639\n",
       "2021-11-30    0.966138\n",
       "Freq: M, dtype: float64"
      ]
     },
     "execution_count": 80,
     "metadata": {},
     "output_type": "execute_result"
    }
   ],
   "source": [
    "# Roll up to month\n",
    "ts.resample('M').sum()"
   ]
  },
  {
   "cell_type": "code",
   "execution_count": 81,
   "metadata": {},
   "outputs": [
    {
     "data": {
      "text/plain": [
       "2020-12-31     1.089146\n",
       "2021-03-31    -3.736353\n",
       "2021-06-30    14.218426\n",
       "2021-09-30    15.258287\n",
       "2021-12-31     7.566778\n",
       "Freq: Q-DEC, dtype: float64"
      ]
     },
     "execution_count": 81,
     "metadata": {},
     "output_type": "execute_result"
    }
   ],
   "source": [
    "# Roll up to quarter\n",
    "ts.resample('Q').sum()"
   ]
  },
  {
   "cell_type": "markdown",
   "metadata": {},
   "source": [
    "## Downsampling"
   ]
  },
  {
   "cell_type": "code",
   "execution_count": 85,
   "metadata": {},
   "outputs": [
    {
     "data": {
      "text/plain": [
       "2020-11-30 00:00:00    0.088538\n",
       "2020-11-30 00:01:00    0.632649\n",
       "2020-11-30 00:02:00    1.060944\n",
       "2020-11-30 00:03:00   -1.153388\n",
       "2020-11-30 00:04:00   -0.363503\n",
       "                         ...   \n",
       "2020-11-30 01:35:00   -2.070810\n",
       "2020-11-30 01:36:00    1.414299\n",
       "2020-11-30 01:37:00   -0.337969\n",
       "2020-11-30 01:38:00    0.076367\n",
       "2020-11-30 01:39:00   -0.744389\n",
       "Freq: T, Length: 100, dtype: float64"
      ]
     },
     "execution_count": 85,
     "metadata": {},
     "output_type": "execute_result"
    }
   ],
   "source": [
    "dt_ranges = pd.date_range(datetime.now(), periods=100, freq='T', normalize=True)\n",
    "ts = pd.Series(np.random.randn(len(dt_ranges)), index=dt_ranges)\n",
    "ts"
   ]
  },
  {
   "cell_type": "code",
   "execution_count": 87,
   "metadata": {},
   "outputs": [
    {
     "data": {
      "text/plain": [
       "2020-11-30 00:00:00    0.088538\n",
       "2020-11-30 00:05:00   -1.234836\n",
       "2020-11-30 00:10:00   -0.531198\n",
       "2020-11-30 00:15:00   -0.723730\n",
       "2020-11-30 00:20:00    2.609681\n",
       "2020-11-30 00:25:00    4.472404\n",
       "2020-11-30 00:30:00   -1.870135\n",
       "2020-11-30 00:35:00   -1.153896\n",
       "2020-11-30 00:40:00    1.737836\n",
       "2020-11-30 00:45:00    1.967800\n",
       "2020-11-30 00:50:00   -1.921246\n",
       "2020-11-30 00:55:00    1.024230\n",
       "2020-11-30 01:00:00   -1.191950\n",
       "2020-11-30 01:05:00   -0.739175\n",
       "2020-11-30 01:10:00    0.383030\n",
       "2020-11-30 01:15:00    1.728960\n",
       "2020-11-30 01:20:00   -1.539351\n",
       "2020-11-30 01:25:00    1.180227\n",
       "2020-11-30 01:30:00   -2.921451\n",
       "2020-11-30 01:35:00   -0.144566\n",
       "2020-11-30 01:40:00    0.408309\n",
       "Freq: 5T, dtype: float64"
      ]
     },
     "execution_count": 87,
     "metadata": {},
     "output_type": "execute_result"
    }
   ],
   "source": [
    "ts.resample('5min', closed='right', label='right').sum()"
   ]
  },
  {
   "cell_type": "code",
   "execution_count": 88,
   "metadata": {},
   "outputs": [
    {
     "data": {
      "text/html": [
       "<div>\n",
       "<style scoped>\n",
       "    .dataframe tbody tr th:only-of-type {\n",
       "        vertical-align: middle;\n",
       "    }\n",
       "\n",
       "    .dataframe tbody tr th {\n",
       "        vertical-align: top;\n",
       "    }\n",
       "\n",
       "    .dataframe thead th {\n",
       "        text-align: right;\n",
       "    }\n",
       "</style>\n",
       "<table border=\"1\" class=\"dataframe\">\n",
       "  <thead>\n",
       "    <tr style=\"text-align: right;\">\n",
       "      <th></th>\n",
       "      <th>open</th>\n",
       "      <th>high</th>\n",
       "      <th>low</th>\n",
       "      <th>close</th>\n",
       "    </tr>\n",
       "  </thead>\n",
       "  <tbody>\n",
       "    <tr>\n",
       "      <th>2020-11-30 00:00:00</th>\n",
       "      <td>0.088538</td>\n",
       "      <td>1.060944</td>\n",
       "      <td>-1.153388</td>\n",
       "      <td>-0.363503</td>\n",
       "    </tr>\n",
       "    <tr>\n",
       "      <th>2020-11-30 00:05:00</th>\n",
       "      <td>-1.411537</td>\n",
       "      <td>0.983875</td>\n",
       "      <td>-1.411537</td>\n",
       "      <td>0.283207</td>\n",
       "    </tr>\n",
       "    <tr>\n",
       "      <th>2020-11-30 00:10:00</th>\n",
       "      <td>-1.146535</td>\n",
       "      <td>0.478760</td>\n",
       "      <td>-1.146535</td>\n",
       "      <td>-0.166526</td>\n",
       "    </tr>\n",
       "    <tr>\n",
       "      <th>2020-11-30 00:15:00</th>\n",
       "      <td>-0.928477</td>\n",
       "      <td>2.139587</td>\n",
       "      <td>-0.928477</td>\n",
       "      <td>2.139587</td>\n",
       "    </tr>\n",
       "    <tr>\n",
       "      <th>2020-11-30 00:20:00</th>\n",
       "      <td>0.072029</td>\n",
       "      <td>1.811542</td>\n",
       "      <td>0.072029</td>\n",
       "      <td>0.482568</td>\n",
       "    </tr>\n",
       "    <tr>\n",
       "      <th>2020-11-30 00:25:00</th>\n",
       "      <td>0.674565</td>\n",
       "      <td>0.912164</td>\n",
       "      <td>-0.745172</td>\n",
       "      <td>0.912164</td>\n",
       "    </tr>\n",
       "    <tr>\n",
       "      <th>2020-11-30 00:30:00</th>\n",
       "      <td>-1.776573</td>\n",
       "      <td>0.474502</td>\n",
       "      <td>-1.776573</td>\n",
       "      <td>0.474502</td>\n",
       "    </tr>\n",
       "    <tr>\n",
       "      <th>2020-11-30 00:35:00</th>\n",
       "      <td>-0.651852</td>\n",
       "      <td>0.605400</td>\n",
       "      <td>-0.651852</td>\n",
       "      <td>0.605400</td>\n",
       "    </tr>\n",
       "    <tr>\n",
       "      <th>2020-11-30 00:40:00</th>\n",
       "      <td>1.513453</td>\n",
       "      <td>1.513453</td>\n",
       "      <td>0.252286</td>\n",
       "      <td>0.663626</td>\n",
       "    </tr>\n",
       "    <tr>\n",
       "      <th>2020-11-30 00:45:00</th>\n",
       "      <td>-0.102595</td>\n",
       "      <td>0.173374</td>\n",
       "      <td>-0.956592</td>\n",
       "      <td>0.173374</td>\n",
       "    </tr>\n",
       "    <tr>\n",
       "      <th>2020-11-30 00:50:00</th>\n",
       "      <td>0.004600</td>\n",
       "      <td>1.698165</td>\n",
       "      <td>-1.704484</td>\n",
       "      <td>0.221877</td>\n",
       "    </tr>\n",
       "    <tr>\n",
       "      <th>2020-11-30 00:55:00</th>\n",
       "      <td>0.145599</td>\n",
       "      <td>1.738100</td>\n",
       "      <td>-1.759301</td>\n",
       "      <td>-0.391961</td>\n",
       "    </tr>\n",
       "    <tr>\n",
       "      <th>2020-11-30 01:00:00</th>\n",
       "      <td>-0.094642</td>\n",
       "      <td>0.024995</td>\n",
       "      <td>-1.237436</td>\n",
       "      <td>-0.074947</td>\n",
       "    </tr>\n",
       "    <tr>\n",
       "      <th>2020-11-30 01:05:00</th>\n",
       "      <td>0.863419</td>\n",
       "      <td>1.891609</td>\n",
       "      <td>-0.705194</td>\n",
       "      <td>-0.376429</td>\n",
       "    </tr>\n",
       "    <tr>\n",
       "      <th>2020-11-30 01:10:00</th>\n",
       "      <td>0.181132</td>\n",
       "      <td>2.421047</td>\n",
       "      <td>-2.474926</td>\n",
       "      <td>2.421047</td>\n",
       "    </tr>\n",
       "    <tr>\n",
       "      <th>2020-11-30 01:15:00</th>\n",
       "      <td>-0.050425</td>\n",
       "      <td>0.731615</td>\n",
       "      <td>-0.709627</td>\n",
       "      <td>0.731615</td>\n",
       "    </tr>\n",
       "    <tr>\n",
       "      <th>2020-11-30 01:20:00</th>\n",
       "      <td>-1.678308</td>\n",
       "      <td>0.791096</td>\n",
       "      <td>-1.678308</td>\n",
       "      <td>0.270310</td>\n",
       "    </tr>\n",
       "    <tr>\n",
       "      <th>2020-11-30 01:25:00</th>\n",
       "      <td>0.781267</td>\n",
       "      <td>1.068212</td>\n",
       "      <td>-2.302860</td>\n",
       "      <td>-0.526824</td>\n",
       "    </tr>\n",
       "    <tr>\n",
       "      <th>2020-11-30 01:30:00</th>\n",
       "      <td>0.165183</td>\n",
       "      <td>1.389183</td>\n",
       "      <td>-0.509249</td>\n",
       "      <td>-0.509249</td>\n",
       "    </tr>\n",
       "    <tr>\n",
       "      <th>2020-11-30 01:35:00</th>\n",
       "      <td>-2.070810</td>\n",
       "      <td>1.414299</td>\n",
       "      <td>-2.070810</td>\n",
       "      <td>-0.744389</td>\n",
       "    </tr>\n",
       "  </tbody>\n",
       "</table>\n",
       "</div>"
      ],
      "text/plain": [
       "                         open      high       low     close\n",
       "2020-11-30 00:00:00  0.088538  1.060944 -1.153388 -0.363503\n",
       "2020-11-30 00:05:00 -1.411537  0.983875 -1.411537  0.283207\n",
       "2020-11-30 00:10:00 -1.146535  0.478760 -1.146535 -0.166526\n",
       "2020-11-30 00:15:00 -0.928477  2.139587 -0.928477  2.139587\n",
       "2020-11-30 00:20:00  0.072029  1.811542  0.072029  0.482568\n",
       "2020-11-30 00:25:00  0.674565  0.912164 -0.745172  0.912164\n",
       "2020-11-30 00:30:00 -1.776573  0.474502 -1.776573  0.474502\n",
       "2020-11-30 00:35:00 -0.651852  0.605400 -0.651852  0.605400\n",
       "2020-11-30 00:40:00  1.513453  1.513453  0.252286  0.663626\n",
       "2020-11-30 00:45:00 -0.102595  0.173374 -0.956592  0.173374\n",
       "2020-11-30 00:50:00  0.004600  1.698165 -1.704484  0.221877\n",
       "2020-11-30 00:55:00  0.145599  1.738100 -1.759301 -0.391961\n",
       "2020-11-30 01:00:00 -0.094642  0.024995 -1.237436 -0.074947\n",
       "2020-11-30 01:05:00  0.863419  1.891609 -0.705194 -0.376429\n",
       "2020-11-30 01:10:00  0.181132  2.421047 -2.474926  2.421047\n",
       "2020-11-30 01:15:00 -0.050425  0.731615 -0.709627  0.731615\n",
       "2020-11-30 01:20:00 -1.678308  0.791096 -1.678308  0.270310\n",
       "2020-11-30 01:25:00  0.781267  1.068212 -2.302860 -0.526824\n",
       "2020-11-30 01:30:00  0.165183  1.389183 -0.509249 -0.509249\n",
       "2020-11-30 01:35:00 -2.070810  1.414299 -2.070810 -0.744389"
      ]
     },
     "execution_count": 88,
     "metadata": {},
     "output_type": "execute_result"
    }
   ],
   "source": [
    "# OHLC resampling\n",
    "ts.resample('5min').ohlc()"
   ]
  },
  {
   "cell_type": "markdown",
   "metadata": {},
   "source": [
    "## Upsampling"
   ]
  },
  {
   "cell_type": "code",
   "execution_count": 90,
   "metadata": {},
   "outputs": [
    {
     "data": {
      "text/plain": [
       "2020-11-30    0.422532\n",
       "2020-12-31    0.116354\n",
       "2021-01-31   -0.723405\n",
       "2021-02-28    0.659457\n",
       "2021-03-31    0.535598\n",
       "2021-04-30    2.306383\n",
       "2021-05-31    1.431278\n",
       "2021-06-30    0.269275\n",
       "2021-07-31    0.375808\n",
       "2021-08-31    0.816700\n",
       "2021-09-30    0.227021\n",
       "2021-10-31   -0.269146\n",
       "Freq: M, dtype: float64"
      ]
     },
     "execution_count": 90,
     "metadata": {},
     "output_type": "execute_result"
    }
   ],
   "source": [
    "dt_ranges = pd.date_range(datetime.now(), periods=12, freq='M', normalize=True)\n",
    "ts = pd.Series(np.random.randn(len(dt_ranges)), index=dt_ranges)\n",
    "ts"
   ]
  },
  {
   "cell_type": "code",
   "execution_count": 91,
   "metadata": {},
   "outputs": [
    {
     "data": {
      "text/plain": [
       "2020-11-30    0.422532\n",
       "2020-12-01    0.422532\n",
       "2020-12-02    0.422532\n",
       "2020-12-03    0.422532\n",
       "2020-12-04    0.422532\n",
       "                ...   \n",
       "2021-10-27    0.227021\n",
       "2021-10-28    0.227021\n",
       "2021-10-29    0.227021\n",
       "2021-10-30    0.227021\n",
       "2021-10-31   -0.269146\n",
       "Freq: D, Length: 336, dtype: float64"
      ]
     },
     "execution_count": 91,
     "metadata": {},
     "output_type": "execute_result"
    }
   ],
   "source": [
    "ts.resample('D').ffill()"
   ]
  },
  {
   "cell_type": "markdown",
   "metadata": {},
   "source": [
    "## Moving Average"
   ]
  },
  {
   "cell_type": "code",
   "execution_count": 98,
   "metadata": {},
   "outputs": [
    {
     "data": {
      "text/plain": [
       "2020-11-30    161\n",
       "2020-12-01    165\n",
       "2020-12-02    174\n",
       "2020-12-03    195\n",
       "2020-12-04    156\n",
       "2020-12-05    154\n",
       "2020-12-06    173\n",
       "2020-12-07    150\n",
       "2020-12-08    176\n",
       "2020-12-09    184\n",
       "2020-12-10    153\n",
       "2020-12-11    197\n",
       "2020-12-12    177\n",
       "2020-12-13    170\n",
       "2020-12-14    183\n",
       "2020-12-15    199\n",
       "2020-12-16    160\n",
       "2020-12-17    172\n",
       "2020-12-18    154\n",
       "2020-12-19    196\n",
       "2020-12-20    152\n",
       "2020-12-21    186\n",
       "2020-12-22    173\n",
       "2020-12-23    155\n",
       "2020-12-24    176\n",
       "2020-12-25    196\n",
       "2020-12-26    195\n",
       "2020-12-27    164\n",
       "2020-12-28    172\n",
       "2020-12-29    193\n",
       "Freq: D, dtype: int64"
      ]
     },
     "execution_count": 98,
     "metadata": {},
     "output_type": "execute_result"
    }
   ],
   "source": [
    "dt_ranges = pd.date_range(datetime.now(), periods=30, freq='D', normalize=True)\n",
    "ts = pd.Series(np.random.randint(150,200, len(dt_ranges)), index=dt_ranges)\n",
    "ts"
   ]
  },
  {
   "cell_type": "code",
   "execution_count": 110,
   "metadata": {},
   "outputs": [
    {
     "data": {
      "text/plain": [
       "<AxesSubplot:>"
      ]
     },
     "execution_count": 110,
     "metadata": {},
     "output_type": "execute_result"
    },
    {
     "data": {
      "image/png": "[encoded data removed]",
      "text/plain": [
       "<Figure size 432x288 with 1 Axes>"
      ]
     },
     "metadata": {
      "needs_background": "light"
     },
     "output_type": "display_data"
    }
   ],
   "source": [
    "ts.plot()\n",
    "ts.rolling(5).mean().plot()\n",
    "ts.ewm(5).mean().plot()"
   ]
  },
  {
   "cell_type": "code",
   "execution_count": null,
   "metadata": {},
   "outputs": [],
   "source": []
  }
 ],
 "metadata": {
  "kernelspec": {
   "display_name": "Python 3",
   "language": "python",
   "name": "python3"
  },
  "language_info": {
   "codemirror_mode": {
    "name": "ipython",
    "version": 3
   },
   "file_extension": ".py",
   "mimetype": "text/x-python",
   "name": "python",
   "nbconvert_exporter": "python",
   "pygments_lexer": "ipython3",
   "version": "3.8.3"
  }
 },
 "nbformat": 4,
 "nbformat_minor": 4
}
