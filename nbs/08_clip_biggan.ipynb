{
  "nbformat": 4,
  "nbformat_minor": 5,
  "metadata": {
    "kernelspec": {
      "display_name": "Python 3",
      "language": "python",
      "name": "python3"
    },
    "language_info": {
      "codemirror_mode": {
        "name": "ipython",
        "version": 3
      },
      "file_extension": ".py",
      "mimetype": "text/x-python",
      "name": "python",
      "nbconvert_exporter": "python",
      "pygments_lexer": "ipython3",
      "version": "3.8.6"
    },
    "colab": {
      "name": "08_clip_biggan.ipynb",
      "provenance": []
    },
    "accelerator": "GPU"
  },
  "cells": [
    {
      "cell_type": "markdown",
      "metadata": {
        "id": "exceptional-passing"
      },
      "source": [
        "# CLIP + BigGAN"
      ],
      "id": "exceptional-passing"
    },
    {
      "cell_type": "markdown",
      "metadata": {
        "id": "third-format"
      },
      "source": [
        "## References\n",
        "\n",
        "* [big-sleep](https://github.com/lucidrains/big-sleep)\n",
      ],
      "id": "third-format"
    },
    {
      "cell_type": "code",
      "metadata": {
        "id": "moved-canada"
      },
      "source": [
        "COLAB = True"
      ],
      "id": "moved-canada",
      "execution_count": null,
      "outputs": []
    },
    {
      "cell_type": "code",
      "metadata": {
        "id": "upper-cleaning"
      },
      "source": [
        "# --- Remember to change the runtime to use GPU for better performance\n",
        "if COLAB:\n",
        "    !nvidia-smi\n",
        "    !pip install -Uqq big-sleep"
      ],
      "id": "upper-cleaning",
      "execution_count": null,
      "outputs": []
    },
    {
      "cell_type": "code",
      "metadata": {
        "id": "meaning-criticism"
      },
      "source": [
        "from big_sleep.cli import train as tti_big_sleep"
      ],
      "id": "meaning-criticism",
      "execution_count": null,
      "outputs": []
    },
    {
      "cell_type": "code",
      "metadata": {
        "id": "disciplinary-frontier"
      },
      "source": [
        "tti_big_sleep(\"a man in the jungle\", iterations = 100, epochs=5, overwrite=True)"
      ],
      "id": "disciplinary-frontier",
      "execution_count": null,
      "outputs": []
    },
    {
      "cell_type": "code",
      "metadata": {
        "id": "O9BjyUTyRgRN"
      },
      "source": [
        "import glob\n",
        "from IPython.display import Image \n",
        "\n",
        "images = glob.glob(\"/content/*.png\")\n",
        "for image in images:\n",
        "   img = Image(filename=image)\n",
        "   display(img)"
      ],
      "id": "O9BjyUTyRgRN",
      "execution_count": null,
      "outputs": []
    },
    {
      "cell_type": "code",
      "metadata": {
        "id": "b6j79LlYEd3U"
      },
      "source": [
        ""
      ],
      "id": "b6j79LlYEd3U",
      "execution_count": null,
      "outputs": []
    }
  ]
}
