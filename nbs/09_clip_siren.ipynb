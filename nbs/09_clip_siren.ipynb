{
 "cells": [
  {
   "cell_type": "markdown",
   "id": "broke-metadata",
   "metadata": {
    "id": "exceptional-passing"
   },
   "source": [
    "# CLIP + BigGAN"
   ]
  },
  {
   "cell_type": "markdown",
   "id": "apparent-contrary",
   "metadata": {
    "id": "third-format"
   },
   "source": [
    "## References\n",
    "\n",
    "* [deep-daze](https://github.com/lucidrains/deep-daze)"
   ]
  },
  {
   "cell_type": "code",
   "execution_count": null,
   "id": "velvet-pencil",
   "metadata": {
    "id": "moved-canada"
   },
   "outputs": [],
   "source": [
    "COLAB = True"
   ]
  },
  {
   "cell_type": "code",
   "execution_count": null,
   "id": "auburn-setting",
   "metadata": {
    "id": "upper-cleaning"
   },
   "outputs": [],
   "source": [
    "# --- Remember to change the runtime to use GPU for better performance\n",
    "if COLAB:\n",
    "    !nvidia-smi\n",
    "    !pip install -Uqq deep-daze"
   ]
  },
  {
   "cell_type": "code",
   "execution_count": null,
   "id": "rubber-assistant",
   "metadata": {
    "id": "meaning-criticism"
   },
   "outputs": [],
   "source": [
    "from deep_daze.cli import train as tti_deep_daze"
   ]
  },
  {
   "cell_type": "code",
   "execution_count": 1,
   "id": "vanilla-housing",
   "metadata": {
    "id": "disciplinary-frontier"
   },
   "outputs": [
    {
     "ename": "NameError",
     "evalue": "name 'tti_deep_daze' is not defined",
     "output_type": "error",
     "traceback": [
      "\u001b[0;31m---------------------------------------------------------------------------\u001b[0m",
      "\u001b[0;31mNameError\u001b[0m                                 Traceback (most recent call last)",
      "\u001b[0;32m<ipython-input-1-dba9e0a3d2e8>\u001b[0m in \u001b[0;36m<module>\u001b[0;34m\u001b[0m\n\u001b[0;32m----> 1\u001b[0;31m \u001b[0mtti_deep_daze\u001b[0m\u001b[0;34m(\u001b[0m\u001b[0;34m\"a man in the jungle\"\u001b[0m\u001b[0;34m,\u001b[0m \u001b[0miterations\u001b[0m \u001b[0;34m=\u001b[0m \u001b[0;36m100\u001b[0m\u001b[0;34m,\u001b[0m \u001b[0mepochs\u001b[0m\u001b[0;34m=\u001b[0m\u001b[0;36m5\u001b[0m\u001b[0;34m,\u001b[0m \u001b[0moverwrite\u001b[0m\u001b[0;34m=\u001b[0m\u001b[0;32mTrue\u001b[0m\u001b[0;34m)\u001b[0m\u001b[0;34m\u001b[0m\u001b[0;34m\u001b[0m\u001b[0m\n\u001b[0m",
      "\u001b[0;31mNameError\u001b[0m: name 'tti_deep_daze' is not defined"
     ]
    }
   ],
   "source": [
    "tti_deep_daze(\"a man in the jungle\", iterations = 100, epochs=5, overwrite=True)"
   ]
  },
  {
   "cell_type": "code",
   "execution_count": null,
   "id": "illegal-green",
   "metadata": {
    "id": "O9BjyUTyRgRN"
   },
   "outputs": [],
   "source": [
    "import glob\n",
    "from IPython.display import Image \n",
    "\n",
    "images = glob.glob(\"/content/*.png\")\n",
    "for image in images:\n",
    "   img = Image(filename=image)\n",
    "   display(img)"
   ]
  },
  {
   "cell_type": "code",
   "execution_count": null,
   "id": "legitimate-strand",
   "metadata": {
    "id": "b6j79LlYEd3U"
   },
   "outputs": [],
   "source": []
  }
 ],
 "metadata": {
  "accelerator": "GPU",
  "colab": {
   "name": "09_clip_siren.ipynb",
   "provenance": []
  },
  "kernelspec": {
   "display_name": "Python 3",
   "language": "python",
   "name": "python3"
  },
  "language_info": {
   "codemirror_mode": {
    "name": "ipython",
    "version": 3
   },
   "file_extension": ".py",
   "mimetype": "text/x-python",
   "name": "python",
   "nbconvert_exporter": "python",
   "pygments_lexer": "ipython3",
   "version": "3.8.6"
  }
 },
 "nbformat": 4,
 "nbformat_minor": 5
}
