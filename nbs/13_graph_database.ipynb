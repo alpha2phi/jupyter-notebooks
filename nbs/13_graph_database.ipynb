{
  "nbformat": 4,
  "nbformat_minor": 5,
  "metadata": {
    "colab": {
      "name": "13_graph_database.ipynb",
      "provenance": [],
      "collapsed_sections": []
    },
    "kernelspec": {
      "display_name": "Python 3 (ipykernel)",
      "language": "python",
      "name": "python3"
    },
    "language_info": {
      "codemirror_mode": {
        "name": "ipython",
        "version": 3
      },
      "file_extension": ".py",
      "mimetype": "text/x-python",
      "name": "python",
      "nbconvert_exporter": "python",
      "pygments_lexer": "ipython3",
      "version": "3.9.5"
    }
  },
  "cells": [
    {
      "cell_type": "markdown",
      "metadata": {
        "id": "cellular-boxing"
      },
      "source": [
        "# Network, Graph and Graph Database"
      ],
      "id": "cellular-boxing"
    },
    {
      "cell_type": "markdown",
      "metadata": {
        "id": "nEByr7JC6-GP"
      },
      "source": [
        "## Environment Setup"
      ],
      "id": "nEByr7JC6-GP"
    },
    {
      "cell_type": "code",
      "metadata": {
        "colab": {
          "base_uri": "https://localhost:8080/"
        },
        "id": "3zXQbS9y600v",
        "outputId": "e5853554-1490-4dcd-dac6-b6c44d8cb824"
      },
      "source": [
        "!curl -L https://neo4j.com/artifact.php?name=neo4j-community-4.3.3-unix.tar.gz -o neo4j.tar.gz\n",
        "!tar -xf neo4j.tar.gz\n",
        "!rm -rf neo4j && mv neo4j-community-4.3.3 neo4j\n",
        "!sed -i '/#dbms.security.auth_enabled/s/^#//g' neo4j/conf/neo4j.conf\n",
        "!neo4j/bin/neo4j start"
      ],
      "id": "3zXQbS9y600v",
      "execution_count": 3,
      "outputs": [
        {
          "output_type": "stream",
          "name": "stdout",
          "text": [
            "  % Total    % Received % Xferd  Average Speed   Time    Time     Time  Current\n",
            "                                 Dload  Upload   Total   Spent    Left  Speed\n",
            "  0     0    0     0    0     0      0      0 --:--:-- --:--:-- --:--:--     0\n",
            "100  123M  100  123M    0     0  15.1M      0  0:00:08  0:00:08 --:--:-- 20.4M\n",
            "Directories in use:\n",
            "home:         /content/neo4j\n",
            "config:       /content/neo4j/conf\n",
            "logs:         /content/neo4j/logs\n",
            "plugins:      /content/neo4j/plugins\n",
            "import:       /content/neo4j/import\n",
            "data:         /content/neo4j/data\n",
            "certificates: /content/neo4j/certificates\n",
            "licenses:     /content/neo4j/licenses\n",
            "run:          /content/neo4j/run\n",
            "Starting Neo4j.\n",
            "Started neo4j (pid:233). It is available at http://localhost:7474\n",
            "There may be a short delay until the server is ready.\n"
          ]
        }
      ]
    },
    {
      "cell_type": "code",
      "metadata": {
        "colab": {
          "base_uri": "https://localhost:8080/"
        },
        "id": "mxBs1-nOAWW2",
        "outputId": "46450c12-5a33-4fbc-f87f-c17ff9cf9f2c"
      },
      "source": [
        "!pip install -Uq neo4j\n",
        "!pip install -Uq tqdm"
      ],
      "id": "mxBs1-nOAWW2",
      "execution_count": 4,
      "outputs": [
        {
          "output_type": "stream",
          "name": "stdout",
          "text": [
            "\u001b[?25l\r\u001b[K     |████▍                           | 10 kB 16.2 MB/s eta 0:00:01\r\u001b[K     |████████▊                       | 20 kB 14.8 MB/s eta 0:00:01\r\u001b[K     |█████████████                   | 30 kB 10.5 MB/s eta 0:00:01\r\u001b[K     |█████████████████▍              | 40 kB 8.9 MB/s eta 0:00:01\r\u001b[K     |█████████████████████▊          | 51 kB 7.7 MB/s eta 0:00:01\r\u001b[K     |██████████████████████████      | 61 kB 8.2 MB/s eta 0:00:01\r\u001b[K     |██████████████████████████████▍ | 71 kB 8.6 MB/s eta 0:00:01\r\u001b[K     |████████████████████████████████| 75 kB 2.9 MB/s \n",
            "\u001b[?25h  Building wheel for neo4j (setup.py) ... \u001b[?25l\u001b[?25hdone\n",
            "\u001b[K     |████████████████████████████████| 76 kB 3.5 MB/s \n",
            "\u001b[?25h"
          ]
        }
      ]
    },
    {
      "cell_type": "markdown",
      "metadata": {
        "id": "ev14dc70qLWi"
      },
      "source": [
        "## Sample Dataset"
      ],
      "id": "ev14dc70qLWi"
    },
    {
      "cell_type": "code",
      "metadata": {
        "id": "Pbhk-nRA6xzl"
      },
      "source": [
        "%matplotlib inline\n",
        "\n",
        "import json\n",
        "import time\n",
        "\n",
        "import pandas as pd\n",
        "import seaborn as sns\n",
        "import matplotlib.pyplot as plt\n",
        "from tqdm import tqdm\n",
        "from neo4j import GraphDatabase"
      ],
      "id": "Pbhk-nRA6xzl",
      "execution_count": 5,
      "outputs": []
    },
    {
      "cell_type": "code",
      "metadata": {
        "id": "2_FClz3kAk4U"
      },
      "source": [
        "# Connect to Neo4j\n",
        "URI=\"bolt://0.0.0.0:7687\"\n",
        "USER=\"neo4j\"\n",
        "PWD=\"neo4j\"\n",
        "driver = GraphDatabase.driver(URI, USER, PWD)\n",
        "\n",
        "# Any operations\n",
        "\n",
        "driver.close()"
      ],
      "id": "2_FClz3kAk4U",
      "execution_count": null,
      "outputs": []
    },
    {
      "cell_type": "code",
      "metadata": {
        "id": "_-1eZiHqBCPp",
        "colab": {
          "base_uri": "https://localhost:8080/"
        },
        "outputId": "343716f5-44e1-419d-f933-b2738f848366"
      },
      "source": [
        "from neo4j import GraphDatabase\n",
        "\n",
        "class HelloWorldExample:\n",
        "\n",
        "    def __init__(self, uri, user, password):\n",
        "        self.driver = GraphDatabase.driver(uri, auth=(user, password))\n",
        "\n",
        "    def close(self):\n",
        "        self.driver.close()\n",
        "\n",
        "    def print_greeting(self, message):\n",
        "        with self.driver.session() as session:\n",
        "            greeting = session.write_transaction(self._create_and_return_greeting, message)\n",
        "            print(greeting)\n",
        "\n",
        "    @staticmethod\n",
        "    def _create_and_return_greeting(tx, message):\n",
        "        result = tx.run(\"CREATE (a:Greeting) \"\n",
        "                        \"SET a.message = $message \"\n",
        "                        \"RETURN a.message + ', from node ' + id(a)\", message=message)\n",
        "        return result.single()[0]\n",
        "\n",
        "\n",
        "greeter = HelloWorldExample(\"bolt://localhost:7687\", \"neo4j\", \"password\")\n",
        "greeter.print_greeting(\"hello, world\")\n",
        "greeter.close()"
      ],
      "id": "_-1eZiHqBCPp",
      "execution_count": 8,
      "outputs": [
        {
          "output_type": "stream",
          "name": "stdout",
          "text": [
            "hello, world, from node 1\n"
          ]
        }
      ]
    },
    {
      "cell_type": "code",
      "metadata": {
        "id": "IWhJNoO03c9y"
      },
      "source": [
        ""
      ],
      "id": "IWhJNoO03c9y",
      "execution_count": null,
      "outputs": []
    }
  ]
}