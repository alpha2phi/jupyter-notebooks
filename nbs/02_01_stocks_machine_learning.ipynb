{
 "cells": [
  {
   "cell_type": "code",
   "execution_count": 1,
   "id": "fe31a559-221d-42ea-86b6-ab1a8e17b3fa",
   "metadata": {},
   "outputs": [],
   "source": [
    "from IPython.core.interactiveshell import InteractiveShell\n",
    "from IPython.display import display\n",
    "InteractiveShell.ast_node_interactivity = \"all\""
   ]
  },
  {
   "cell_type": "code",
   "execution_count": 2,
   "id": "ac13ece2-c4a6-4912-9f1d-d8ddba92a1c2",
   "metadata": {},
   "outputs": [],
   "source": [
    "%load_ext autoreload\n",
    "%autoreload 2"
   ]
  },
  {
   "cell_type": "code",
   "execution_count": 9,
   "id": "3f7eb8af-4bb9-48ee-9577-0d0274e8af88",
   "metadata": {},
   "outputs": [],
   "source": [
    "!pip install -Uqq graphviz pandas plotly matplotlib numpy statsmodels pytest optunity seaborn scikit_learn"
   ]
  },
  {
   "cell_type": "code",
   "execution_count": 10,
   "id": "e4c7b676-0dfb-40fd-af47-36256b0080db",
   "metadata": {},
   "outputs": [],
   "source": [
    "import os\n",
    "import re\n",
    "import time\n",
    "import pandas as pd\n",
    "import matplotlib.pyplot as plt\n",
    "from pathlib import Path\n",
    "from dateutil.relativedelta import relativedelta\n",
    "from dataclasses import dataclass, field"
   ]
  },
  {
   "cell_type": "code",
   "execution_count": 11,
   "id": "b20a094f-55c0-4f5d-94ae-ba1cb75cc18e",
   "metadata": {},
   "outputs": [],
   "source": [
    "%matplotlib inline\n",
    "pd.set_option('display.max_rows', 500)"
   ]
  },
  {
   "cell_type": "code",
   "execution_count": 13,
   "id": "e2502b30-8a60-400d-90e4-3d93b09f0bfe",
   "metadata": {},
   "outputs": [],
   "source": [
    "COUNTRY = \"malaysia\"                   \n",
    "DATASET_FOLDER = \"test_data\"\n",
    "TARGET_DATASET_FOLDER = f\"{DATASET_FOLDER}/{COUNTRY}\"\n",
    "STOCKS_DATASET = f\"{TARGET_DATASET_FOLDER}/stocks.csv\"\n",
    "STOCKS_INFO_DATASET = f\"{TARGET_DATASET_FOLDER}/stocks_info.csv\"\n",
    "STOCKS_FINANCE_DATASET = f\"{TARGET_DATASET_FOLDER}/stocks_finance.csv\"\n",
    "STOCKS_DIVIDENDS_DATASET = f\"{TARGET_DATASET_FOLDER}/stocks_dividends.csv\"\n",
    "STOCKS_SELECTED = f\"{TARGET_DATASET_FOLDER}/stocks_selected.csv\""
   ]
  },
  {
   "cell_type": "code",
   "execution_count": 15,
   "id": "e2f6b1b3-95e0-4af5-8fce-e89d72ef7c6e",
   "metadata": {},
   "outputs": [],
   "source": [
    "\n",
    "\n",
    "class Ticker_Data():\n",
    "    \"\"\"\n",
    "    object to hold the stock data\n",
    "    \"\"\"\n",
    "\n",
    "    def __init__(self, df):\n",
    "        self.main_df = df\n",
    "\n",
    "    def append_change_column(self, df, ticker):\n",
    "        \"\"\"\n",
    "         take the dataframe that holds the stock info and the ticker of interest \n",
    "         then append the new change column and the new close column to the main dataframe\n",
    "        \"\"\"\n",
    "        df2 = pd.DataFrame()\n",
    "        df2['change'] = np.log(df['close']) - np.log(df['close'].shift(1))\n",
    "        self.main_df[str(ticker) + 'CHG'] = df2['change']\n",
    "        self.main_df[str(ticker) + 'CLS'] = df['close']\n",
    "        return self.main_df\n",
    "\n",
    "    def backTester(self, df):\n",
    "        for x in range(len(df.columns) - 2):\n",
    "            df['stock' + str(x + 1)]\n",
    "            df['stock1compair'] = np.where(df['stock' + str(x + 1)].values < df['stock' + str(x)].values and\n",
    "                                           df['stock' + str(x + 1)].values < df['stock' + str(x + 2)].values, 1, 0)\n",
    "        return df\n",
    "\n",
    "    def drop_row_with_zeros(self):\n",
    "        \"\"\"\n",
    "        removes the rows with zero on teh self.dataframe\n",
    "        \"\"\"\n",
    "\n",
    "        columns = list(self.main_df)\n",
    "\n",
    "        self.main_df = self.main_df[self.main_df[columns] != 0]\n",
    "\n",
    "    def drop_row_with_NA(self):\n",
    "        \"\"\"\n",
    "        removes the rows with NA on the self.dataframe\n",
    "        \"\"\"\n",
    "\n",
    "        # self.main_df = self.main_df[self.main_df[columns] != 0]\n",
    "        self.main_df = self.main_df.dropna()\n"
   ]
  },
  {
   "cell_type": "code",
   "execution_count": null,
   "id": "a035e49d-07b9-4998-b5f8-c05db1584ad9",
   "metadata": {},
   "outputs": [],
   "source": []
  }
 ],
 "metadata": {
  "kernelspec": {
   "display_name": "Python 3 (ipykernel)",
   "language": "python",
   "name": "python3"
  },
  "language_info": {
   "codemirror_mode": {
    "name": "ipython",
    "version": 3
   },
   "file_extension": ".py",
   "mimetype": "text/x-python",
   "name": "python",
   "nbconvert_exporter": "python",
   "pygments_lexer": "ipython3",
   "version": "3.9.5"
  }
 },
 "nbformat": 4,
 "nbformat_minor": 5
}
