{
 "cells": [
  {
   "cell_type": "code",
   "execution_count": 1,
   "id": "fe31a559-221d-42ea-86b6-ab1a8e17b3fa",
   "metadata": {},
   "outputs": [],
   "source": [
    "from IPython.core.interactiveshell import InteractiveShell\n",
    "from IPython.display import display\n",
    "InteractiveShell.ast_node_interactivity = \"all\""
   ]
  },
  {
   "cell_type": "code",
   "execution_count": 2,
   "id": "ac13ece2-c4a6-4912-9f1d-d8ddba92a1c2",
   "metadata": {},
   "outputs": [],
   "source": [
    "%load_ext autoreload\n",
    "%autoreload 2"
   ]
  },
  {
   "cell_type": "code",
   "execution_count": 3,
   "id": "e4c7b676-0dfb-40fd-af47-36256b0080db",
   "metadata": {},
   "outputs": [],
   "source": [
    "import os\n",
    "import re\n",
    "import time\n",
    "import pandas as pd\n",
    "import matplotlib.pyplot as plt\n",
    "import investpy\n",
    "from pathlib import Path\n",
    "from dateutil.relativedelta import relativedelta\n",
    "from dataclasses import dataclass, field\n",
    "from typing import List"
   ]
  },
  {
   "cell_type": "code",
   "execution_count": 4,
   "id": "b20a094f-55c0-4f5d-94ae-ba1cb75cc18e",
   "metadata": {},
   "outputs": [],
   "source": [
    "%matplotlib inline\n",
    "pd.set_option('display.max_rows', 500)"
   ]
  },
  {
   "cell_type": "code",
   "execution_count": 5,
   "id": "e2502b30-8a60-400d-90e4-3d93b09f0bfe",
   "metadata": {},
   "outputs": [],
   "source": [
    "COUNTRY = \"malaysia\"                   \n",
    "DATASET_FOLDER = \"test_data\"\n",
    "TARGET_DATASET_FOLDER = f\"{DATASET_FOLDER}/{COUNTRY}\"\n",
    "STOCKS_DATASET = f\"{TARGET_DATASET_FOLDER}/stocks.csv\"\n",
    "STOCKS_INFO_DATASET = f\"{TARGET_DATASET_FOLDER}/stocks_info.csv\"\n",
    "STOCKS_FINANCE_DATASET = f\"{TARGET_DATASET_FOLDER}/stocks_finance.csv\"\n",
    "STOCKS_DIVIDENDS_DATASET = f\"{TARGET_DATASET_FOLDER}/stocks_dividends.csv\"\n",
    "STOCKS_SELECTED = f\"{TARGET_DATASET_FOLDER}/stocks_selected.csv\""
   ]
  },
  {
   "cell_type": "code",
   "execution_count": null,
   "id": "e2f6b1b3-95e0-4af5-8fce-e89d72ef7c6e",
   "metadata": {},
   "outputs": [],
   "source": []
  }
 ],
 "metadata": {
  "kernelspec": {
   "display_name": "Python 3 (ipykernel)",
   "language": "python",
   "name": "python3"
  },
  "language_info": {
   "codemirror_mode": {
    "name": "ipython",
    "version": 3
   },
   "file_extension": ".py",
   "mimetype": "text/x-python",
   "name": "python",
   "nbconvert_exporter": "python",
   "pygments_lexer": "ipython3",
   "version": "3.9.5"
  }
 },
 "nbformat": 4,
 "nbformat_minor": 5
}
