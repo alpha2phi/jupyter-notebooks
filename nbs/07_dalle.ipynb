{
  "nbformat": 4,
  "nbformat_minor": 5,
  "metadata": {
    "colab": {
      "name": "07_dalle.ipynb",
      "provenance": []
    },
    "kernelspec": {
      "display_name": "Python 3",
      "language": "python",
      "name": "python3"
    },
    "language_info": {
      "codemirror_mode": {
        "name": "ipython",
        "version": 3
      },
      "file_extension": ".py",
      "mimetype": "text/x-python",
      "name": "python",
      "nbconvert_exporter": "python",
      "pygments_lexer": "ipython3",
      "version": "3.8.6"
    },
    "accelerator": "GPU"
  },
  "cells": [
    {
      "cell_type": "markdown",
      "metadata": {
        "id": "medical-kingston"
      },
      "source": [
        "# DALL-E - Generating Images from Text"
      ],
      "id": "medical-kingston"
    },
    {
      "cell_type": "markdown",
      "metadata": {
        "id": "talented-ancient"
      },
      "source": [
        "* [DALLE-pytorch](https://github.com/lucidrains/DALLE-pytorch)"
      ],
      "id": "talented-ancient"
    },
    {
      "cell_type": "code",
      "metadata": {
        "id": "fuzzy-continuity"
      },
      "source": [
        "COLAB = True"
      ],
      "id": "fuzzy-continuity",
      "execution_count": 1,
      "outputs": []
    },
    {
      "cell_type": "code",
      "metadata": {
        "colab": {
          "base_uri": "https://localhost:8080/"
        },
        "id": "advisory-confirmation",
        "outputId": "8d68b99c-c251-4888-ec77-028a05827932"
      },
      "source": [
        "# --- Remember to change the runtime to use GPU for better performance\n",
        "if COLAB:\n",
        "    !nvidia-smi\n",
        "  \n",
        "!pip install -Uqq dalle-pytorch"
      ],
      "id": "advisory-confirmation",
      "execution_count": 2,
      "outputs": [
        {
          "output_type": "stream",
          "text": [
            "Fri Mar 26 15:26:54 2021       \n",
            "+-----------------------------------------------------------------------------+\n",
            "| NVIDIA-SMI 460.56       Driver Version: 460.32.03    CUDA Version: 11.2     |\n",
            "|-------------------------------+----------------------+----------------------+\n",
            "| GPU  Name        Persistence-M| Bus-Id        Disp.A | Volatile Uncorr. ECC |\n",
            "| Fan  Temp  Perf  Pwr:Usage/Cap|         Memory-Usage | GPU-Util  Compute M. |\n",
            "|                               |                      |               MIG M. |\n",
            "|===============================+======================+======================|\n",
            "|   0  Tesla K80           Off  | 00000000:00:04.0 Off |                    0 |\n",
            "| N/A   37C    P8    28W / 149W |      0MiB / 11441MiB |      0%      Default |\n",
            "|                               |                      |                  N/A |\n",
            "+-------------------------------+----------------------+----------------------+\n",
            "                                                                               \n",
            "+-----------------------------------------------------------------------------+\n",
            "| Processes:                                                                  |\n",
            "|  GPU   GI   CI        PID   Type   Process name                  GPU Memory |\n",
            "|        ID   ID                                                   Usage      |\n",
            "|=============================================================================|\n",
            "|  No running processes found                                                 |\n",
            "+-----------------------------------------------------------------------------+\n",
            "\u001b[K     |████████████████████████████████| 133kB 11.5MB/s \n",
            "\u001b[31mERROR: datascience 0.10.6 has requirement folium==0.2.1, but you'll have folium 0.8.3 which is incompatible.\u001b[0m\n",
            "\u001b[?25h"
          ],
          "name": "stdout"
        }
      ]
    },
    {
      "cell_type": "code",
      "metadata": {
        "id": "valuable-cosmetic"
      },
      "source": [
        "from pathlib import Path\n",
        "from tqdm import tqdm\n",
        "import torch\n",
        "from einops import repeat\n",
        "from PIL import Image\n",
        "from torchvision.utils import make_grid, save_image\n",
        "from dalle_pytorch import DiscreteVAE, OpenAIDiscreteVAE, VQGanVAE1024, DALLE\n",
        "from dalle_pytorch.simple_tokenizer import tokenize, tokenizer, VOCAB_SIZE"
      ],
      "id": "valuable-cosmetic",
      "execution_count": 3,
      "outputs": []
    },
    {
      "cell_type": "code",
      "metadata": {
        "id": "colored-movie"
      },
      "source": [
        "vae = OpenAIDiscreteVAE()"
      ],
      "id": "colored-movie",
      "execution_count": 4,
      "outputs": []
    },
    {
      "cell_type": "code",
      "metadata": {
        "id": "surprising-employer"
      },
      "source": [
        "dalle = DALLE(vae = vae, dim=1024, depth=32).cuda()"
      ],
      "id": "surprising-employer",
      "execution_count": 25,
      "outputs": []
    },
    {
      "cell_type": "code",
      "metadata": {
        "id": "tracked-majority"
      },
      "source": [
        "image_text = \"fireflies in a field under a full moon\"\n",
        "batch_size = 4\n",
        "output_dir = \"/content/\"\n",
        "num_images = 1\n",
        "top_k = 0.9"
      ],
      "id": "tracked-majority",
      "execution_count": 26,
      "outputs": []
    },
    {
      "cell_type": "code",
      "metadata": {
        "colab": {
          "base_uri": "https://localhost:8080/"
        },
        "id": "KlQgktRDDIEZ",
        "outputId": "2617dbde-2c9e-4a7d-aaa4-d7f4b8c8f2fd"
      },
      "source": [
        "image_size = vae.image_size\n",
        "text = tokenize([image_text], dalle.text_seq_len).cuda()\n",
        "text = repeat(text, '() n -> b n', b = num_images)\n",
        "outputs = []\n",
        "for text_chunk in tqdm(text.split(batch_size), desc = 'generating images'):\n",
        "    output = dalle.generate_images(text_chunk, filter_thres = top_k)\n",
        "    outputs.append(output)\n",
        "\n",
        "outputs = torch.cat(outputs)"
      ],
      "id": "KlQgktRDDIEZ",
      "execution_count": 27,
      "outputs": [
        {
          "output_type": "stream",
          "text": [
            "generating images: 100%|██████████| 1/1 [09:08<00:00, 548.27s/it]\n"
          ],
          "name": "stderr"
        }
      ]
    },
    {
      "cell_type": "code",
      "metadata": {
        "colab": {
          "base_uri": "https://localhost:8080/"
        },
        "id": "FzLHtM0JDS9F",
        "outputId": "df20764a-76d9-4b25-a5fc-c1b88a984d19"
      },
      "source": [
        "outputs_dir = Path(output_dir) / image_text.replace(' ', '_')\n",
        "outputs_dir.mkdir(parents = True, exist_ok = True)\n",
        "\n",
        "for i, image in tqdm(enumerate(outputs), desc = 'saving images'):\n",
        "    save_image(image, outputs_dir / f'{i}.jpg')\n",
        "\n",
        "print(f'created {num_images} images at \"{str(outputs_dir)}\"')"
      ],
      "id": "FzLHtM0JDS9F",
      "execution_count": 28,
      "outputs": [
        {
          "output_type": "stream",
          "text": [
            "saving images: 1it [00:00, 118.61it/s]"
          ],
          "name": "stderr"
        },
        {
          "output_type": "stream",
          "text": [
            "created 1 images at \"/content/fireflies_in_a_field_under_a_full_moon\"\n"
          ],
          "name": "stdout"
        },
        {
          "output_type": "stream",
          "text": [
            "\n"
          ],
          "name": "stderr"
        }
      ]
    },
    {
      "cell_type": "code",
      "metadata": {
        "colab": {
          "base_uri": "https://localhost:8080/",
          "height": 273
        },
        "id": "HmK_924XGcCh",
        "outputId": "d694ea15-1996-4b46-d5aa-29af177ff463"
      },
      "source": [
        "import glob\n",
        "from IPython.display import Image \n",
        "\n",
        "images = glob.glob(\"/content/*/*.jpg\")\n",
        "for image in images:\n",
        "   img = Image(filename=image)\n",
        "   display(img)"
      ],
      "id": "HmK_924XGcCh",
      "execution_count": 29,
      "outputs": [
        {
          "output_type": "display_data",
          "data": {
            "image/jpeg": "[encoded data removed]",
            "text/plain": [
              "<IPython.core.display.Image object>"
            ]
          },
          "metadata": {
            "tags": []
          }
        }
      ]
    },
    {
      "cell_type": "code",
      "metadata": {
        "id": "3yW9tlWsJvLa"
      },
      "source": [
        ""
      ],
      "id": "3yW9tlWsJvLa",
      "execution_count": null,
      "outputs": []
    }
  ]
}