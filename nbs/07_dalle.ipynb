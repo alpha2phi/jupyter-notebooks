{
  "nbformat": 4,
  "nbformat_minor": 5,
  "metadata": {
    "accelerator": "GPU",
    "colab": {
      "name": "07_dalle.ipynb",
      "provenance": []
    },
    "kernelspec": {
      "display_name": "Python 3",
      "language": "python",
      "name": "python3"
    },
    "language_info": {
      "codemirror_mode": {
        "name": "ipython",
        "version": 3
      },
      "file_extension": ".py",
      "mimetype": "text/x-python",
      "name": "python",
      "nbconvert_exporter": "python",
      "pygments_lexer": "ipython3",
      "version": "3.8.6"
    },
    "widgets": {
      "application/vnd.jupyter.widget-state+json": {
        "02dc9022b3b54afb9be8c00e02f09ce8": {
          "model_module": "@jupyter-widgets/controls",
          "model_name": "HBoxModel",
          "state": {
            "_view_name": "HBoxView",
            "_dom_classes": [],
            "_model_name": "HBoxModel",
            "_view_module": "@jupyter-widgets/controls",
            "_model_module_version": "1.5.0",
            "_view_count": null,
            "_view_module_version": "1.5.0",
            "box_style": "",
            "layout": "IPY_MODEL_4712601fc20f4ff59ef53fb10ffb3e25",
            "_model_module": "@jupyter-widgets/controls",
            "children": [
              "IPY_MODEL_f577b57d61d245e2a8fc6a1e7c1c7451",
              "IPY_MODEL_4e551163f7b34e8e93f30e9904de408b"
            ]
          }
        },
        "4712601fc20f4ff59ef53fb10ffb3e25": {
          "model_module": "@jupyter-widgets/base",
          "model_name": "LayoutModel",
          "state": {
            "_view_name": "LayoutView",
            "grid_template_rows": null,
            "right": null,
            "justify_content": null,
            "_view_module": "@jupyter-widgets/base",
            "overflow": null,
            "_model_module_version": "1.2.0",
            "_view_count": null,
            "flex_flow": null,
            "width": null,
            "min_width": null,
            "border": null,
            "align_items": null,
            "bottom": null,
            "_model_module": "@jupyter-widgets/base",
            "top": null,
            "grid_column": null,
            "overflow_y": null,
            "overflow_x": null,
            "grid_auto_flow": null,
            "grid_area": null,
            "grid_template_columns": null,
            "flex": null,
            "_model_name": "LayoutModel",
            "justify_items": null,
            "grid_row": null,
            "max_height": null,
            "align_content": null,
            "visibility": null,
            "align_self": null,
            "height": null,
            "min_height": null,
            "padding": null,
            "grid_auto_rows": null,
            "grid_gap": null,
            "max_width": null,
            "order": null,
            "_view_module_version": "1.2.0",
            "grid_template_areas": null,
            "object_position": null,
            "object_fit": null,
            "grid_auto_columns": null,
            "margin": null,
            "display": null,
            "left": null
          }
        },
        "f577b57d61d245e2a8fc6a1e7c1c7451": {
          "model_module": "@jupyter-widgets/controls",
          "model_name": "FloatProgressModel",
          "state": {
            "_view_name": "ProgressView",
            "style": "IPY_MODEL_3d8d28d5d93645beb6ccab6d2c4461c3",
            "_dom_classes": [],
            "description": "  0%",
            "_model_name": "FloatProgressModel",
            "bar_style": "",
            "max": 1,
            "_view_module": "@jupyter-widgets/controls",
            "_model_module_version": "1.5.0",
            "value": 0,
            "_view_count": null,
            "_view_module_version": "1.5.0",
            "orientation": "horizontal",
            "min": 0,
            "description_tooltip": null,
            "_model_module": "@jupyter-widgets/controls",
            "layout": "IPY_MODEL_7671e3975c3140bdaeeee3f3ed432782"
          }
        },
        "4e551163f7b34e8e93f30e9904de408b": {
          "model_module": "@jupyter-widgets/controls",
          "model_name": "HTMLModel",
          "state": {
            "_view_name": "HTMLView",
            "style": "IPY_MODEL_ac26625d4e624b0a9380f09a16f0e8b0",
            "_dom_classes": [],
            "description": "",
            "_model_name": "HTMLModel",
            "placeholder": "​",
            "_view_module": "@jupyter-widgets/controls",
            "_model_module_version": "1.5.0",
            "value": " 0/1 [00:00&lt;?, ?it/s]",
            "_view_count": null,
            "_view_module_version": "1.5.0",
            "description_tooltip": null,
            "_model_module": "@jupyter-widgets/controls",
            "layout": "IPY_MODEL_3de0c957af4348b28d3236f5faa6f1e5"
          }
        },
        "3d8d28d5d93645beb6ccab6d2c4461c3": {
          "model_module": "@jupyter-widgets/controls",
          "model_name": "ProgressStyleModel",
          "state": {
            "_view_name": "StyleView",
            "_model_name": "ProgressStyleModel",
            "description_width": "initial",
            "_view_module": "@jupyter-widgets/base",
            "_model_module_version": "1.5.0",
            "_view_count": null,
            "_view_module_version": "1.2.0",
            "bar_color": null,
            "_model_module": "@jupyter-widgets/controls"
          }
        },
        "7671e3975c3140bdaeeee3f3ed432782": {
          "model_module": "@jupyter-widgets/base",
          "model_name": "LayoutModel",
          "state": {
            "_view_name": "LayoutView",
            "grid_template_rows": null,
            "right": null,
            "justify_content": null,
            "_view_module": "@jupyter-widgets/base",
            "overflow": null,
            "_model_module_version": "1.2.0",
            "_view_count": null,
            "flex_flow": null,
            "width": null,
            "min_width": null,
            "border": null,
            "align_items": null,
            "bottom": null,
            "_model_module": "@jupyter-widgets/base",
            "top": null,
            "grid_column": null,
            "overflow_y": null,
            "overflow_x": null,
            "grid_auto_flow": null,
            "grid_area": null,
            "grid_template_columns": null,
            "flex": null,
            "_model_name": "LayoutModel",
            "justify_items": null,
            "grid_row": null,
            "max_height": null,
            "align_content": null,
            "visibility": null,
            "align_self": null,
            "height": null,
            "min_height": null,
            "padding": null,
            "grid_auto_rows": null,
            "grid_gap": null,
            "max_width": null,
            "order": null,
            "_view_module_version": "1.2.0",
            "grid_template_areas": null,
            "object_position": null,
            "object_fit": null,
            "grid_auto_columns": null,
            "margin": null,
            "display": null,
            "left": null
          }
        },
        "ac26625d4e624b0a9380f09a16f0e8b0": {
          "model_module": "@jupyter-widgets/controls",
          "model_name": "DescriptionStyleModel",
          "state": {
            "_view_name": "StyleView",
            "_model_name": "DescriptionStyleModel",
            "description_width": "",
            "_view_module": "@jupyter-widgets/base",
            "_model_module_version": "1.5.0",
            "_view_count": null,
            "_view_module_version": "1.2.0",
            "_model_module": "@jupyter-widgets/controls"
          }
        },
        "3de0c957af4348b28d3236f5faa6f1e5": {
          "model_module": "@jupyter-widgets/base",
          "model_name": "LayoutModel",
          "state": {
            "_view_name": "LayoutView",
            "grid_template_rows": null,
            "right": null,
            "justify_content": null,
            "_view_module": "@jupyter-widgets/base",
            "overflow": null,
            "_model_module_version": "1.2.0",
            "_view_count": null,
            "flex_flow": null,
            "width": null,
            "min_width": null,
            "border": null,
            "align_items": null,
            "bottom": null,
            "_model_module": "@jupyter-widgets/base",
            "top": null,
            "grid_column": null,
            "overflow_y": null,
            "overflow_x": null,
            "grid_auto_flow": null,
            "grid_area": null,
            "grid_template_columns": null,
            "flex": null,
            "_model_name": "LayoutModel",
            "justify_items": null,
            "grid_row": null,
            "max_height": null,
            "align_content": null,
            "visibility": null,
            "align_self": null,
            "height": null,
            "min_height": null,
            "padding": null,
            "grid_auto_rows": null,
            "grid_gap": null,
            "max_width": null,
            "order": null,
            "_view_module_version": "1.2.0",
            "grid_template_areas": null,
            "object_position": null,
            "object_fit": null,
            "grid_auto_columns": null,
            "margin": null,
            "display": null,
            "left": null
          }
        }
      }
    }
  },
  "cells": [
    {
      "cell_type": "markdown",
      "metadata": {
        "id": "medical-kingston"
      },
      "source": [
        "# DALL-E - Generating Images from Text"
      ],
      "id": "medical-kingston"
    },
    {
      "cell_type": "markdown",
      "metadata": {
        "id": "talented-ancient"
      },
      "source": [
        "* [DALLE-pytorch](https://github.com/lucidrains/DALLE-pytorch)"
      ],
      "id": "talented-ancient"
    },
    {
      "cell_type": "code",
      "metadata": {
        "id": "fuzzy-continuity"
      },
      "source": [
        "COLAB = True"
      ],
      "id": "fuzzy-continuity",
      "execution_count": 1,
      "outputs": []
    },
    {
      "cell_type": "code",
      "metadata": {
        "colab": {
          "base_uri": "https://localhost:8080/"
        },
        "id": "advisory-confirmation",
        "outputId": "d975a1d7-825a-4f13-d32f-0db607fcb4b3"
      },
      "source": [
        "# --- Remember to change the runtime to use GPU for better performance\n",
        "if COLAB:\n",
        "    !nvidia-smi\n",
        "    !git clone https://github.com/alpha2phi/jupyter-notebooks.git\n",
        "    \n",
        "!pip install -Uqq dalle-pytorch"
      ],
      "id": "advisory-confirmation",
      "execution_count": 4,
      "outputs": [
        {
          "output_type": "stream",
          "text": [
            "Thu Mar 25 00:57:52 2021       \n",
            "+-----------------------------------------------------------------------------+\n",
            "| NVIDIA-SMI 460.56       Driver Version: 460.32.03    CUDA Version: 11.2     |\n",
            "|-------------------------------+----------------------+----------------------+\n",
            "| GPU  Name        Persistence-M| Bus-Id        Disp.A | Volatile Uncorr. ECC |\n",
            "| Fan  Temp  Perf  Pwr:Usage/Cap|         Memory-Usage | GPU-Util  Compute M. |\n",
            "|                               |                      |               MIG M. |\n",
            "|===============================+======================+======================|\n",
            "|   0  Tesla T4            Off  | 00000000:00:04.0 Off |                    0 |\n",
            "| N/A   49C    P8     9W /  70W |      0MiB / 15109MiB |      0%      Default |\n",
            "|                               |                      |                  N/A |\n",
            "+-------------------------------+----------------------+----------------------+\n",
            "                                                                               \n",
            "+-----------------------------------------------------------------------------+\n",
            "| Processes:                                                                  |\n",
            "|  GPU   GI   CI        PID   Type   Process name                  GPU Memory |\n",
            "|        ID   ID                                                   Usage      |\n",
            "|=============================================================================|\n",
            "|  No running processes found                                                 |\n",
            "+-----------------------------------------------------------------------------+\n",
            "Cloning into 'jupyter-notebooks'...\n",
            "remote: Enumerating objects: 146, done.\u001b[K\n",
            "remote: Counting objects: 100% (146/146), done.\u001b[K\n",
            "remote: Compressing objects: 100% (112/112), done.\u001b[K\n",
            "remote: Total 146 (delta 56), reused 116 (delta 28), pack-reused 0\u001b[K\n",
            "Receiving objects: 100% (146/146), 14.17 MiB | 26.67 MiB/s, done.\n",
            "Resolving deltas: 100% (56/56), done.\n",
            "\u001b[K     |████████████████████████████████| 1.4MB 7.5MB/s \n",
            "\u001b[K     |████████████████████████████████| 51kB 7.7MB/s \n",
            "\u001b[K     |████████████████████████████████| 71kB 9.7MB/s \n",
            "\u001b[K     |████████████████████████████████| 829kB 25.6MB/s \n",
            "\u001b[K     |████████████████████████████████| 61kB 9.0MB/s \n",
            "\u001b[K     |████████████████████████████████| 21.6MB 1.6MB/s \n",
            "\u001b[K     |████████████████████████████████| 184kB 58.5MB/s \n",
            "\u001b[K     |████████████████████████████████| 829kB 59.0MB/s \n",
            "\u001b[K     |████████████████████████████████| 112kB 56.3MB/s \n",
            "\u001b[K     |████████████████████████████████| 276kB 58.5MB/s \n",
            "\u001b[K     |████████████████████████████████| 1.9MB 51.1MB/s \n",
            "\u001b[K     |████████████████████████████████| 747kB 53.9MB/s \n",
            "\u001b[K     |████████████████████████████████| 1.3MB 53.6MB/s \n",
            "\u001b[K     |████████████████████████████████| 296kB 53.1MB/s \n",
            "\u001b[K     |████████████████████████████████| 143kB 59.5MB/s \n",
            "\u001b[?25h  Building wheel for ftfy (setup.py) ... \u001b[?25l\u001b[?25hdone\n",
            "  Building wheel for axial-positional-embedding (setup.py) ... \u001b[?25l\u001b[?25hdone\n",
            "  Building wheel for future (setup.py) ... \u001b[?25l\u001b[?25hdone\n",
            "  Building wheel for PyYAML (setup.py) ... \u001b[?25l\u001b[?25hdone\n",
            "\u001b[31mERROR: blobfile 1.1.1 has requirement urllib3~=1.25, but you'll have urllib3 1.24.3 which is incompatible.\u001b[0m\n"
          ],
          "name": "stdout"
        }
      ]
    },
    {
      "cell_type": "code",
      "metadata": {
        "id": "valuable-cosmetic"
      },
      "source": [
        "%load_ext autoreload\n",
        "%autoreload 2"
      ],
      "id": "valuable-cosmetic",
      "execution_count": 5,
      "outputs": []
    },
    {
      "cell_type": "code",
      "metadata": {
        "id": "reserved-weight"
      },
      "source": [
        "import logging\n",
        "import torch\n",
        "import numpy as np\n",
        "import math\n",
        "import itertools\n",
        "import os\n",
        "import glob\n",
        "\n",
        "import numpy as np\n",
        "import matplotlib.pyplot as plt\n",
        "import matplotlib.colors as mcolors\n",
        "%config InlineBackend.figure_format = 'retina'\n",
        "from PIL import Image\n",
        "from tqdm.autonotebook import tqdm, trange\n",
        "import torch\n",
        "from dalle_pytorch import OpenAIDiscreteVAE, DALLE\n",
        "\n",
        "logging.basicConfig(\n",
        "    format=\"%(asctime)s %(levelname)-8s %(message)s\",\n",
        "    level=logging.INFO,\n",
        "    datefmt=\"%Y-%m-%d %H:%M:%S\",\n",
        ")"
      ],
      "id": "reserved-weight",
      "execution_count": 6,
      "outputs": []
    },
    {
      "cell_type": "code",
      "metadata": {
        "colab": {
          "base_uri": "https://localhost:8080/"
        },
        "id": "referenced-likelihood",
        "outputId": "a0116eb8-8c95-4f6b-b14b-d4a81ea945b5"
      },
      "source": [
        "# Load ImageNet labels\n",
        "captions = []\n",
        "\n",
        "if COLAB:\n",
        "  with open(\"jupyter-notebooks/nbs/test_data/imagenet_labels.txt\", \"r\") as f:\n",
        "      captions = [[s.strip(' \"\"\\r\\n')] for s in f.readlines()]\n",
        "else:\n",
        "  with open(\"test_data/imagenet_labels.txt\", \"r\") as f:\n",
        "      captions = [[s.strip(' \"\"\\r\\n')] for s in f.readlines()]\n",
        "\n",
        "logging.info(captions)"
      ],
      "id": "referenced-likelihood",
      "execution_count": 7,
      "outputs": [
        {
          "output_type": "stream",
          "text": [
            "2021-03-25 00:58:17 INFO     [['tench, Tinca tinca'], ['goldfish, Carassius auratus'], ['great white shark, white shark, man-eater, man-eating shark, Carcharodon carcharias'], ['tiger shark, Galeocerdo cuvieri'], ['hammerhead, hammerhead shark'], ['electric ray, crampfish, numbfish, torpedo'], ['stingray'], ['cock'], ['hen'], ['ostrich, Struthio camelus'], ['brambling, Fringilla montifringilla'], ['goldfinch, Carduelis carduelis'], ['house finch, linnet, Carpodacus mexicanus'], ['junco, snowbird'], ['indigo bunting, indigo finch, indigo bird, Passerina cyanea'], ['robin, American robin, Turdus migratorius'], ['bulbul'], ['jay'], ['magpie'], ['chickadee'], ['water ouzel, dipper'], ['kite'], ['bald eagle, American eagle, Haliaeetus leucocephalus'], ['vulture'], ['great grey owl, great gray owl, Strix nebulosa'], ['European fire salamander, Salamandra salamandra'], ['common newt, Triturus vulgaris'], ['eft'], ['spotted salamander, Ambystoma maculatum'], ['axolotl, mud puppy, Ambystoma mexicanum'], ['bullfrog, Rana catesbeiana'], ['tree frog, tree-frog'], ['tailed frog, bell toad, ribbed toad, tailed toad, Ascaphus trui'], ['loggerhead, loggerhead turtle, Caretta caretta'], ['leatherback turtle, leatherback, leathery turtle, Dermochelys coriacea'], ['mud turtle'], ['terrapin'], ['box turtle, box tortoise'], ['banded gecko'], ['common iguana, iguana, Iguana iguana'], ['American chameleon, anole, Anolis carolinensis'], ['whiptail, whiptail lizard'], ['agama'], ['frilled lizard, Chlamydosaurus kingi'], ['alligator lizard'], ['Gila monster, Heloderma suspectum'], ['green lizard, Lacerta viridis'], ['African chameleon, Chamaeleo chamaeleon'], ['Komodo dragon, Komodo lizard, dragon lizard, giant lizard, Varanus komodoensis'], ['African crocodile, Nile crocodile, Crocodylus niloticus'], ['American alligator, Alligator mississipiensis'], ['triceratops'], ['thunder snake, worm snake, Carphophis amoenus'], ['ringneck snake, ring-necked snake, ring snake'], ['hognose snake, puff adder, sand viper'], ['green snake, grass snake'], ['king snake, kingsnake'], ['garter snake, grass snake'], ['water snake'], ['vine snake'], ['night snake, Hypsiglena torquata'], ['boa constrictor, Constrictor constrictor'], ['rock python, rock snake, Python sebae'], ['Indian cobra, Naja naja'], ['green mamba'], ['sea snake'], ['horned viper, cerastes, sand viper, horned asp, Cerastes cornutus'], ['diamondback, diamondback rattlesnake, Crotalus adamanteus'], ['sidewinder, horned rattlesnake, Crotalus cerastes'], ['trilobite'], ['harvestman, daddy longlegs, Phalangium opilio'], ['scorpion'], ['black and gold garden spider, Argiope aurantia'], ['barn spider, Araneus cavaticus'], ['garden spider, Aranea diademata'], ['black widow, Latrodectus mactans'], ['tarantula'], ['wolf spider, hunting spider'], ['tick'], ['centipede'], ['black grouse'], ['ptarmigan'], ['ruffed grouse, partridge, Bonasa umbellus'], ['prairie chicken, prairie grouse, prairie fowl'], ['peacock'], ['quail'], ['partridge'], ['African grey, African gray, Psittacus erithacus'], ['macaw'], ['sulphur-crested cockatoo, Kakatoe galerita, Cacatua galerita'], ['lorikeet'], ['coucal'], ['bee eater'], ['hornbill'], ['hummingbird'], ['jacamar'], ['toucan'], ['drake'], ['red-breasted merganser, Mergus serrator'], ['goose'], ['black swan, Cygnus atratus'], ['tusker'], ['echidna, spiny anteater, anteater'], ['platypus, duckbill, duckbilled platypus, duck-billed platypus, Ornithorhynchus anatinus'], ['wallaby, brush kangaroo'], ['koala, koala bear, kangaroo bear, native bear, Phascolarctos cinereus'], ['wombat'], ['jellyfish'], ['sea anemone, anemone'], ['brain coral'], ['flatworm, platyhelminth'], ['nematode, nematode worm, roundworm'], ['conch'], ['snail'], ['slug'], ['sea slug, nudibranch'], ['chiton, coat-of-mail shell, sea cradle, polyplacophore'], ['chambered nautilus, pearly nautilus, nautilus'], ['Dungeness crab, Cancer magister'], ['rock crab, Cancer irroratus'], ['fiddler crab'], ['king crab, Alaska crab, Alaskan king crab, Alaska king crab, Paralithodes camtschatica'], ['American lobster, Northern lobster, Maine lobster, Homarus americanus'], ['spiny lobster, langouste, rock lobster, crawfish, crayfish, sea crawfish'], ['crayfish, crawfish, crawdad, crawdaddy'], ['hermit crab'], ['isopod'], ['white stork, Ciconia ciconia'], ['black stork, Ciconia nigra'], ['spoonbill'], ['flamingo'], ['little blue heron, Egretta caerulea'], ['American egret, great white heron, Egretta albus'], ['bittern'], ['crane'], ['limpkin, Aramus pictus'], ['European gallinule, Porphyrio porphyrio'], ['American coot, marsh hen, mud hen, water hen, Fulica americana'], ['bustard'], ['ruddy turnstone, Arenaria interpres'], ['red-backed sandpiper, dunlin, Erolia alpina'], ['redshank, Tringa totanus'], ['dowitcher'], ['oystercatcher, oyster catcher'], ['pelican'], ['king penguin, Aptenodytes patagonica'], ['albatross, mollymawk'], ['grey whale, gray whale, devilfish, Eschrichtius gibbosus, Eschrichtius robustus'], ['killer whale, killer, orca, grampus, sea wolf, Orcinus orca'], ['dugong, Dugong dugon'], ['sea lion'], ['Chihuahua'], ['Japanese spaniel'], ['Maltese dog, Maltese terrier, Maltese'], ['Pekinese, Pekingese, Peke'], ['Shih-Tzu'], ['Blenheim spaniel'], ['papillon'], ['toy terrier'], ['Rhodesian ridgeback'], ['Afghan hound, Afghan'], ['basset, basset hound'], ['beagle'], ['bloodhound, sleuthhound'], ['bluetick'], ['black-and-tan coonhound'], ['Walker hound, Walker foxhound'], ['English foxhound'], ['redbone'], ['borzoi, Russian wolfhound'], ['Irish wolfhound'], ['Italian greyhound'], ['whippet'], ['Ibizan hound, Ibizan Podenco'], ['Norwegian elkhound, elkhound'], ['otterhound, otter hound'], ['Saluki, gazelle hound'], ['Scottish deerhound, deerhound'], ['Weimaraner'], ['Staffordshire bullterrier, Staffordshire bull terrier'], ['American Staffordshire terrier, Staffordshire terrier, American pit bull terrier, pit bull terrier'], ['Bedlington terrier'], ['Border terrier'], ['Kerry blue terrier'], ['Irish terrier'], ['Norfolk terrier'], ['Norwich terrier'], ['Yorkshire terrier'], ['wire-haired fox terrier'], ['Lakeland terrier'], ['Sealyham terrier, Sealyham'], ['Airedale, Airedale terrier'], ['cairn, cairn terrier'], ['Australian terrier'], ['Dandie Dinmont, Dandie Dinmont terrier'], ['Boston bull, Boston terrier'], ['miniature schnauzer'], ['giant schnauzer'], ['standard schnauzer'], ['Scotch terrier, Scottish terrier, Scottie'], ['Tibetan terrier, chrysanthemum dog'], ['silky terrier, Sydney silky'], ['soft-coated wheaten terrier'], ['West Highland white terrier'], ['Lhasa, Lhasa apso'], ['flat-coated retriever'], ['curly-coated retriever'], ['golden retriever'], ['Labrador retriever'], ['Chesapeake Bay retriever'], ['German short-haired pointer'], ['vizsla, Hungarian pointer'], ['English setter'], ['Irish setter, red setter'], ['Gordon setter'], ['Brittany spaniel'], ['clumber, clumber spaniel'], ['English springer, English springer spaniel'], ['Welsh springer spaniel'], ['cocker spaniel, English cocker spaniel, cocker'], ['Sussex spaniel'], ['Irish water spaniel'], ['kuvasz'], ['schipperke'], ['groenendael'], ['malinois'], ['briard'], ['kelpie'], ['komondor'], ['Old English sheepdog, bobtail'], ['Shetland sheepdog, Shetland sheep dog, Shetland'], ['collie'], ['Border collie'], ['Bouvier des Flandres, Bouviers des Flandres'], ['Rottweiler'], ['German shepherd, German shepherd dog, German police dog, alsatian'], ['Doberman, Doberman pinscher'], ['miniature pinscher'], ['Greater Swiss Mountain dog'], ['Bernese mountain dog'], ['Appenzeller'], ['EntleBucher'], ['boxer'], ['bull mastiff'], ['Tibetan mastiff'], ['French bulldog'], ['Great Dane'], ['Saint Bernard, St Bernard'], ['Eskimo dog, husky'], ['malamute, malemute, Alaskan malamute'], ['Siberian husky'], ['dalmatian, coach dog, carriage dog'], ['affenpinscher, monkey pinscher, monkey dog'], ['basenji'], ['pug, pug-dog'], ['Leonberg'], ['Newfoundland, Newfoundland dog'], ['Great Pyrenees'], ['Samoyed, Samoyede'], ['Pomeranian'], ['chow, chow chow'], ['keeshond'], ['Brabancon griffon'], ['Pembroke, Pembroke Welsh corgi'], ['Cardigan, Cardigan Welsh corgi'], ['toy poodle'], ['miniature poodle'], ['standard poodle'], ['Mexican hairless'], ['timber wolf, grey wolf, gray wolf, Canis lupus'], ['white wolf, Arctic wolf, Canis lupus tundrarum'], ['red wolf, maned wolf, Canis rufus, Canis niger'], ['coyote, prairie wolf, brush wolf, Canis latrans'], ['dingo, warrigal, warragal, Canis dingo'], ['dhole, Cuon alpinus'], ['African hunting dog, hyena dog, Cape hunting dog, Lycaon pictus'], ['hyena, hyaena'], ['red fox, Vulpes vulpes'], ['kit fox, Vulpes macrotis'], ['Arctic fox, white fox, Alopex lagopus'], ['grey fox, gray fox, Urocyon cinereoargenteus'], ['tabby, tabby cat'], ['tiger cat'], ['Persian cat'], ['Siamese cat, Siamese'], ['Egyptian cat'], ['cougar, puma, catamount, mountain lion, painter, panther, Felis concolor'], ['lynx, catamount'], ['leopard, Panthera pardus'], ['snow leopard, ounce, Panthera uncia'], ['jaguar, panther, Panthera onca, Felis onca'], ['lion, king of beasts, Panthera leo'], ['tiger, Panthera tigris'], ['cheetah, chetah, Acinonyx jubatus'], ['brown bear, bruin, Ursus arctos'], ['American black bear, black bear, Ursus americanus, Euarctos americanus'], ['ice bear, polar bear, Ursus Maritimus, Thalarctos maritimus'], ['sloth bear, Melursus ursinus, Ursus ursinus'], ['mongoose'], ['meerkat, mierkat'], ['tiger beetle'], ['ladybug, ladybeetle, lady beetle, ladybird, ladybird beetle'], ['ground beetle, carabid beetle'], ['long-horned beetle, longicorn, longicorn beetle'], ['leaf beetle, chrysomelid'], ['dung beetle'], ['rhinoceros beetle'], ['weevil'], ['fly'], ['bee'], ['ant, emmet, pismire'], ['grasshopper, hopper'], ['cricket'], ['walking stick, walkingstick, stick insect'], ['cockroach, roach'], ['mantis, mantid'], ['cicada, cicala'], ['leafhopper'], ['lacewing, lacewing fly'], ['dragonfly, darning needle, devil\\'s darning needle, sewing needle, snake feeder, snake doctor, mosquito hawk, skeeter hawk\",'], ['damselfly'], ['admiral'], ['ringlet, ringlet butterfly'], ['monarch, monarch butterfly, milkweed butterfly, Danaus plexippus'], ['cabbage butterfly'], ['sulphur butterfly, sulfur butterfly'], ['lycaenid, lycaenid butterfly'], ['starfish, sea star'], ['sea urchin'], ['sea cucumber, holothurian'], ['wood rabbit, cottontail, cottontail rabbit'], ['hare'], ['Angora, Angora rabbit'], ['hamster'], ['porcupine, hedgehog'], ['fox squirrel, eastern fox squirrel, Sciurus niger'], ['marmot'], ['beaver'], ['guinea pig, Cavia cobaya'], ['sorrel'], ['zebra'], ['hog, pig, grunter, squealer, Sus scrofa'], ['wild boar, boar, Sus scrofa'], ['warthog'], ['hippopotamus, hippo, river horse, Hippopotamus amphibius'], ['ox'], ['water buffalo, water ox, Asiatic buffalo, Bubalus bubalis'], ['bison'], ['ram, tup'], ['bighorn, bighorn sheep, cimarron, Rocky Mountain bighorn, Rocky Mountain sheep, Ovis canadensis'], ['ibex, Capra ibex'], ['hartebeest'], ['impala, Aepyceros melampus'], ['gazelle'], ['Arabian camel, dromedary, Camelus dromedarius'], ['llama'], ['weasel'], ['mink'], ['polecat, fitch, foulmart, foumart, Mustela putorius'], ['black-footed ferret, ferret, Mustela nigripes'], ['otter'], ['skunk, polecat, wood pussy'], ['badger'], ['armadillo'], ['three-toed sloth, ai, Bradypus tridactylus'], ['orangutan, orang, orangutang, Pongo pygmaeus'], ['gorilla, Gorilla gorilla'], ['chimpanzee, chimp, Pan troglodytes'], ['gibbon, Hylobates lar'], ['siamang, Hylobates syndactylus, Symphalangus syndactylus'], ['guenon, guenon monkey'], ['patas, hussar monkey, Erythrocebus patas'], ['baboon'], ['macaque'], ['langur'], ['colobus, colobus monkey'], ['proboscis monkey, Nasalis larvatus'], ['marmoset'], ['capuchin, ringtail, Cebus capucinus'], ['howler monkey, howler'], ['titi, titi monkey'], ['spider monkey, Ateles geoffroyi'], ['squirrel monkey, Saimiri sciureus'], ['Madagascar cat, ring-tailed lemur, Lemur catta'], ['indri, indris, Indri indri, Indri brevicaudatus'], ['Indian elephant, Elephas maximus'], ['African elephant, Loxodonta africana'], ['lesser panda, red panda, panda, bear cat, cat bear, Ailurus fulgens'], ['giant panda, panda, panda bear, coon bear, Ailuropoda melanoleuca'], ['barracouta, snoek'], ['eel'], ['coho, cohoe, coho salmon, blue jack, silver salmon, Oncorhynchus kisutch'], ['rock beauty, Holocanthus tricolor'], ['anemone fish'], ['sturgeon'], ['gar, garfish, garpike, billfish, Lepisosteus osseus'], ['lionfish'], ['puffer, pufferfish, blowfish, globefish'], ['abacus'], ['abaya'], ['academic gown, academic robe, judge\\'s robe\",'], ['accordion, piano accordion, squeeze box'], ['acoustic guitar'], ['aircraft carrier, carrier, flattop, attack aircraft carrier'], ['airliner'], ['airship, dirigible'], ['altar'], ['ambulance'], ['amphibian, amphibious vehicle'], ['analog clock'], ['apiary, bee house'], ['apron'], ['ashcan, trash can, garbage can, wastebin, ash bin, ash-bin, ashbin, dustbin, trash barrel, trash bin'], ['assault rifle, assault gun'], ['backpack, back pack, knapsack, packsack, rucksack, haversack'], ['bakery, bakeshop, bakehouse'], ['balance beam, beam'], ['balloon'], ['ballpoint, ballpoint pen, ballpen, Biro'], ['Band Aid'], ['banjo'], ['bannister, banister, balustrade, balusters, handrail'], ['barbell'], ['barber chair'], ['barbershop'], ['barn'], ['barometer'], ['barrel, cask'], ['barrow, garden cart, lawn cart, wheelbarrow'], ['baseball'], ['basketball'], ['bassinet'], ['bassoon'], ['bathing cap, swimming cap'], ['bath towel'], ['bathtub, bathing tub, bath, tub'], ['beach wagon, station wagon, wagon, estate car, beach waggon, station waggon, waggon'], ['beacon, lighthouse, beacon light, pharos'], ['beaker'], ['bearskin, busby, shako'], ['beer bottle'], ['beer glass'], ['bell cote, bell cot'], ['bib'], ['bicycle-built-for-two, tandem bicycle, tandem'], ['bikini, two-piece'], ['binder, ring-binder'], ['binoculars, field glasses, opera glasses'], ['birdhouse'], ['boathouse'], ['bobsled, bobsleigh, bob'], ['bolo tie, bolo, bola tie, bola'], ['bonnet, poke bonnet'], ['bookcase'], ['bookshop, bookstore, bookstall'], ['bottlecap'], ['bow'], ['bow tie, bow-tie, bowtie'], ['brass, memorial tablet, plaque'], ['brassiere, bra, bandeau'], ['breakwater, groin, groyne, mole, bulwark, seawall, jetty'], ['breastplate, aegis, egis'], ['broom'], ['bucket, pail'], ['buckle'], ['bulletproof vest'], ['bullet train, bullet'], ['butcher shop, meat market'], ['cab, hack, taxi, taxicab'], ['caldron, cauldron'], ['candle, taper, wax light'], ['cannon'], ['canoe'], ['can opener, tin opener'], ['cardigan'], ['car mirror'], ['carousel, carrousel, merry-go-round, roundabout, whirligig'], ['carpenter\\'s kit, tool kit\",'], ['carton'], ['car wheel'], ['cash machine, cash dispenser, automated teller machine, automatic teller machine, automated teller, automatic teller, ATM'], ['cassette'], ['cassette player'], ['castle'], ['catamaran'], ['CD player'], ['cello, violoncello'], ['cellular telephone, cellular phone, cellphone, cell, mobile phone'], ['chain'], ['chainlink fence'], ['chain mail, ring mail, mail, chain armor, chain armour, ring armor, ring armour'], ['chain saw, chainsaw'], ['chest'], ['chiffonier, commode'], ['chime, bell, gong'], ['china cabinet, china closet'], ['Christmas stocking'], ['church, church building'], ['cinema, movie theater, movie theatre, movie house, picture palace'], ['cleaver, meat cleaver, chopper'], ['cliff dwelling'], ['cloak'], ['clog, geta, patten, sabot'], ['cocktail shaker'], ['coffee mug'], ['coffeepot'], ['coil, spiral, volute, whorl, helix'], ['combination lock'], ['computer keyboard, keypad'], ['confectionery, confectionary, candy store'], ['container ship, containership, container vessel'], ['convertible'], ['corkscrew, bottle screw'], ['cornet, horn, trumpet, trump'], ['cowboy boot'], ['cowboy hat, ten-gallon hat'], ['cradle'], ['crane'], ['crash helmet'], ['crate'], ['crib, cot'], ['Crock Pot'], ['croquet ball'], ['crutch'], ['cuirass'], ['dam, dike, dyke'], ['desk'], ['desktop computer'], ['dial telephone, dial phone'], ['diaper, nappy, napkin'], ['digital clock'], ['digital watch'], ['dining table, board'], ['dishrag, dishcloth'], ['dishwasher, dish washer, dishwashing machine'], ['disk brake, disc brake'], ['dock, dockage, docking facility'], ['dogsled, dog sled, dog sleigh'], ['dome'], ['doormat, welcome mat'], ['drilling platform, offshore rig'], ['drum, membranophone, tympan'], ['drumstick'], ['dumbbell'], ['Dutch oven'], ['electric fan, blower'], ['electric guitar'], ['electric locomotive'], ['entertainment center'], ['envelope'], ['espresso maker'], ['face powder'], ['feather boa, boa'], ['file, file cabinet, filing cabinet'], ['fireboat'], ['fire engine, fire truck'], ['fire screen, fireguard'], ['flagpole, flagstaff'], ['flute, transverse flute'], ['folding chair'], ['football helmet'], ['forklift'], ['fountain'], ['fountain pen'], ['four-poster'], ['freight car'], ['French horn, horn'], ['frying pan, frypan, skillet'], ['fur coat'], ['garbage truck, dustcart'], ['gasmask, respirator, gas helmet'], ['gas pump, gasoline pump, petrol pump, island dispenser'], ['goblet'], ['go-kart'], ['golf ball'], ['golfcart, golf cart'], ['gondola'], ['gong, tam-tam'], ['gown'], ['grand piano, grand'], ['greenhouse, nursery, glasshouse'], ['grille, radiator grille'], ['grocery store, grocery, food market, market'], ['guillotine'], ['hair slide'], ['hair spray'], ['half track'], ['hammer'], ['hamper'], ['hand blower, blow dryer, blow drier, hair dryer, hair drier'], ['hand-held computer, hand-held microcomputer'], ['handkerchief, hankie, hanky, hankey'], ['hard disc, hard disk, fixed disk'], ['harmonica, mouth organ, harp, mouth harp'], ['harp'], ['harvester, reaper'], ['hatchet'], ['holster'], ['home theater, home theatre'], ['honeycomb'], ['hook, claw'], ['hoopskirt, crinoline'], ['horizontal bar, high bar'], ['horse cart, horse-cart'], ['hourglass'], ['iPod'], ['iron, smoothing iron'], ['jack-o\\'-lantern\",'], ['jean, blue jean, denim'], ['jeep, landrover'], ['jersey, T-shirt, tee shirt'], ['jigsaw puzzle'], ['jinrikisha, ricksha, rickshaw'], ['joystick'], ['kimono'], ['knee pad'], ['knot'], ['lab coat, laboratory coat'], ['ladle'], ['lampshade, lamp shade'], ['laptop, laptop computer'], ['lawn mower, mower'], ['lens cap, lens cover'], ['letter opener, paper knife, paperknife'], ['library'], ['lifeboat'], ['lighter, light, igniter, ignitor'], ['limousine, limo'], ['liner, ocean liner'], ['lipstick, lip rouge'], ['Loafer'], ['lotion'], ['loudspeaker, speaker, speaker unit, loudspeaker system, speaker system'], ['loupe, jeweler\\'s loupe\",'], ['lumbermill, sawmill'], ['magnetic compass'], ['mailbag, postbag'], ['mailbox, letter box'], ['maillot'], ['maillot, tank suit'], ['manhole cover'], ['maraca'], ['marimba, xylophone'], ['mask'], ['matchstick'], ['maypole'], ['maze, labyrinth'], ['measuring cup'], ['medicine chest, medicine cabinet'], ['megalith, megalithic structure'], ['microphone, mike'], ['microwave, microwave oven'], ['military uniform'], ['milk can'], ['minibus'], ['miniskirt, mini'], ['minivan'], ['missile'], ['mitten'], ['mixing bowl'], ['mobile home, manufactured home'], ['Model T'], ['modem'], ['monastery'], ['monitor'], ['moped'], ['mortar'], ['mortarboard'], ['mosque'], ['mosquito net'], ['motor scooter, scooter'], ['mountain bike, all-terrain bike, off-roader'], ['mountain tent'], ['mouse, computer mouse'], ['mousetrap'], ['moving van'], ['muzzle'], ['nail'], ['neck brace'], ['necklace'], ['nipple'], ['notebook, notebook computer'], ['obelisk'], ['oboe, hautboy, hautbois'], ['ocarina, sweet potato'], ['odometer, hodometer, mileometer, milometer'], ['oil filter'], ['organ, pipe organ'], ['oscilloscope, scope, cathode-ray oscilloscope, CRO'], ['overskirt'], ['oxcart'], ['oxygen mask'], ['packet'], ['paddle, boat paddle'], ['paddlewheel, paddle wheel'], ['padlock'], ['paintbrush'], ['pajama, pyjama, pj\\'s, jammies\",'], ['palace'], ['panpipe, pandean pipe, syrinx'], ['paper towel'], ['parachute, chute'], ['parallel bars, bars'], ['park bench'], ['parking meter'], ['passenger car, coach, carriage'], ['patio, terrace'], ['pay-phone, pay-station'], ['pedestal, plinth, footstall'], ['pencil box, pencil case'], ['pencil sharpener'], ['perfume, essence'], ['Petri dish'], ['photocopier'], ['pick, plectrum, plectron'], ['pickelhaube'], ['picket fence, paling'], ['pickup, pickup truck'], ['pier'], ['piggy bank, penny bank'], ['pill bottle'], ['pillow'], ['ping-pong ball'], ['pinwheel'], ['pirate, pirate ship'], ['pitcher, ewer'], ['plane, carpenter\\'s plane, woodworking plane\",'], ['planetarium'], ['plastic bag'], ['plate rack'], ['plow, plough'], ['plunger, plumber\\'s helper\",'], ['Polaroid camera, Polaroid Land camera'], ['pole'], ['police van, police wagon, paddy wagon, patrol wagon, wagon, black Maria'], ['poncho'], ['pool table, billiard table, snooker table'], ['pop bottle, soda bottle'], ['pot, flowerpot'], ['potter\\'s wheel\",'], ['power drill'], ['prayer rug, prayer mat'], ['printer'], ['prison, prison house'], ['projectile, missile'], ['projector'], ['puck, hockey puck'], ['punching bag, punch bag, punching ball, punchball'], ['purse'], ['quill, quill pen'], ['quilt, comforter, comfort, puff'], ['racer, race car, racing car'], ['racket, racquet'], ['radiator'], ['radio, wireless'], ['radio telescope, radio reflector'], ['rain barrel'], ['recreational vehicle, RV, R.V.'], ['reel'], ['reflex camera'], ['refrigerator, icebox'], ['remote control, remote'], ['restaurant, eating house, eating place, eatery'], ['revolver, six-gun, six-shooter'], ['rifle'], ['rocking chair, rocker'], ['rotisserie'], ['rubber eraser, rubber, pencil eraser'], ['rugby ball'], ['rule, ruler'], ['running shoe'], ['safe'], ['safety pin'], ['saltshaker, salt shaker'], ['sandal'], ['sarong'], ['sax, saxophone'], ['scabbard'], ['scale, weighing machine'], ['school bus'], ['schooner'], ['scoreboard'], ['screen, CRT screen'], ['screw'], ['screwdriver'], ['seat belt, seatbelt'], ['sewing machine'], ['shield, buckler'], ['shoe shop, shoe-shop, shoe store'], ['shoji'], ['shopping basket'], ['shopping cart'], ['shovel'], ['shower cap'], ['shower curtain'], ['ski'], ['ski mask'], ['sleeping bag'], ['slide rule, slipstick'], ['sliding door'], ['slot, one-armed bandit'], ['snorkel'], ['snowmobile'], ['snowplow, snowplough'], ['soap dispenser'], ['soccer ball'], ['sock'], ['solar dish, solar collector, solar furnace'], ['sombrero'], ['soup bowl'], ['space bar'], ['space heater'], ['space shuttle'], ['spatula'], ['speedboat'], ['spider web, spider\\'s web\",'], ['spindle'], ['sports car, sport car'], ['spotlight, spot'], ['stage'], ['steam locomotive'], ['steel arch bridge'], ['steel drum'], ['stethoscope'], ['stole'], ['stone wall'], ['stopwatch, stop watch'], ['stove'], ['strainer'], ['streetcar, tram, tramcar, trolley, trolley car'], ['stretcher'], ['studio couch, day bed'], ['stupa, tope'], ['submarine, pigboat, sub, U-boat'], ['suit, suit of clothes'], ['sundial'], ['sunglass'], ['sunglasses, dark glasses, shades'], ['sunscreen, sunblock, sun blocker'], ['suspension bridge'], ['swab, swob, mop'], ['sweatshirt'], ['swimming trunks, bathing trunks'], ['swing'], ['switch, electric switch, electrical switch'], ['syringe'], ['table lamp'], ['tank, army tank, armored combat vehicle, armoured combat vehicle'], ['tape player'], ['teapot'], ['teddy, teddy bear'], ['television, television system'], ['tennis ball'], ['thatch, thatched roof'], ['theater curtain, theatre curtain'], ['thimble'], ['thresher, thrasher, threshing machine'], ['throne'], ['tile roof'], ['toaster'], ['tobacco shop, tobacconist shop, tobacconist'], ['toilet seat'], ['torch'], ['totem pole'], ['tow truck, tow car, wrecker'], ['toyshop'], ['tractor'], ['trailer truck, tractor trailer, trucking rig, rig, articulated lorry, semi'], ['tray'], ['trench coat'], ['tricycle, trike, velocipede'], ['trimaran'], ['tripod'], ['triumphal arch'], ['trolleybus, trolley coach, trackless trolley'], ['trombone'], ['tub, vat'], ['turnstile'], ['typewriter keyboard'], ['umbrella'], ['unicycle, monocycle'], ['upright, upright piano'], ['vacuum, vacuum cleaner'], ['vase'], ['vault'], ['velvet'], ['vending machine'], ['vestment'], ['viaduct'], ['violin, fiddle'], ['volleyball'], ['waffle iron'], ['wall clock'], ['wallet, billfold, notecase, pocketbook'], ['wardrobe, closet, press'], ['warplane, military plane'], ['washbasin, handbasin, washbowl, lavabo, wash-hand basin'], ['washer, automatic washer, washing machine'], ['water bottle'], ['water jug'], ['water tower'], ['whiskey jug'], ['whistle'], ['wig'], ['window screen'], ['window shade'], ['Windsor tie'], ['wine bottle'], ['wing'], ['wok'], ['wooden spoon'], ['wool, woolen, woollen'], ['worm fence, snake fence, snake-rail fence, Virginia fence'], ['wreck'], ['yawl'], ['yurt'], ['web site, website, internet site, site'], ['comic book'], ['crossword puzzle, crossword'], ['street sign'], ['traffic light, traffic signal, stoplight'], ['book jacket, dust cover, dust jacket, dust wrapper'], ['menu'], ['plate'], ['guacamole'], ['consomme'], ['hot pot, hotpot'], ['trifle'], ['ice cream, icecream'], ['ice lolly, lolly, lollipop, popsicle'], ['French loaf'], ['bagel, beigel'], ['pretzel'], ['cheeseburger'], ['hotdog, hot dog, red hot'], ['mashed potato'], ['head cabbage'], ['broccoli'], ['cauliflower'], ['zucchini, courgette'], ['spaghetti squash'], ['acorn squash'], ['butternut squash'], ['cucumber, cuke'], ['artichoke, globe artichoke'], ['bell pepper'], ['cardoon'], ['mushroom'], ['Granny Smith'], ['strawberry'], ['orange'], ['lemon'], ['fig'], ['pineapple, ananas'], ['banana'], ['jackfruit, jak, jack'], ['custard apple'], ['pomegranate'], ['hay'], ['carbonara'], ['chocolate sauce, chocolate syrup'], ['dough'], ['meat loaf, meatloaf'], ['pizza, pizza pie'], ['potpie'], ['burrito'], ['red wine'], ['espresso'], ['cup'], ['eggnog'], ['alp'], ['bubble'], ['cliff, drop, drop-off'], ['coral reef'], ['geyser'], ['lakeside, lakeshore'], ['promontory, headland, head, foreland'], ['sandbar, sand bar'], ['seashore, coast, seacoast, sea-coast'], ['valley, vale'], ['volcano'], ['ballplayer, baseball player'], ['groom, bridegroom'], ['scuba diver'], ['rapeseed'], ['daisy'], ['yellow lady\\'s slipper, yellow lady-slipper, Cypripedium calceolus, Cypripedium parviflorum\",'], ['corn'], ['acorn'], ['hip, rose hip, rosehip'], ['buckeye, horse chestnut, conker'], ['coral fungus'], ['agaric'], ['gyromitra'], ['stinkhorn, carrion fungus'], ['earthstar'], ['hen-of-the-woods, hen of the woods, Polyporus frondosus, Grifola frondosa'], ['bolete'], ['ear, spike, capitulum'], ['toilet tissue, toilet paper, bathroom tissue']]\n"
          ],
          "name": "stderr"
        }
      ]
    },
    {
      "cell_type": "code",
      "metadata": {
        "id": "italian-andrew",
        "colab": {
          "base_uri": "https://localhost:8080/"
        },
        "outputId": "a3543c27-2969-4946-91b0-196b65abb9ff"
      },
      "source": [
        "# Load OpenAI VAE\n",
        "vae = OpenAIDiscreteVAE().cuda()"
      ],
      "id": "italian-andrew",
      "execution_count": 8,
      "outputs": [
        {
          "output_type": "stream",
          "text": [
            "100%|███████████████████████| 215185363/215185363 [00:14<00:00, 15153619.13it/s]\n",
            "100%|████████████████████████| 175360231/175360231 [00:21<00:00, 8188420.75it/s]\n"
          ],
          "name": "stderr"
        }
      ]
    },
    {
      "cell_type": "code",
      "metadata": {
        "colab": {
          "base_uri": "https://localhost:8080/"
        },
        "id": "H5-jkKNfYzkB",
        "outputId": "3dd4a09d-f425-41c7-f50d-8a55b5e9439d"
      },
      "source": [
        "all_words = list(sorted(frozenset(sum(captions, []))))\n",
        "word_tokens = dict(zip(all_words, range(1, len(all_words) + 1)))\n",
        "caption_tokens = [[word_tokens[w] for w in c] for c in captions]\n",
        "\n",
        "logging.info(f\"{all_words}\")\n",
        "logging.info(f\"{len(word_tokens)}\")\n",
        "logging.info(len(caption_tokens))\n",
        "\n",
        "longest_caption = max(len(c) for c in captions)\n",
        "captions_array = np.zeros((len(caption_tokens), longest_caption), dtype=np.int64)\n",
        "for i in range(len(caption_tokens)):\n",
        "    captions_array[i, : len(caption_tokens[i])] = caption_tokens[i]\n",
        "\n",
        "captions_array = torch.from_numpy(captions_array).cuda()\n",
        "captions_mask = captions_array != 0\n",
        "\n",
        "dalle = DALLE(\n",
        "    dim = 1024,\n",
        "    vae = vae,                                 # automatically infer (1) image sequence length and (2) number of image tokens\n",
        "    num_text_tokens = len(word_tokens) + 1,    # vocab size for text\n",
        "    text_seq_len = longest_caption,            # text sequence length\n",
        "    depth = 8,                 # should aim to be 64\n",
        "    heads = 2,                 # attention heads\n",
        "    dim_head = 64,              # attention head dimension\n",
        "    attn_dropout = 0.1,         # attention dropout\n",
        "    ff_dropout = 0.1            # feedforward dropout\n",
        ").cuda()"
      ],
      "id": "H5-jkKNfYzkB",
      "execution_count": 9,
      "outputs": [
        {
          "output_type": "stream",
          "text": [
            "2021-03-25 00:59:04 INFO     ['Afghan hound, Afghan', 'African chameleon, Chamaeleo chamaeleon', 'African crocodile, Nile crocodile, Crocodylus niloticus', 'African elephant, Loxodonta africana', 'African grey, African gray, Psittacus erithacus', 'African hunting dog, hyena dog, Cape hunting dog, Lycaon pictus', 'Airedale, Airedale terrier', 'American Staffordshire terrier, Staffordshire terrier, American pit bull terrier, pit bull terrier', 'American alligator, Alligator mississipiensis', 'American black bear, black bear, Ursus americanus, Euarctos americanus', 'American chameleon, anole, Anolis carolinensis', 'American coot, marsh hen, mud hen, water hen, Fulica americana', 'American egret, great white heron, Egretta albus', 'American lobster, Northern lobster, Maine lobster, Homarus americanus', 'Angora, Angora rabbit', 'Appenzeller', 'Arabian camel, dromedary, Camelus dromedarius', 'Arctic fox, white fox, Alopex lagopus', 'Australian terrier', 'Band Aid', 'Bedlington terrier', 'Bernese mountain dog', 'Blenheim spaniel', 'Border collie', 'Border terrier', 'Boston bull, Boston terrier', 'Bouvier des Flandres, Bouviers des Flandres', 'Brabancon griffon', 'Brittany spaniel', 'CD player', 'Cardigan, Cardigan Welsh corgi', 'Chesapeake Bay retriever', 'Chihuahua', 'Christmas stocking', 'Crock Pot', 'Dandie Dinmont, Dandie Dinmont terrier', 'Doberman, Doberman pinscher', 'Dungeness crab, Cancer magister', 'Dutch oven', 'Egyptian cat', 'English foxhound', 'English setter', 'English springer, English springer spaniel', 'EntleBucher', 'Eskimo dog, husky', 'European fire salamander, Salamandra salamandra', 'European gallinule, Porphyrio porphyrio', 'French bulldog', 'French horn, horn', 'French loaf', 'German shepherd, German shepherd dog, German police dog, alsatian', 'German short-haired pointer', 'Gila monster, Heloderma suspectum', 'Gordon setter', 'Granny Smith', 'Great Dane', 'Great Pyrenees', 'Greater Swiss Mountain dog', 'Ibizan hound, Ibizan Podenco', 'Indian cobra, Naja naja', 'Indian elephant, Elephas maximus', 'Irish setter, red setter', 'Irish terrier', 'Irish water spaniel', 'Irish wolfhound', 'Italian greyhound', 'Japanese spaniel', 'Kerry blue terrier', 'Komodo dragon, Komodo lizard, dragon lizard, giant lizard, Varanus komodoensis', 'Labrador retriever', 'Lakeland terrier', 'Leonberg', 'Lhasa, Lhasa apso', 'Loafer', 'Madagascar cat, ring-tailed lemur, Lemur catta', 'Maltese dog, Maltese terrier, Maltese', 'Mexican hairless', 'Model T', 'Newfoundland, Newfoundland dog', 'Norfolk terrier', 'Norwegian elkhound, elkhound', 'Norwich terrier', 'Old English sheepdog, bobtail', 'Pekinese, Pekingese, Peke', 'Pembroke, Pembroke Welsh corgi', 'Persian cat', 'Petri dish', 'Polaroid camera, Polaroid Land camera', 'Pomeranian', 'Rhodesian ridgeback', 'Rottweiler', 'Saint Bernard, St Bernard', 'Saluki, gazelle hound', 'Samoyed, Samoyede', 'Scotch terrier, Scottish terrier, Scottie', 'Scottish deerhound, deerhound', 'Sealyham terrier, Sealyham', 'Shetland sheepdog, Shetland sheep dog, Shetland', 'Shih-Tzu', 'Siamese cat, Siamese', 'Siberian husky', 'Staffordshire bullterrier, Staffordshire bull terrier', 'Sussex spaniel', 'Tibetan mastiff', 'Tibetan terrier, chrysanthemum dog', 'Walker hound, Walker foxhound', 'Weimaraner', 'Welsh springer spaniel', 'West Highland white terrier', 'Windsor tie', 'Yorkshire terrier', 'abacus', 'abaya', 'academic gown, academic robe, judge\\'s robe\",', 'accordion, piano accordion, squeeze box', 'acorn', 'acorn squash', 'acoustic guitar', 'admiral', 'affenpinscher, monkey pinscher, monkey dog', 'agama', 'agaric', 'aircraft carrier, carrier, flattop, attack aircraft carrier', 'airliner', 'airship, dirigible', 'albatross, mollymawk', 'alligator lizard', 'alp', 'altar', 'ambulance', 'amphibian, amphibious vehicle', 'analog clock', 'anemone fish', 'ant, emmet, pismire', 'apiary, bee house', 'apron', 'armadillo', 'artichoke, globe artichoke', 'ashcan, trash can, garbage can, wastebin, ash bin, ash-bin, ashbin, dustbin, trash barrel, trash bin', 'assault rifle, assault gun', 'axolotl, mud puppy, Ambystoma mexicanum', 'baboon', 'backpack, back pack, knapsack, packsack, rucksack, haversack', 'badger', 'bagel, beigel', 'bakery, bakeshop, bakehouse', 'balance beam, beam', 'bald eagle, American eagle, Haliaeetus leucocephalus', 'balloon', 'ballplayer, baseball player', 'ballpoint, ballpoint pen, ballpen, Biro', 'banana', 'banded gecko', 'banjo', 'bannister, banister, balustrade, balusters, handrail', 'barbell', 'barber chair', 'barbershop', 'barn', 'barn spider, Araneus cavaticus', 'barometer', 'barracouta, snoek', 'barrel, cask', 'barrow, garden cart, lawn cart, wheelbarrow', 'baseball', 'basenji', 'basketball', 'basset, basset hound', 'bassinet', 'bassoon', 'bath towel', 'bathing cap, swimming cap', 'bathtub, bathing tub, bath, tub', 'beach wagon, station wagon, wagon, estate car, beach waggon, station waggon, waggon', 'beacon, lighthouse, beacon light, pharos', 'beagle', 'beaker', 'bearskin, busby, shako', 'beaver', 'bee', 'bee eater', 'beer bottle', 'beer glass', 'bell cote, bell cot', 'bell pepper', 'bib', 'bicycle-built-for-two, tandem bicycle, tandem', 'bighorn, bighorn sheep, cimarron, Rocky Mountain bighorn, Rocky Mountain sheep, Ovis canadensis', 'bikini, two-piece', 'binder, ring-binder', 'binoculars, field glasses, opera glasses', 'birdhouse', 'bison', 'bittern', 'black and gold garden spider, Argiope aurantia', 'black grouse', 'black stork, Ciconia nigra', 'black swan, Cygnus atratus', 'black widow, Latrodectus mactans', 'black-and-tan coonhound', 'black-footed ferret, ferret, Mustela nigripes', 'bloodhound, sleuthhound', 'bluetick', 'boa constrictor, Constrictor constrictor', 'boathouse', 'bobsled, bobsleigh, bob', 'bolete', 'bolo tie, bolo, bola tie, bola', 'bonnet, poke bonnet', 'book jacket, dust cover, dust jacket, dust wrapper', 'bookcase', 'bookshop, bookstore, bookstall', 'borzoi, Russian wolfhound', 'bottlecap', 'bow', 'bow tie, bow-tie, bowtie', 'box turtle, box tortoise', 'boxer', 'brain coral', 'brambling, Fringilla montifringilla', 'brass, memorial tablet, plaque', 'brassiere, bra, bandeau', 'breakwater, groin, groyne, mole, bulwark, seawall, jetty', 'breastplate, aegis, egis', 'briard', 'broccoli', 'broom', 'brown bear, bruin, Ursus arctos', 'bubble', 'bucket, pail', 'buckeye, horse chestnut, conker', 'buckle', 'bulbul', 'bull mastiff', 'bullet train, bullet', 'bulletproof vest', 'bullfrog, Rana catesbeiana', 'burrito', 'bustard', 'butcher shop, meat market', 'butternut squash', 'cab, hack, taxi, taxicab', 'cabbage butterfly', 'cairn, cairn terrier', 'caldron, cauldron', 'can opener, tin opener', 'candle, taper, wax light', 'cannon', 'canoe', 'capuchin, ringtail, Cebus capucinus', 'car mirror', 'car wheel', 'carbonara', 'cardigan', 'cardoon', 'carousel, carrousel, merry-go-round, roundabout, whirligig', 'carpenter\\'s kit, tool kit\",', 'carton', 'cash machine, cash dispenser, automated teller machine, automatic teller machine, automated teller, automatic teller, ATM', 'cassette', 'cassette player', 'castle', 'catamaran', 'cauliflower', 'cello, violoncello', 'cellular telephone, cellular phone, cellphone, cell, mobile phone', 'centipede', 'chain', 'chain mail, ring mail, mail, chain armor, chain armour, ring armor, ring armour', 'chain saw, chainsaw', 'chainlink fence', 'chambered nautilus, pearly nautilus, nautilus', 'cheeseburger', 'cheetah, chetah, Acinonyx jubatus', 'chest', 'chickadee', 'chiffonier, commode', 'chime, bell, gong', 'chimpanzee, chimp, Pan troglodytes', 'china cabinet, china closet', 'chiton, coat-of-mail shell, sea cradle, polyplacophore', 'chocolate sauce, chocolate syrup', 'chow, chow chow', 'church, church building', 'cicada, cicala', 'cinema, movie theater, movie theatre, movie house, picture palace', 'cleaver, meat cleaver, chopper', 'cliff dwelling', 'cliff, drop, drop-off', 'cloak', 'clog, geta, patten, sabot', 'clumber, clumber spaniel', 'cock', 'cocker spaniel, English cocker spaniel, cocker', 'cockroach, roach', 'cocktail shaker', 'coffee mug', 'coffeepot', 'coho, cohoe, coho salmon, blue jack, silver salmon, Oncorhynchus kisutch', 'coil, spiral, volute, whorl, helix', 'collie', 'colobus, colobus monkey', 'combination lock', 'comic book', 'common iguana, iguana, Iguana iguana', 'common newt, Triturus vulgaris', 'computer keyboard, keypad', 'conch', 'confectionery, confectionary, candy store', 'consomme', 'container ship, containership, container vessel', 'convertible', 'coral fungus', 'coral reef', 'corkscrew, bottle screw', 'corn', 'cornet, horn, trumpet, trump', 'coucal', 'cougar, puma, catamount, mountain lion, painter, panther, Felis concolor', 'cowboy boot', 'cowboy hat, ten-gallon hat', 'coyote, prairie wolf, brush wolf, Canis latrans', 'cradle', 'crane', 'crash helmet', 'crate', 'crayfish, crawfish, crawdad, crawdaddy', 'crib, cot', 'cricket', 'croquet ball', 'crossword puzzle, crossword', 'crutch', 'cucumber, cuke', 'cuirass', 'cup', 'curly-coated retriever', 'custard apple', 'daisy', 'dalmatian, coach dog, carriage dog', 'dam, dike, dyke', 'damselfly', 'desk', 'desktop computer', 'dhole, Cuon alpinus', 'dial telephone, dial phone', 'diamondback, diamondback rattlesnake, Crotalus adamanteus', 'diaper, nappy, napkin', 'digital clock', 'digital watch', 'dingo, warrigal, warragal, Canis dingo', 'dining table, board', 'dishrag, dishcloth', 'dishwasher, dish washer, dishwashing machine', 'disk brake, disc brake', 'dock, dockage, docking facility', 'dogsled, dog sled, dog sleigh', 'dome', 'doormat, welcome mat', 'dough', 'dowitcher', 'dragonfly, darning needle, devil\\'s darning needle, sewing needle, snake feeder, snake doctor, mosquito hawk, skeeter hawk\",', 'drake', 'drilling platform, offshore rig', 'drum, membranophone, tympan', 'drumstick', 'dugong, Dugong dugon', 'dumbbell', 'dung beetle', 'ear, spike, capitulum', 'earthstar', 'echidna, spiny anteater, anteater', 'eel', 'eft', 'eggnog', 'electric fan, blower', 'electric guitar', 'electric locomotive', 'electric ray, crampfish, numbfish, torpedo', 'entertainment center', 'envelope', 'espresso', 'espresso maker', 'face powder', 'feather boa, boa', 'fiddler crab', 'fig', 'file, file cabinet, filing cabinet', 'fire engine, fire truck', 'fire screen, fireguard', 'fireboat', 'flagpole, flagstaff', 'flamingo', 'flat-coated retriever', 'flatworm, platyhelminth', 'flute, transverse flute', 'fly', 'folding chair', 'football helmet', 'forklift', 'fountain', 'fountain pen', 'four-poster', 'fox squirrel, eastern fox squirrel, Sciurus niger', 'freight car', 'frilled lizard, Chlamydosaurus kingi', 'frying pan, frypan, skillet', 'fur coat', 'gar, garfish, garpike, billfish, Lepisosteus osseus', 'garbage truck, dustcart', 'garden spider, Aranea diademata', 'garter snake, grass snake', 'gas pump, gasoline pump, petrol pump, island dispenser', 'gasmask, respirator, gas helmet', 'gazelle', 'geyser', 'giant panda, panda, panda bear, coon bear, Ailuropoda melanoleuca', 'giant schnauzer', 'gibbon, Hylobates lar', 'go-kart', 'goblet', 'golden retriever', 'goldfinch, Carduelis carduelis', 'goldfish, Carassius auratus', 'golf ball', 'golfcart, golf cart', 'gondola', 'gong, tam-tam', 'goose', 'gorilla, Gorilla gorilla', 'gown', 'grand piano, grand', 'grasshopper, hopper', 'great grey owl, great gray owl, Strix nebulosa', 'great white shark, white shark, man-eater, man-eating shark, Carcharodon carcharias', 'green lizard, Lacerta viridis', 'green mamba', 'green snake, grass snake', 'greenhouse, nursery, glasshouse', 'grey fox, gray fox, Urocyon cinereoargenteus', 'grey whale, gray whale, devilfish, Eschrichtius gibbosus, Eschrichtius robustus', 'grille, radiator grille', 'grocery store, grocery, food market, market', 'groenendael', 'groom, bridegroom', 'ground beetle, carabid beetle', 'guacamole', 'guenon, guenon monkey', 'guillotine', 'guinea pig, Cavia cobaya', 'gyromitra', 'hair slide', 'hair spray', 'half track', 'hammer', 'hammerhead, hammerhead shark', 'hamper', 'hamster', 'hand blower, blow dryer, blow drier, hair dryer, hair drier', 'hand-held computer, hand-held microcomputer', 'handkerchief, hankie, hanky, hankey', 'hard disc, hard disk, fixed disk', 'hare', 'harmonica, mouth organ, harp, mouth harp', 'harp', 'hartebeest', 'harvester, reaper', 'harvestman, daddy longlegs, Phalangium opilio', 'hatchet', 'hay', 'head cabbage', 'hen', 'hen-of-the-woods, hen of the woods, Polyporus frondosus, Grifola frondosa', 'hermit crab', 'hip, rose hip, rosehip', 'hippopotamus, hippo, river horse, Hippopotamus amphibius', 'hog, pig, grunter, squealer, Sus scrofa', 'hognose snake, puff adder, sand viper', 'holster', 'home theater, home theatre', 'honeycomb', 'hook, claw', 'hoopskirt, crinoline', 'horizontal bar, high bar', 'hornbill', 'horned viper, cerastes, sand viper, horned asp, Cerastes cornutus', 'horse cart, horse-cart', 'hot pot, hotpot', 'hotdog, hot dog, red hot', 'hourglass', 'house finch, linnet, Carpodacus mexicanus', 'howler monkey, howler', 'hummingbird', 'hyena, hyaena', 'iPod', 'ibex, Capra ibex', 'ice bear, polar bear, Ursus Maritimus, Thalarctos maritimus', 'ice cream, icecream', 'ice lolly, lolly, lollipop, popsicle', 'impala, Aepyceros melampus', 'indigo bunting, indigo finch, indigo bird, Passerina cyanea', 'indri, indris, Indri indri, Indri brevicaudatus', 'iron, smoothing iron', 'isopod', 'jacamar', 'jack-o\\'-lantern\",', 'jackfruit, jak, jack', 'jaguar, panther, Panthera onca, Felis onca', 'jay', 'jean, blue jean, denim', 'jeep, landrover', 'jellyfish', 'jersey, T-shirt, tee shirt', 'jigsaw puzzle', 'jinrikisha, ricksha, rickshaw', 'joystick', 'junco, snowbird', 'keeshond', 'kelpie', 'killer whale, killer, orca, grampus, sea wolf, Orcinus orca', 'kimono', 'king crab, Alaska crab, Alaskan king crab, Alaska king crab, Paralithodes camtschatica', 'king penguin, Aptenodytes patagonica', 'king snake, kingsnake', 'kit fox, Vulpes macrotis', 'kite', 'knee pad', 'knot', 'koala, koala bear, kangaroo bear, native bear, Phascolarctos cinereus', 'komondor', 'kuvasz', 'lab coat, laboratory coat', 'lacewing, lacewing fly', 'ladle', 'ladybug, ladybeetle, lady beetle, ladybird, ladybird beetle', 'lakeside, lakeshore', 'lampshade, lamp shade', 'langur', 'laptop, laptop computer', 'lawn mower, mower', 'leaf beetle, chrysomelid', 'leafhopper', 'leatherback turtle, leatherback, leathery turtle, Dermochelys coriacea', 'lemon', 'lens cap, lens cover', 'leopard, Panthera pardus', 'lesser panda, red panda, panda, bear cat, cat bear, Ailurus fulgens', 'letter opener, paper knife, paperknife', 'library', 'lifeboat', 'lighter, light, igniter, ignitor', 'limousine, limo', 'limpkin, Aramus pictus', 'liner, ocean liner', 'lion, king of beasts, Panthera leo', 'lionfish', 'lipstick, lip rouge', 'little blue heron, Egretta caerulea', 'llama', 'loggerhead, loggerhead turtle, Caretta caretta', 'long-horned beetle, longicorn, longicorn beetle', 'lorikeet', 'lotion', 'loudspeaker, speaker, speaker unit, loudspeaker system, speaker system', 'loupe, jeweler\\'s loupe\",', 'lumbermill, sawmill', 'lycaenid, lycaenid butterfly', 'lynx, catamount', 'macaque', 'macaw', 'magnetic compass', 'magpie', 'mailbag, postbag', 'mailbox, letter box', 'maillot', 'maillot, tank suit', 'malamute, malemute, Alaskan malamute', 'malinois', 'manhole cover', 'mantis, mantid', 'maraca', 'marimba, xylophone', 'marmoset', 'marmot', 'mashed potato', 'mask', 'matchstick', 'maypole', 'maze, labyrinth', 'measuring cup', 'meat loaf, meatloaf', 'medicine chest, medicine cabinet', 'meerkat, mierkat', 'megalith, megalithic structure', 'menu', 'microphone, mike', 'microwave, microwave oven', 'military uniform', 'milk can', 'miniature pinscher', 'miniature poodle', 'miniature schnauzer', 'minibus', 'miniskirt, mini', 'minivan', 'mink', 'missile', 'mitten', 'mixing bowl', 'mobile home, manufactured home', 'modem', 'monarch, monarch butterfly, milkweed butterfly, Danaus plexippus', 'monastery', 'mongoose', 'monitor', 'moped', 'mortar', 'mortarboard', 'mosque', 'mosquito net', 'motor scooter, scooter', 'mountain bike, all-terrain bike, off-roader', 'mountain tent', 'mouse, computer mouse', 'mousetrap', 'moving van', 'mud turtle', 'mushroom', 'muzzle', 'nail', 'neck brace', 'necklace', 'nematode, nematode worm, roundworm', 'night snake, Hypsiglena torquata', 'nipple', 'notebook, notebook computer', 'obelisk', 'oboe, hautboy, hautbois', 'ocarina, sweet potato', 'odometer, hodometer, mileometer, milometer', 'oil filter', 'orange', 'orangutan, orang, orangutang, Pongo pygmaeus', 'organ, pipe organ', 'oscilloscope, scope, cathode-ray oscilloscope, CRO', 'ostrich, Struthio camelus', 'otter', 'otterhound, otter hound', 'overskirt', 'ox', 'oxcart', 'oxygen mask', 'oystercatcher, oyster catcher', 'packet', 'paddle, boat paddle', 'paddlewheel, paddle wheel', 'padlock', 'paintbrush', 'pajama, pyjama, pj\\'s, jammies\",', 'palace', 'panpipe, pandean pipe, syrinx', 'paper towel', 'papillon', 'parachute, chute', 'parallel bars, bars', 'park bench', 'parking meter', 'partridge', 'passenger car, coach, carriage', 'patas, hussar monkey, Erythrocebus patas', 'patio, terrace', 'pay-phone, pay-station', 'peacock', 'pedestal, plinth, footstall', 'pelican', 'pencil box, pencil case', 'pencil sharpener', 'perfume, essence', 'photocopier', 'pick, plectrum, plectron', 'pickelhaube', 'picket fence, paling', 'pickup, pickup truck', 'pier', 'piggy bank, penny bank', 'pill bottle', 'pillow', 'pineapple, ananas', 'ping-pong ball', 'pinwheel', 'pirate, pirate ship', 'pitcher, ewer', 'pizza, pizza pie', 'plane, carpenter\\'s plane, woodworking plane\",', 'planetarium', 'plastic bag', 'plate', 'plate rack', 'platypus, duckbill, duckbilled platypus, duck-billed platypus, Ornithorhynchus anatinus', 'plow, plough', 'plunger, plumber\\'s helper\",', 'pole', 'polecat, fitch, foulmart, foumart, Mustela putorius', 'police van, police wagon, paddy wagon, patrol wagon, wagon, black Maria', 'pomegranate', 'poncho', 'pool table, billiard table, snooker table', 'pop bottle, soda bottle', 'porcupine, hedgehog', 'pot, flowerpot', 'potpie', 'potter\\'s wheel\",', 'power drill', 'prairie chicken, prairie grouse, prairie fowl', 'prayer rug, prayer mat', 'pretzel', 'printer', 'prison, prison house', 'proboscis monkey, Nasalis larvatus', 'projectile, missile', 'projector', 'promontory, headland, head, foreland', 'ptarmigan', 'puck, hockey puck', 'puffer, pufferfish, blowfish, globefish', 'pug, pug-dog', 'punching bag, punch bag, punching ball, punchball', 'purse', 'quail', 'quill, quill pen', 'quilt, comforter, comfort, puff', 'racer, race car, racing car', 'racket, racquet', 'radiator', 'radio telescope, radio reflector', 'radio, wireless', 'rain barrel', 'ram, tup', 'rapeseed', 'recreational vehicle, RV, R.V.', 'red fox, Vulpes vulpes', 'red wine', 'red wolf, maned wolf, Canis rufus, Canis niger', 'red-backed sandpiper, dunlin, Erolia alpina', 'red-breasted merganser, Mergus serrator', 'redbone', 'redshank, Tringa totanus', 'reel', 'reflex camera', 'refrigerator, icebox', 'remote control, remote', 'restaurant, eating house, eating place, eatery', 'revolver, six-gun, six-shooter', 'rhinoceros beetle', 'rifle', 'ringlet, ringlet butterfly', 'ringneck snake, ring-necked snake, ring snake', 'robin, American robin, Turdus migratorius', 'rock beauty, Holocanthus tricolor', 'rock crab, Cancer irroratus', 'rock python, rock snake, Python sebae', 'rocking chair, rocker', 'rotisserie', 'rubber eraser, rubber, pencil eraser', 'ruddy turnstone, Arenaria interpres', 'ruffed grouse, partridge, Bonasa umbellus', 'rugby ball', 'rule, ruler', 'running shoe', 'safe', 'safety pin', 'saltshaker, salt shaker', 'sandal', 'sandbar, sand bar', 'sarong', 'sax, saxophone', 'scabbard', 'scale, weighing machine', 'schipperke', 'school bus', 'schooner', 'scoreboard', 'scorpion', 'screen, CRT screen', 'screw', 'screwdriver', 'scuba diver', 'sea anemone, anemone', 'sea cucumber, holothurian', 'sea lion', 'sea slug, nudibranch', 'sea snake', 'sea urchin', 'seashore, coast, seacoast, sea-coast', 'seat belt, seatbelt', 'sewing machine', 'shield, buckler', 'shoe shop, shoe-shop, shoe store', 'shoji', 'shopping basket', 'shopping cart', 'shovel', 'shower cap', 'shower curtain', 'siamang, Hylobates syndactylus, Symphalangus syndactylus', 'sidewinder, horned rattlesnake, Crotalus cerastes', 'silky terrier, Sydney silky', 'ski', 'ski mask', 'skunk, polecat, wood pussy', 'sleeping bag', 'slide rule, slipstick', 'sliding door', 'slot, one-armed bandit', 'sloth bear, Melursus ursinus, Ursus ursinus', 'slug', 'snail', 'snorkel', 'snow leopard, ounce, Panthera uncia', 'snowmobile', 'snowplow, snowplough', 'soap dispenser', 'soccer ball', 'sock', 'soft-coated wheaten terrier', 'solar dish, solar collector, solar furnace', 'sombrero', 'sorrel', 'soup bowl', 'space bar', 'space heater', 'space shuttle', 'spaghetti squash', 'spatula', 'speedboat', 'spider monkey, Ateles geoffroyi', 'spider web, spider\\'s web\",', 'spindle', 'spiny lobster, langouste, rock lobster, crawfish, crayfish, sea crawfish', 'spoonbill', 'sports car, sport car', 'spotlight, spot', 'spotted salamander, Ambystoma maculatum', 'squirrel monkey, Saimiri sciureus', 'stage', 'standard poodle', 'standard schnauzer', 'starfish, sea star', 'steam locomotive', 'steel arch bridge', 'steel drum', 'stethoscope', 'stingray', 'stinkhorn, carrion fungus', 'stole', 'stone wall', 'stopwatch, stop watch', 'stove', 'strainer', 'strawberry', 'street sign', 'streetcar, tram, tramcar, trolley, trolley car', 'stretcher', 'studio couch, day bed', 'stupa, tope', 'sturgeon', 'submarine, pigboat, sub, U-boat', 'suit, suit of clothes', 'sulphur butterfly, sulfur butterfly', 'sulphur-crested cockatoo, Kakatoe galerita, Cacatua galerita', 'sundial', 'sunglass', 'sunglasses, dark glasses, shades', 'sunscreen, sunblock, sun blocker', 'suspension bridge', 'swab, swob, mop', 'sweatshirt', 'swimming trunks, bathing trunks', 'swing', 'switch, electric switch, electrical switch', 'syringe', 'tabby, tabby cat', 'table lamp', 'tailed frog, bell toad, ribbed toad, tailed toad, Ascaphus trui', 'tank, army tank, armored combat vehicle, armoured combat vehicle', 'tape player', 'tarantula', 'teapot', 'teddy, teddy bear', 'television, television system', 'tench, Tinca tinca', 'tennis ball', 'terrapin', 'thatch, thatched roof', 'theater curtain, theatre curtain', 'thimble', 'three-toed sloth, ai, Bradypus tridactylus', 'thresher, thrasher, threshing machine', 'throne', 'thunder snake, worm snake, Carphophis amoenus', 'tick', 'tiger beetle', 'tiger cat', 'tiger shark, Galeocerdo cuvieri', 'tiger, Panthera tigris', 'tile roof', 'timber wolf, grey wolf, gray wolf, Canis lupus', 'titi, titi monkey', 'toaster', 'tobacco shop, tobacconist shop, tobacconist', 'toilet seat', 'toilet tissue, toilet paper, bathroom tissue', 'torch', 'totem pole', 'toucan', 'tow truck, tow car, wrecker', 'toy poodle', 'toy terrier', 'toyshop', 'tractor', 'traffic light, traffic signal, stoplight', 'trailer truck, tractor trailer, trucking rig, rig, articulated lorry, semi', 'tray', 'tree frog, tree-frog', 'trench coat', 'triceratops', 'tricycle, trike, velocipede', 'trifle', 'trilobite', 'trimaran', 'tripod', 'triumphal arch', 'trolleybus, trolley coach, trackless trolley', 'trombone', 'tub, vat', 'turnstile', 'tusker', 'typewriter keyboard', 'umbrella', 'unicycle, monocycle', 'upright, upright piano', 'vacuum, vacuum cleaner', 'valley, vale', 'vase', 'vault', 'velvet', 'vending machine', 'vestment', 'viaduct', 'vine snake', 'violin, fiddle', 'vizsla, Hungarian pointer', 'volcano', 'volleyball', 'vulture', 'waffle iron', 'walking stick, walkingstick, stick insect', 'wall clock', 'wallaby, brush kangaroo', 'wallet, billfold, notecase, pocketbook', 'wardrobe, closet, press', 'warplane, military plane', 'warthog', 'washbasin, handbasin, washbowl, lavabo, wash-hand basin', 'washer, automatic washer, washing machine', 'water bottle', 'water buffalo, water ox, Asiatic buffalo, Bubalus bubalis', 'water jug', 'water ouzel, dipper', 'water snake', 'water tower', 'weasel', 'web site, website, internet site, site', 'weevil', 'whippet', 'whiptail, whiptail lizard', 'whiskey jug', 'whistle', 'white stork, Ciconia ciconia', 'white wolf, Arctic wolf, Canis lupus tundrarum', 'wig', 'wild boar, boar, Sus scrofa', 'window screen', 'window shade', 'wine bottle', 'wing', 'wire-haired fox terrier', 'wok', 'wolf spider, hunting spider', 'wombat', 'wood rabbit, cottontail, cottontail rabbit', 'wooden spoon', 'wool, woolen, woollen', 'worm fence, snake fence, snake-rail fence, Virginia fence', 'wreck', 'yawl', 'yellow lady\\'s slipper, yellow lady-slipper, Cypripedium calceolus, Cypripedium parviflorum\",', 'yurt', 'zebra', 'zucchini, courgette']\n",
            "2021-03-25 00:59:04 INFO     999\n",
            "2021-03-25 00:59:04 INFO     1000\n"
          ],
          "name": "stderr"
        }
      ]
    },
    {
      "cell_type": "code",
      "metadata": {
        "id": "powerful-knowing"
      },
      "source": [
        "def generate_images(captions):\n",
        "    generated_images = []\n",
        "    with torch.no_grad():\n",
        "        for i in trange(0, len(captions), 128):\n",
        "            generated = dalle.generate_images(captions_array[i:i + 128, ...], mask=captions_mask[i:i + 128, ...], temperature=0.00001)\n",
        "            generated_images.append(generated)\n",
        "            break\n",
        "          \n",
        "    return torch.cat(generated_images, axis=0).cpu().numpy()"
      ],
      "id": "powerful-knowing",
      "execution_count": 10,
      "outputs": []
    },
    {
      "cell_type": "markdown",
      "metadata": {
        "id": "initial-oracle"
      },
      "source": [
        "## Generate Images"
      ],
      "id": "initial-oracle"
    },
    {
      "cell_type": "code",
      "metadata": {
        "colab": {
          "base_uri": "https://localhost:8080/",
          "height": 49,
          "referenced_widgets": [
            "02dc9022b3b54afb9be8c00e02f09ce8",
            "4712601fc20f4ff59ef53fb10ffb3e25",
            "f577b57d61d245e2a8fc6a1e7c1c7451",
            "4e551163f7b34e8e93f30e9904de408b",
            "3d8d28d5d93645beb6ccab6d2c4461c3",
            "7671e3975c3140bdaeeee3f3ed432782",
            "ac26625d4e624b0a9380f09a16f0e8b0",
            "3de0c957af4348b28d3236f5faa6f1e5"
          ]
        },
        "id": "stable-highlight",
        "outputId": "54f1bb60-3e35-427f-acb0-9011c34014d5"
      },
      "source": [
        "%%timeit\n",
        "generated_images = generate_images(\"blue bear\")"
      ],
      "id": "stable-highlight",
      "execution_count": null,
      "outputs": [
        {
          "output_type": "display_data",
          "data": {
            "application/vnd.jupyter.widget-view+json": {
              "model_id": "02dc9022b3b54afb9be8c00e02f09ce8",
              "version_minor": 0,
              "version_major": 2
            },
            "text/plain": [
              "HBox(children=(FloatProgress(value=0.0, max=1.0), HTML(value='')))"
            ]
          },
          "metadata": {
            "tags": []
          }
        }
      ]
    },
    {
      "cell_type": "code",
      "metadata": {
        "id": "colored-movie"
      },
      "source": [
        "print(generated_images.shape)\n",
        "images = generated_images[0,...].reshape(256,256,3)\n",
        "plt.imshow(images)"
      ],
      "id": "colored-movie",
      "execution_count": null,
      "outputs": []
    },
    {
      "cell_type": "code",
      "metadata": {
        "id": "surprising-employer"
      },
      "source": [
        ""
      ],
      "id": "surprising-employer",
      "execution_count": null,
      "outputs": []
    },
    {
      "cell_type": "code",
      "metadata": {
        "id": "tracked-majority"
      },
      "source": [
        ""
      ],
      "id": "tracked-majority",
      "execution_count": null,
      "outputs": []
    }
  ]
}