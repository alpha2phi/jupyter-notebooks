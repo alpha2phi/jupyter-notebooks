{
 "cells": [
  {
   "cell_type": "markdown",
   "id": "agreed-malaysia",
   "metadata": {},
   "source": [
    "# DALL-E - Generating Images from Text"
   ]
  },
  {
   "cell_type": "code",
   "execution_count": 2,
   "id": "danish-duplicate",
   "metadata": {},
   "outputs": [],
   "source": [
    "COLLAB = True"
   ]
  },
  {
   "cell_type": "code",
   "execution_count": null,
   "id": "turkish-alexander",
   "metadata": {},
   "outputs": [],
   "source": []
  },
  {
   "cell_type": "code",
   "execution_count": null,
   "id": "ambient-renewal",
   "metadata": {},
   "outputs": [],
   "source": [
    "if COLAB:\n",
    "  # --- Remember to change the runtime to use GPU for better performance\n",
    "  !nvidia-smi\n",
    "  !pip install -Uqq ftfy regex tqdm \n",
    "  !rm -rf jupyter-notebooks && git clone https://github.com/alpha2phi/jupyter-notebooks.git \n",
    "  !rm -rf CLIP && cp -R jupyter-notebooks/nbs/CLIP .\n",
    "  !rm -rf test_data && cp -R jupyter-notebooks/nbs/test_data .\n",
    "else:\n",
    "  !pip install -Uqq ftfy regex tqdm torch torchvision"
   ]
  }
 ],
 "metadata": {
  "kernelspec": {
   "display_name": "Python 3",
   "language": "python",
   "name": "python3"
  },
  "language_info": {
   "codemirror_mode": {
    "name": "ipython",
    "version": 3
   },
   "file_extension": ".py",
   "mimetype": "text/x-python",
   "name": "python",
   "nbconvert_exporter": "python",
   "pygments_lexer": "ipython3",
   "version": "3.8.6"
  }
 },
 "nbformat": 4,
 "nbformat_minor": 5
}
