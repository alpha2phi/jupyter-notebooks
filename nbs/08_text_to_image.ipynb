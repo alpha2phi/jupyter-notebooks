{
 "cells": [
  {
   "cell_type": "markdown",
   "id": "exceptional-passing",
   "metadata": {},
   "source": [
    "# Text to Image"
   ]
  },
  {
   "cell_type": "markdown",
   "id": "third-format",
   "metadata": {},
   "source": [
    "## References\n",
    "\n",
    "* [big-sleep](https://github.com/lucidrains/big-sleep)\n",
    "* [deep-daze](https://github.com/lucidrains/deep-daze)"
   ]
  },
  {
   "cell_type": "code",
   "execution_count": 2,
   "id": "moved-canada",
   "metadata": {},
   "outputs": [],
   "source": [
    "COLAB = True"
   ]
  },
  {
   "cell_type": "code",
   "execution_count": 3,
   "id": "upper-cleaning",
   "metadata": {},
   "outputs": [
    {
     "name": "stdout",
     "output_type": "stream",
     "text": [
      "zsh:1: command not found: nvidia-smi\n",
      "Cloning into 'jupyter-notebooks'...\n",
      "remote: Enumerating objects: 154, done.\u001b[K\n",
      "remote: Counting objects: 100% (154/154), done.\u001b[K\n",
      "remote: Compressing objects: 100% (122/122), done.\u001b[K\n",
      "remote: Total 154 (delta 61), reused 117 (delta 26), pack-reused 0\u001b[K\n",
      "Receiving objects: 100% (154/154), 14.20 MiB | 13.62 MiB/s, done.\n",
      "Resolving deltas: 100% (61/61), done.\n"
     ]
    }
   ],
   "source": [
    "# --- Remember to change the runtime to use GPU for better performance\n",
    "if COLAB:\n",
    "    !nvidia-smi\n",
    "    !git clone https://github.com/alpha2phi/jupyter-notebooks.git"
   ]
  },
  {
   "cell_type": "code",
   "execution_count": null,
   "id": "meaning-criticism",
   "metadata": {},
   "outputs": [],
   "source": []
  },
  {
   "cell_type": "code",
   "execution_count": null,
   "id": "disciplinary-frontier",
   "metadata": {},
   "outputs": [],
   "source": []
  }
 ],
 "metadata": {
  "kernelspec": {
   "display_name": "Python 3",
   "language": "python",
   "name": "python3"
  },
  "language_info": {
   "codemirror_mode": {
    "name": "ipython",
    "version": 3
   },
   "file_extension": ".py",
   "mimetype": "text/x-python",
   "name": "python",
   "nbconvert_exporter": "python",
   "pygments_lexer": "ipython3",
   "version": "3.8.6"
  }
 },
 "nbformat": 4,
 "nbformat_minor": 5
}
