{
 "cells": [
  {
   "cell_type": "code",
   "execution_count": 2,
   "metadata": {},
   "outputs": [],
   "source": [
    "from IPython.core.interactiveshell import InteractiveShell\n",
    "from IPython.display import display\n",
    "InteractiveShell.ast_node_interactivity = \"all\""
   ]
  },
  {
   "cell_type": "code",
   "execution_count": 3,
   "metadata": {},
   "outputs": [],
   "source": [
    "%load_ext autoreload\n",
    "%autoreload 2"
   ]
  },
  {
   "cell_type": "code",
   "execution_count": 4,
   "metadata": {},
   "outputs": [],
   "source": [
    "!pip install -Uqq pandas investpy python-dateutil networkx matplotlib scikit-learn great-expectations seaborn"
   ]
  },
  {
   "cell_type": "code",
   "execution_count": 5,
   "metadata": {},
   "outputs": [],
   "source": [
    "import os\n",
    "import time\n",
    "import pandas as pd\n",
    "import matplotlib.pyplot as plt\n",
    "import investpy\n",
    "from pathlib import Path\n",
    "from dateutil.relativedelta import relativedelta\n",
    "from dataclasses import dataclass, field\n",
    "from typing import List"
   ]
  },
  {
   "cell_type": "code",
   "execution_count": 6,
   "metadata": {},
   "outputs": [],
   "source": [
    "%matplotlib inline"
   ]
  },
  {
   "cell_type": "code",
   "execution_count": 7,
   "metadata": {},
   "outputs": [],
   "source": [
    "# Global variables and constants\n",
    "\n",
    "COUNTRY = \"malaysia\"                   # use investpy.get_stock_countries() to list supported countries\n",
    "PAST_YEARS = [2018, 2019, 2020]\n",
    "PE_RATIO = 9\n",
    "EXPECTED_DIVIDENDS_YIELDS_PERCENTAGE = 8\n",
    "DATASET_FOLDER = \"test_data\"\n",
    "TARGET_DATASET_FOLDER = f\"{DATASET_FOLDER}/{COUNTRY}\"\n",
    "STOCKS_DATASET = f\"{TARGET_DATASET_FOLDER}/stocks.csv\"\n",
    "STOCKS_INFO_DATASET = f\"{TARGET_DATASET_FOLDER}/stocks_info.csv\"\n",
    "STOCKS_FINANCE_DATASET = f\"{TARGET_DATASET_FOLDER}/stocks_finance.csv\"\n",
    "STOCKS_DIVIDENDS_DATASET = f\"{TARGET_DATASET_FOLDER}/stocks_dividends.csv\""
   ]
  },
  {
   "cell_type": "code",
   "execution_count": 8,
   "metadata": {},
   "outputs": [],
   "source": [
    "def create_folder(folder):\n",
    "    \"\"\"Create folder if not exists\"\"\"\n",
    "    if not os.path.exists(folder):\n",
    "        os.makedirs(folder)\n",
    "\n",
    "@dataclass\n",
    "class DividendYield:\n",
    "    year:int = 0\n",
    "    percentage: float = 0.0\n",
    "    \n",
    "@dataclass\n",
    "class Stock:\n",
    "    country: str = ''\n",
    "    name: str = ''\n",
    "    symbol: str = ''\n",
    "    pe_ratio: float = 0.0\n",
    "    yields: List[int] = field(default_factory=list)\n",
    "\n",
    "# Create target folder\n",
    "create_folder(TARGET_DATASET_FOLDER)"
   ]
  },
  {
   "cell_type": "code",
   "execution_count": 9,
   "metadata": {},
   "outputs": [
    {
     "name": "stdout",
     "output_type": "stream",
     "text": [
      "<class 'pandas.core.frame.DataFrame'>\n",
      "RangeIndex: 929 entries, 0 to 928\n",
      "Data columns (total 6 columns):\n",
      " #   Column     Non-Null Count  Dtype \n",
      "---  ------     --------------  ----- \n",
      " 0   country    929 non-null    object\n",
      " 1   name       929 non-null    object\n",
      " 2   full_name  929 non-null    object\n",
      " 3   isin       929 non-null    object\n",
      " 4   currency   929 non-null    object\n",
      " 5   symbol     929 non-null    object\n",
      "dtypes: object(6)\n",
      "memory usage: 43.7+ KB\n"
     ]
    }
   ],
   "source": [
    "# Get stocks for the country\n",
    "df_stocks = investpy.get_stocks(country=COUNTRY)\n",
    "df_stocks.info()"
   ]
  },
  {
   "cell_type": "code",
   "execution_count": 10,
   "metadata": {},
   "outputs": [
    {
     "data": {
      "text/html": [
       "<div>\n",
       "<style scoped>\n",
       "    .dataframe tbody tr th:only-of-type {\n",
       "        vertical-align: middle;\n",
       "    }\n",
       "\n",
       "    .dataframe tbody tr th {\n",
       "        vertical-align: top;\n",
       "    }\n",
       "\n",
       "    .dataframe thead th {\n",
       "        text-align: right;\n",
       "    }\n",
       "</style>\n",
       "<table border=\"1\" class=\"dataframe\">\n",
       "  <thead>\n",
       "    <tr style=\"text-align: right;\">\n",
       "      <th></th>\n",
       "      <th>country</th>\n",
       "      <th>name</th>\n",
       "      <th>full_name</th>\n",
       "      <th>isin</th>\n",
       "      <th>currency</th>\n",
       "      <th>symbol</th>\n",
       "    </tr>\n",
       "  </thead>\n",
       "  <tbody>\n",
       "    <tr>\n",
       "      <th>0</th>\n",
       "      <td>malaysia</td>\n",
       "      <td>Media Chinese Int</td>\n",
       "      <td>Media Chinese International Ltd</td>\n",
       "      <td>BMG5959D1048</td>\n",
       "      <td>MYR</td>\n",
       "      <td>MDCH</td>\n",
       "    </tr>\n",
       "    <tr>\n",
       "      <th>1</th>\n",
       "      <td>malaysia</td>\n",
       "      <td>AMMB</td>\n",
       "      <td>AMMB Holdings Bhd</td>\n",
       "      <td>MYL1015OO006</td>\n",
       "      <td>MYR</td>\n",
       "      <td>AMMB</td>\n",
       "    </tr>\n",
       "    <tr>\n",
       "      <th>2</th>\n",
       "      <td>malaysia</td>\n",
       "      <td>CIMB Group</td>\n",
       "      <td>CIMB Group Holdings Bhd</td>\n",
       "      <td>MYL1023OO000</td>\n",
       "      <td>MYR</td>\n",
       "      <td>CIMB</td>\n",
       "    </tr>\n",
       "    <tr>\n",
       "      <th>3</th>\n",
       "      <td>malaysia</td>\n",
       "      <td>RHB Bank</td>\n",
       "      <td>RHB Bank Bhd</td>\n",
       "      <td>MYL1066OO009</td>\n",
       "      <td>MYR</td>\n",
       "      <td>RHBC</td>\n",
       "    </tr>\n",
       "    <tr>\n",
       "      <th>4</th>\n",
       "      <td>malaysia</td>\n",
       "      <td>Hong Leong Financial</td>\n",
       "      <td>Hong Leong Financial Group Bhd</td>\n",
       "      <td>MYL1082OO006</td>\n",
       "      <td>MYR</td>\n",
       "      <td>HLCB</td>\n",
       "    </tr>\n",
       "    <tr>\n",
       "      <th>5</th>\n",
       "      <td>malaysia</td>\n",
       "      <td>Malayan Banking</td>\n",
       "      <td>Malayan Banking Bhd</td>\n",
       "      <td>MYL1155OO000</td>\n",
       "      <td>MYR</td>\n",
       "      <td>MBBM</td>\n",
       "    </tr>\n",
       "    <tr>\n",
       "      <th>6</th>\n",
       "      <td>malaysia</td>\n",
       "      <td>Malaysia Building</td>\n",
       "      <td>Malaysia Building Society Bhd</td>\n",
       "      <td>MYL1171OO007</td>\n",
       "      <td>MYR</td>\n",
       "      <td>MBSS</td>\n",
       "    </tr>\n",
       "    <tr>\n",
       "      <th>7</th>\n",
       "      <td>malaysia</td>\n",
       "      <td>Public Bank</td>\n",
       "      <td>Public Bank Bhd</td>\n",
       "      <td>MYL1295OO004</td>\n",
       "      <td>MYR</td>\n",
       "      <td>PUBM</td>\n",
       "    </tr>\n",
       "    <tr>\n",
       "      <th>8</th>\n",
       "      <td>malaysia</td>\n",
       "      <td>Berjaya Sports Toto</td>\n",
       "      <td>Berjaya Sports Toto Bhd</td>\n",
       "      <td>MYL1562OO007</td>\n",
       "      <td>MYR</td>\n",
       "      <td>BSTB</td>\n",
       "    </tr>\n",
       "    <tr>\n",
       "      <th>9</th>\n",
       "      <td>malaysia</td>\n",
       "      <td>DRB Hicom</td>\n",
       "      <td>DRB - Hicom Bhd</td>\n",
       "      <td>MYL1619OO005</td>\n",
       "      <td>MYR</td>\n",
       "      <td>DRBM</td>\n",
       "    </tr>\n",
       "  </tbody>\n",
       "</table>\n",
       "</div>"
      ],
      "text/plain": [
       "    country                  name                        full_name  \\\n",
       "0  malaysia     Media Chinese Int  Media Chinese International Ltd   \n",
       "1  malaysia                  AMMB                AMMB Holdings Bhd   \n",
       "2  malaysia            CIMB Group          CIMB Group Holdings Bhd   \n",
       "3  malaysia              RHB Bank                     RHB Bank Bhd   \n",
       "4  malaysia  Hong Leong Financial   Hong Leong Financial Group Bhd   \n",
       "5  malaysia       Malayan Banking              Malayan Banking Bhd   \n",
       "6  malaysia     Malaysia Building    Malaysia Building Society Bhd   \n",
       "7  malaysia           Public Bank                  Public Bank Bhd   \n",
       "8  malaysia   Berjaya Sports Toto          Berjaya Sports Toto Bhd   \n",
       "9  malaysia             DRB Hicom                  DRB - Hicom Bhd   \n",
       "\n",
       "           isin currency symbol  \n",
       "0  BMG5959D1048      MYR   MDCH  \n",
       "1  MYL1015OO006      MYR   AMMB  \n",
       "2  MYL1023OO000      MYR   CIMB  \n",
       "3  MYL1066OO009      MYR   RHBC  \n",
       "4  MYL1082OO006      MYR   HLCB  \n",
       "5  MYL1155OO000      MYR   MBBM  \n",
       "6  MYL1171OO007      MYR   MBSS  \n",
       "7  MYL1295OO004      MYR   PUBM  \n",
       "8  MYL1562OO007      MYR   BSTB  \n",
       "9  MYL1619OO005      MYR   DRBM  "
      ]
     },
     "metadata": {},
     "output_type": "display_data"
    }
   ],
   "source": [
    "display(df_stocks.head(10))"
   ]
  },
  {
   "cell_type": "code",
   "execution_count": 11,
   "metadata": {},
   "outputs": [],
   "source": [
    "def save_csv(df, file_name):\n",
    "    df.to_csv(file_name, header=True, index=False)\n",
    "\n",
    "# Save stock list\n",
    "save_csv(df_stocks, STOCKS_DATASET)"
   ]
  },
  {
   "cell_type": "code",
   "execution_count": 30,
   "metadata": {},
   "outputs": [],
   "source": [
    "def get_stock_info(symbol, country):\n",
    "    try:\n",
    "        return investpy.get_stock_information(symbol, country)\n",
    "    except:\n",
    "        return None\n",
    "    \n",
    "def get_stock_dividends(symbol, country):\n",
    "    try:\n",
    "        return investpy.get_stock_dividends(symbol, country)\n",
    "    except:\n",
    "        return None\n",
    "    \n",
    "def read_csv(file):\n",
    "    if not os.path.isfile(file):\n",
    "        return None\n",
    "    return pd.read_csv(file)\n",
    "\n",
    "def download_stocks_info(df):\n",
    "    df_stocks_info = None\n",
    "    count = 0\n",
    "    for _, row in df.iterrows():\n",
    "        count = count + 1\n",
    "        print(f\"{count}/{len(df)}: {row.symbol}-{row['name']}\")\n",
    "        df_stock = get_stock_info(row.symbol, row.country)\n",
    "        if df_stocks_info is None:\n",
    "            df_stocks_info  = df_stock\n",
    "        else:\n",
    "            df_stocks_info = df_stocks_info.append(df_stock)\n",
    "        if count % 10 == 0:\n",
    "            save_csv(df_stocks_info, STOCKS_INFO_DATASET)\n",
    "            time.sleep(3)\n",
    "        \n",
    "def download_stocks_dividends(df):\n",
    "    df_stocks_dividends = None\n",
    "    count = 0\n",
    "    for _, row in df.iterrows():\n",
    "        count = count + 1\n",
    "        print(f\"{count}/{len(df)}: {row.symbol}-{row['name']}\")\n",
    "        df_stock = get_stock_dividends(row.symbol, row.country)\n",
    "        df_stock['symbol'] = row.symbol\n",
    "        if df_stocks_dividends is None:\n",
    "            df_stocks_dividends  = df_stock\n",
    "        else:\n",
    "            df_stocks_dividends = df_stocks_dividends.append(df_stock)\n",
    "        if count % 10 == 0:\n",
    "            save_csv(df_stocks_dividends, STOCKS_DIVIDENDS_DATASET)\n",
    "            time.sleep(3)\n",
    "            break"
   ]
  },
  {
   "cell_type": "code",
   "execution_count": 28,
   "metadata": {},
   "outputs": [
    {
     "name": "stdout",
     "output_type": "stream",
     "text": [
      "1/ 929: MDCH - Media Chinese Int\n",
      "2/ 929: AMMB - AMMB\n",
      "3/ 929: CIMB - CIMB Group\n",
      "4/ 929: RHBC - RHB Bank\n",
      "5/ 929: HLCB - Hong Leong Financial\n",
      "6/ 929: MBBM - Malayan Banking\n",
      "7/ 929: MBSS - Malaysia Building\n",
      "8/ 929: PUBM - Public Bank\n",
      "9/ 929: BSTB - Berjaya Sports Toto\n",
      "10/ 929: DRBM - DRB Hicom\n"
     ]
    }
   ],
   "source": [
    "#download_stocks_info(df_stocks)\n",
    "\n",
    "download_stocks_dividends(df_stocks)"
   ]
  },
  {
   "cell_type": "code",
   "execution_count": null,
   "metadata": {},
   "outputs": [],
   "source": []
  },
  {
   "cell_type": "code",
   "execution_count": null,
   "metadata": {},
   "outputs": [],
   "source": []
  }
 ],
 "metadata": {
  "kernelspec": {
   "display_name": "Python 3 (ipykernel)",
   "language": "python",
   "name": "python3"
  },
  "language_info": {
   "codemirror_mode": {
    "name": "ipython",
    "version": 3
   },
   "file_extension": ".py",
   "mimetype": "text/x-python",
   "name": "python",
   "nbconvert_exporter": "python",
   "pygments_lexer": "ipython3",
   "version": "3.9.5"
  }
 },
 "nbformat": 4,
 "nbformat_minor": 4
}
