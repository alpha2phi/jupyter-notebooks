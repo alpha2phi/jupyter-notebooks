{
 "cells": [
  {
   "cell_type": "code",
   "execution_count": 1,
   "metadata": {},
   "outputs": [],
   "source": [
    "from IPython.core.interactiveshell import InteractiveShell\n",
    "InteractiveShell.ast_node_interactivity = \"all\""
   ]
  },
  {
   "cell_type": "code",
   "execution_count": null,
   "metadata": {},
   "outputs": [],
   "source": [
    "%load_ext autoreload\n",
    "%autoreload 2"
   ]
  },
  {
   "cell_type": "code",
   "execution_count": 1,
   "metadata": {},
   "outputs": [],
   "source": [
    "!pip install -Uqq pandas investpy python-dateutil networkx matplotlib scikit-learn great-expectations seaborn"
   ]
  },
  {
   "cell_type": "code",
   "execution_count": 5,
   "metadata": {},
   "outputs": [],
   "source": [
    "import pandas as pd\n",
    "import matplotlib.pyplot as plt\n",
    "import investpy\n",
    "from pathlib import Path\n",
    "from dateutil.relativedelta import relativedelta"
   ]
  },
  {
   "cell_type": "code",
   "execution_count": 6,
   "metadata": {},
   "outputs": [],
   "source": [
    "%matplotlib inline"
   ]
  },
  {
   "cell_type": "code",
   "execution_count": 11,
   "metadata": {},
   "outputs": [],
   "source": [
    "# Global variables and constants\n",
    "\n",
    "# use investpy.get_stock_countries() to list supported countries\n",
    "COUNTRY = \"united states\" \n",
    "\n",
    "PAST_YEARS = [2018, 2019, 2020]\n",
    "\n",
    "EXPECTED_DIVIDENDS_YIELDS = 15\n"
   ]
  },
  {
   "cell_type": "code",
   "execution_count": 14,
   "metadata": {},
   "outputs": [
    {
     "name": "stdout",
     "output_type": "stream",
     "text": [
      "<class 'pandas.core.frame.DataFrame'>\n",
      "RangeIndex: 4582 entries, 0 to 4581\n",
      "Data columns (total 6 columns):\n",
      " #   Column     Non-Null Count  Dtype \n",
      "---  ------     --------------  ----- \n",
      " 0   country    4582 non-null   object\n",
      " 1   name       4582 non-null   object\n",
      " 2   full_name  4582 non-null   object\n",
      " 3   isin       4582 non-null   object\n",
      " 4   currency   4582 non-null   object\n",
      " 5   symbol     4582 non-null   object\n",
      "dtypes: object(6)\n",
      "memory usage: 214.9+ KB\n"
     ]
    }
   ],
   "source": [
    "# Get stocks for the country\n",
    "stocks = investpy.get_stocks(country=COUNTRY)\n",
    "stocks.info()"
   ]
  },
  {
   "cell_type": "code",
   "execution_count": 15,
   "metadata": {},
   "outputs": [
    {
     "data": {
      "text/html": [
       "<div>\n",
       "<style scoped>\n",
       "    .dataframe tbody tr th:only-of-type {\n",
       "        vertical-align: middle;\n",
       "    }\n",
       "\n",
       "    .dataframe tbody tr th {\n",
       "        vertical-align: top;\n",
       "    }\n",
       "\n",
       "    .dataframe thead th {\n",
       "        text-align: right;\n",
       "    }\n",
       "</style>\n",
       "<table border=\"1\" class=\"dataframe\">\n",
       "  <thead>\n",
       "    <tr style=\"text-align: right;\">\n",
       "      <th></th>\n",
       "      <th>country</th>\n",
       "      <th>name</th>\n",
       "      <th>full_name</th>\n",
       "      <th>isin</th>\n",
       "      <th>currency</th>\n",
       "      <th>symbol</th>\n",
       "    </tr>\n",
       "  </thead>\n",
       "  <tbody>\n",
       "    <tr>\n",
       "      <th>0</th>\n",
       "      <td>united states</td>\n",
       "      <td>Boeing</td>\n",
       "      <td>Boeing Co</td>\n",
       "      <td>US0970231058</td>\n",
       "      <td>USD</td>\n",
       "      <td>BA</td>\n",
       "    </tr>\n",
       "    <tr>\n",
       "      <th>1</th>\n",
       "      <td>united states</td>\n",
       "      <td>General Motors</td>\n",
       "      <td>General Motors Company</td>\n",
       "      <td>US37045V1008</td>\n",
       "      <td>USD</td>\n",
       "      <td>GM</td>\n",
       "    </tr>\n",
       "    <tr>\n",
       "      <th>2</th>\n",
       "      <td>united states</td>\n",
       "      <td>Chevron</td>\n",
       "      <td>Chevron Corp</td>\n",
       "      <td>US1667641005</td>\n",
       "      <td>USD</td>\n",
       "      <td>CVX</td>\n",
       "    </tr>\n",
       "    <tr>\n",
       "      <th>3</th>\n",
       "      <td>united states</td>\n",
       "      <td>Citigroup</td>\n",
       "      <td>Citigroup Inc</td>\n",
       "      <td>US1729674242</td>\n",
       "      <td>USD</td>\n",
       "      <td>C</td>\n",
       "    </tr>\n",
       "    <tr>\n",
       "      <th>4</th>\n",
       "      <td>united states</td>\n",
       "      <td>Bank of America</td>\n",
       "      <td>Bank of America Corp</td>\n",
       "      <td>US0605051046</td>\n",
       "      <td>USD</td>\n",
       "      <td>BAC</td>\n",
       "    </tr>\n",
       "    <tr>\n",
       "      <th>5</th>\n",
       "      <td>united states</td>\n",
       "      <td>AT&amp;T</td>\n",
       "      <td>AT&amp;T Inc</td>\n",
       "      <td>US00206R1023</td>\n",
       "      <td>USD</td>\n",
       "      <td>T</td>\n",
       "    </tr>\n",
       "    <tr>\n",
       "      <th>6</th>\n",
       "      <td>united states</td>\n",
       "      <td>Caterpillar</td>\n",
       "      <td>Caterpillar Inc</td>\n",
       "      <td>US1491231015</td>\n",
       "      <td>USD</td>\n",
       "      <td>CAT</td>\n",
       "    </tr>\n",
       "    <tr>\n",
       "      <th>7</th>\n",
       "      <td>united states</td>\n",
       "      <td>Intel</td>\n",
       "      <td>Intel Corporation</td>\n",
       "      <td>US4581401001</td>\n",
       "      <td>USD</td>\n",
       "      <td>INTC</td>\n",
       "    </tr>\n",
       "    <tr>\n",
       "      <th>8</th>\n",
       "      <td>united states</td>\n",
       "      <td>Microsoft</td>\n",
       "      <td>Microsoft Corporation</td>\n",
       "      <td>US5949181045</td>\n",
       "      <td>USD</td>\n",
       "      <td>MSFT</td>\n",
       "    </tr>\n",
       "    <tr>\n",
       "      <th>9</th>\n",
       "      <td>united states</td>\n",
       "      <td>Alcoa</td>\n",
       "      <td>Alcoa Corp</td>\n",
       "      <td>US0138721065</td>\n",
       "      <td>USD</td>\n",
       "      <td>AA</td>\n",
       "    </tr>\n",
       "  </tbody>\n",
       "</table>\n",
       "</div>"
      ],
      "text/plain": [
       "         country             name               full_name          isin  \\\n",
       "0  united states           Boeing               Boeing Co  US0970231058   \n",
       "1  united states   General Motors  General Motors Company  US37045V1008   \n",
       "2  united states          Chevron            Chevron Corp  US1667641005   \n",
       "3  united states        Citigroup           Citigroup Inc  US1729674242   \n",
       "4  united states  Bank of America    Bank of America Corp  US0605051046   \n",
       "5  united states             AT&T                AT&T Inc  US00206R1023   \n",
       "6  united states      Caterpillar         Caterpillar Inc  US1491231015   \n",
       "7  united states            Intel       Intel Corporation  US4581401001   \n",
       "8  united states        Microsoft   Microsoft Corporation  US5949181045   \n",
       "9  united states            Alcoa              Alcoa Corp  US0138721065   \n",
       "\n",
       "  currency symbol  \n",
       "0      USD     BA  \n",
       "1      USD     GM  \n",
       "2      USD    CVX  \n",
       "3      USD      C  \n",
       "4      USD    BAC  \n",
       "5      USD      T  \n",
       "6      USD    CAT  \n",
       "7      USD   INTC  \n",
       "8      USD   MSFT  \n",
       "9      USD     AA  "
      ]
     },
     "execution_count": 15,
     "metadata": {},
     "output_type": "execute_result"
    }
   ],
   "source": [
    "stocks.head(10)"
   ]
  },
  {
   "cell_type": "code",
   "execution_count": 17,
   "metadata": {},
   "outputs": [
    {
     "data": {
      "text/html": [
       "<div>\n",
       "<style scoped>\n",
       "    .dataframe tbody tr th:only-of-type {\n",
       "        vertical-align: middle;\n",
       "    }\n",
       "\n",
       "    .dataframe tbody tr th {\n",
       "        vertical-align: top;\n",
       "    }\n",
       "\n",
       "    .dataframe thead th {\n",
       "        text-align: right;\n",
       "    }\n",
       "</style>\n",
       "<table border=\"1\" class=\"dataframe\">\n",
       "  <thead>\n",
       "    <tr style=\"text-align: right;\">\n",
       "      <th></th>\n",
       "      <th>Stock Symbol</th>\n",
       "      <th>Prev. Close</th>\n",
       "      <th>Todays Range</th>\n",
       "      <th>Revenue</th>\n",
       "      <th>Open</th>\n",
       "      <th>52 wk Range</th>\n",
       "      <th>EPS</th>\n",
       "      <th>Volume</th>\n",
       "      <th>Market Cap</th>\n",
       "      <th>Dividend (Yield)</th>\n",
       "      <th>Average Vol. (3m)</th>\n",
       "      <th>P/E Ratio</th>\n",
       "      <th>Beta</th>\n",
       "      <th>1-Year Change</th>\n",
       "      <th>Shares Outstanding</th>\n",
       "      <th>Next Earnings Date</th>\n",
       "    </tr>\n",
       "  </thead>\n",
       "  <tbody>\n",
       "    <tr>\n",
       "      <th>0</th>\n",
       "      <td>AAPL</td>\n",
       "      <td>131.01</td>\n",
       "      <td>126.55 - 129.73</td>\n",
       "      <td>2.745200e+11</td>\n",
       "      <td>127.53</td>\n",
       "      <td>53.15 - 138.78</td>\n",
       "      <td>3.27</td>\n",
       "      <td>51958779.0</td>\n",
       "      <td>2.227410e+12</td>\n",
       "      <td>0.82 (0.63%)</td>\n",
       "      <td>114251602.0</td>\n",
       "      <td>40.1</td>\n",
       "      <td>1.27</td>\n",
       "      <td>74.8%</td>\n",
       "      <td>1.700180e+10</td>\n",
       "      <td>02/02/2021</td>\n",
       "    </tr>\n",
       "  </tbody>\n",
       "</table>\n",
       "</div>"
      ],
      "text/plain": [
       "  Stock Symbol  Prev. Close     Todays Range       Revenue    Open  \\\n",
       "0         AAPL       131.01  126.55 - 129.73  2.745200e+11  127.53   \n",
       "\n",
       "      52 wk Range   EPS      Volume    Market Cap Dividend (Yield)  \\\n",
       "0  53.15 - 138.78  3.27  51958779.0  2.227410e+12     0.82 (0.63%)   \n",
       "\n",
       "   Average Vol. (3m)  P/E Ratio  Beta 1-Year Change  Shares Outstanding  \\\n",
       "0        114251602.0       40.1  1.27         74.8%        1.700180e+10   \n",
       "\n",
       "  Next Earnings Date  \n",
       "0         02/02/2021  "
      ]
     },
     "execution_count": 17,
     "metadata": {},
     "output_type": "execute_result"
    }
   ],
   "source": [
    "investpy.get_stock_information(\"AAPL\", COUNTRY)"
   ]
  },
  {
   "cell_type": "code",
   "execution_count": 18,
   "metadata": {},
   "outputs": [
    {
     "data": {
      "text/plain": [
       "{'url': 'https://www.investing.com/equities/apple-computer-inc-company-profile',\n",
       " 'desc': \"Apple Inc. designs, manufactures and markets mobile communication and media devices, personal computers and portable digital music players. The Company sells a range of related software, services, accessories, networking solutions, and third-party digital content and applications. The Company's segments include the Americas, Europe, Greater China, Japan and Rest of Asia Pacific. The Americas segment includes both North and South America. The Europe segment includes European countries, India, the Middle East and Africa. The Greater China segment includes China, Hong Kong and Taiwan. The Rest of Asia Pacific segment includes Australia and the Asian countries not included in the Company's other operating segments. Its products and services include iPhone, iPad, Mac, iPod, Apple Watch, Apple TV, a portfolio of consumer and professional software applications, iPhone OS (iOS), OS X and watchOS operating systems, iCloud, Apple Pay and a range of accessory, service and support offerings.\"}"
      ]
     },
     "execution_count": 18,
     "metadata": {},
     "output_type": "execute_result"
    }
   ],
   "source": [
    "investpy.get_stock_company_profile(\"AAPL\", COUNTRY)"
   ]
  },
  {
   "cell_type": "code",
   "execution_count": null,
   "metadata": {},
   "outputs": [],
   "source": []
  }
 ],
 "metadata": {
  "kernelspec": {
   "display_name": "Python 3",
   "language": "python",
   "name": "python3"
  },
  "language_info": {
   "codemirror_mode": {
    "name": "ipython",
    "version": 3
   },
   "file_extension": ".py",
   "mimetype": "text/x-python",
   "name": "python",
   "nbconvert_exporter": "python",
   "pygments_lexer": "ipython3",
   "version": "3.8.3"
  }
 },
 "nbformat": 4,
 "nbformat_minor": 4
}
